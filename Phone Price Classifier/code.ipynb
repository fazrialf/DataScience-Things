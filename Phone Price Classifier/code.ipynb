{
  "nbformat": 4,
  "nbformat_minor": 0,
  "metadata": {
    "colab": {
      "name": "FinalProject (1).ipynb",
      "provenance": [],
      "collapsed_sections": []
    },
    "kernelspec": {
      "display_name": "Python 3",
      "language": "python",
      "name": "python3"
    },
    "language_info": {
      "codemirror_mode": {
        "name": "ipython",
        "version": 3
      },
      "file_extension": ".py",
      "mimetype": "text/x-python",
      "name": "python",
      "nbconvert_exporter": "python",
      "pygments_lexer": "ipython3",
      "version": "3.8.2"
    }
  },
  "cells": [
    {
      "cell_type": "code",
      "metadata": {
        "id": "hKjIgLgPsf7F"
      },
      "source": [
        "import pandas as pd\n",
        "import numpy as np\n",
        "import matplotlib.pyplot as plt\n",
        "import warnings\n",
        "import seaborn as sns\n",
        "\n",
        "from sklearn.neighbors import KNeighborsClassifier\n",
        "from sklearn.model_selection import StratifiedShuffleSplit, RandomizedSearchCV, GridSearchCV, train_test_split\n",
        "from sklearn.preprocessing import StandardScaler, LabelEncoder\n",
        "from sklearn.metrics import classification_report, accuracy_score, log_loss, roc_auc_score, f1_score\n",
        "from sklearn.svm import SVC\n",
        "from sklearn.tree import DecisionTreeClassifier\n",
        "from sklearn.ensemble import RandomForestClassifier, AdaBoostClassifier, GradientBoostingClassifier\n",
        "from sklearn.naive_bayes import GaussianNB\n",
        "from sklearn.discriminant_analysis import LinearDiscriminantAnalysis, QuadraticDiscriminantAnalysis\n",
        "from sklearn.linear_model import LogisticRegression"
      ],
      "execution_count": null,
      "outputs": []
    },
    {
      "cell_type": "code",
      "metadata": {
        "id": "HsftKPPlNKnN"
      },
      "source": [
        "warnings.filterwarnings(\"ignore\")"
      ],
      "execution_count": null,
      "outputs": []
    },
    {
      "cell_type": "code",
      "metadata": {
        "colab": {
          "base_uri": "https://localhost:8080/"
        },
        "id": "8P126IT6peEc",
        "outputId": "805b4cb9-4865-4138-82b4-fb2d2c556605"
      },
      "source": [
        "from google.colab import drive\n",
        "drive.mount('/content/drive')"
      ],
      "execution_count": null,
      "outputs": [
        {
          "output_type": "stream",
          "text": [
            "Drive already mounted at /content/drive; to attempt to forcibly remount, call drive.mount(\"/content/drive\", force_remount=True).\n"
          ],
          "name": "stdout"
        }
      ]
    },
    {
      "cell_type": "code",
      "metadata": {
        "id": "rpQ7HRLrs9oG"
      },
      "source": [
        "dataTrain = pd.read_csv('/content/drive/MyDrive/Google SpreadSheet/train (2).csv')\n",
        "dataTest = pd.read_csv('/content/drive/MyDrive/Google SpreadSheet/test (2).csv')"
      ],
      "execution_count": null,
      "outputs": []
    },
    {
      "cell_type": "code",
      "metadata": {
        "colab": {
          "base_uri": "https://localhost:8080/",
          "height": 470
        },
        "id": "HH8giJqPtF8O",
        "outputId": "7b861944-3ed3-4cd7-9d5e-006e7039eb71"
      },
      "source": [
        "dataTrain"
      ],
      "execution_count": null,
      "outputs": [
        {
          "output_type": "execute_result",
          "data": {
            "text/html": [
              "<div>\n",
              "<style scoped>\n",
              "    .dataframe tbody tr th:only-of-type {\n",
              "        vertical-align: middle;\n",
              "    }\n",
              "\n",
              "    .dataframe tbody tr th {\n",
              "        vertical-align: top;\n",
              "    }\n",
              "\n",
              "    .dataframe thead th {\n",
              "        text-align: right;\n",
              "    }\n",
              "</style>\n",
              "<table border=\"1\" class=\"dataframe\">\n",
              "  <thead>\n",
              "    <tr style=\"text-align: right;\">\n",
              "      <th></th>\n",
              "      <th>index</th>\n",
              "      <th>daya_baterai</th>\n",
              "      <th>bluetooth</th>\n",
              "      <th>kecepatan_clock</th>\n",
              "      <th>dual_sim</th>\n",
              "      <th>kamera_depan</th>\n",
              "      <th>four_g</th>\n",
              "      <th>memori_internal</th>\n",
              "      <th>tebal_hp</th>\n",
              "      <th>berat_hp</th>\n",
              "      <th>jumlah_prosesor</th>\n",
              "      <th>kamera_belakang_mp</th>\n",
              "      <th>px_panjang</th>\n",
              "      <th>px_lebar</th>\n",
              "      <th>kapasitas_ram</th>\n",
              "      <th>panjang_layar</th>\n",
              "      <th>lebar_layar</th>\n",
              "      <th>waktu_telfon</th>\n",
              "      <th>three_g</th>\n",
              "      <th>touch_screen</th>\n",
              "      <th>wifi</th>\n",
              "      <th>price_range</th>\n",
              "    </tr>\n",
              "  </thead>\n",
              "  <tbody>\n",
              "    <tr>\n",
              "      <th>0</th>\n",
              "      <td>1045</td>\n",
              "      <td>531</td>\n",
              "      <td>0</td>\n",
              "      <td>1.1</td>\n",
              "      <td>0</td>\n",
              "      <td>10</td>\n",
              "      <td>Tidak</td>\n",
              "      <td>63</td>\n",
              "      <td>0.7</td>\n",
              "      <td>189</td>\n",
              "      <td>7</td>\n",
              "      <td>14</td>\n",
              "      <td>145</td>\n",
              "      <td>1903</td>\n",
              "      <td>2958</td>\n",
              "      <td>17.0</td>\n",
              "      <td>1</td>\n",
              "      <td>19</td>\n",
              "      <td>0</td>\n",
              "      <td>1</td>\n",
              "      <td>0</td>\n",
              "      <td>2000k-3000k</td>\n",
              "    </tr>\n",
              "    <tr>\n",
              "      <th>1</th>\n",
              "      <td>937</td>\n",
              "      <td>764</td>\n",
              "      <td>1</td>\n",
              "      <td>1.2</td>\n",
              "      <td>1</td>\n",
              "      <td>1</td>\n",
              "      <td>Tidak</td>\n",
              "      <td>13</td>\n",
              "      <td>1.0</td>\n",
              "      <td>152</td>\n",
              "      <td>8</td>\n",
              "      <td>2</td>\n",
              "      <td>361</td>\n",
              "      <td>511</td>\n",
              "      <td>3148</td>\n",
              "      <td>18.0</td>\n",
              "      <td>7</td>\n",
              "      <td>6</td>\n",
              "      <td>1</td>\n",
              "      <td>1</td>\n",
              "      <td>0</td>\n",
              "      <td>2000k-3000k</td>\n",
              "    </tr>\n",
              "    <tr>\n",
              "      <th>2</th>\n",
              "      <td>1658</td>\n",
              "      <td>1812</td>\n",
              "      <td>1</td>\n",
              "      <td>1.3</td>\n",
              "      <td>1</td>\n",
              "      <td>4</td>\n",
              "      <td>Ya</td>\n",
              "      <td>42</td>\n",
              "      <td>1.0</td>\n",
              "      <td>162</td>\n",
              "      <td>7</td>\n",
              "      <td>15</td>\n",
              "      <td>380</td>\n",
              "      <td>1550</td>\n",
              "      <td>3338</td>\n",
              "      <td>18.0</td>\n",
              "      <td>13</td>\n",
              "      <td>11</td>\n",
              "      <td>1</td>\n",
              "      <td>1</td>\n",
              "      <td>1</td>\n",
              "      <td>&gt;3000k</td>\n",
              "    </tr>\n",
              "    <tr>\n",
              "      <th>3</th>\n",
              "      <td>529</td>\n",
              "      <td>1821</td>\n",
              "      <td>0</td>\n",
              "      <td>0.9</td>\n",
              "      <td>0</td>\n",
              "      <td>9</td>\n",
              "      <td>Ya</td>\n",
              "      <td>12</td>\n",
              "      <td>0.3</td>\n",
              "      <td>114</td>\n",
              "      <td>1</td>\n",
              "      <td>18</td>\n",
              "      <td>97</td>\n",
              "      <td>1803</td>\n",
              "      <td>2430</td>\n",
              "      <td>7.0</td>\n",
              "      <td>4</td>\n",
              "      <td>6</td>\n",
              "      <td>1</td>\n",
              "      <td>1</td>\n",
              "      <td>1</td>\n",
              "      <td>2000k-3000k</td>\n",
              "    </tr>\n",
              "    <tr>\n",
              "      <th>4</th>\n",
              "      <td>895</td>\n",
              "      <td>1790</td>\n",
              "      <td>1</td>\n",
              "      <td>2.3</td>\n",
              "      <td>1</td>\n",
              "      <td>3</td>\n",
              "      <td>Ya</td>\n",
              "      <td>49</td>\n",
              "      <td>0.5</td>\n",
              "      <td>100</td>\n",
              "      <td>3</td>\n",
              "      <td>11</td>\n",
              "      <td>396</td>\n",
              "      <td>1980</td>\n",
              "      <td>3568</td>\n",
              "      <td>6.0</td>\n",
              "      <td>2</td>\n",
              "      <td>18</td>\n",
              "      <td>1</td>\n",
              "      <td>0</td>\n",
              "      <td>1</td>\n",
              "      <td>&gt;3000k</td>\n",
              "    </tr>\n",
              "    <tr>\n",
              "      <th>...</th>\n",
              "      <td>...</td>\n",
              "      <td>...</td>\n",
              "      <td>...</td>\n",
              "      <td>...</td>\n",
              "      <td>...</td>\n",
              "      <td>...</td>\n",
              "      <td>...</td>\n",
              "      <td>...</td>\n",
              "      <td>...</td>\n",
              "      <td>...</td>\n",
              "      <td>...</td>\n",
              "      <td>...</td>\n",
              "      <td>...</td>\n",
              "      <td>...</td>\n",
              "      <td>...</td>\n",
              "      <td>...</td>\n",
              "      <td>...</td>\n",
              "      <td>...</td>\n",
              "      <td>...</td>\n",
              "      <td>...</td>\n",
              "      <td>...</td>\n",
              "      <td>...</td>\n",
              "    </tr>\n",
              "    <tr>\n",
              "      <th>1495</th>\n",
              "      <td>835</td>\n",
              "      <td>1224</td>\n",
              "      <td>1</td>\n",
              "      <td>1.6</td>\n",
              "      <td>0</td>\n",
              "      <td>9</td>\n",
              "      <td>Tidak</td>\n",
              "      <td>33</td>\n",
              "      <td>1.0</td>\n",
              "      <td>157</td>\n",
              "      <td>1</td>\n",
              "      <td>18</td>\n",
              "      <td>522</td>\n",
              "      <td>563</td>\n",
              "      <td>3796</td>\n",
              "      <td>10.0</td>\n",
              "      <td>5</td>\n",
              "      <td>13</td>\n",
              "      <td>1</td>\n",
              "      <td>1</td>\n",
              "      <td>0</td>\n",
              "      <td>&gt;3000k</td>\n",
              "    </tr>\n",
              "    <tr>\n",
              "      <th>1496</th>\n",
              "      <td>1216</td>\n",
              "      <td>1158</td>\n",
              "      <td>0</td>\n",
              "      <td>0.7</td>\n",
              "      <td>1</td>\n",
              "      <td>1</td>\n",
              "      <td>Ya</td>\n",
              "      <td>29</td>\n",
              "      <td>0.7</td>\n",
              "      <td>123</td>\n",
              "      <td>2</td>\n",
              "      <td>20</td>\n",
              "      <td>311</td>\n",
              "      <td>1796</td>\n",
              "      <td>1542</td>\n",
              "      <td>17.0</td>\n",
              "      <td>9</td>\n",
              "      <td>15</td>\n",
              "      <td>1</td>\n",
              "      <td>0</td>\n",
              "      <td>1</td>\n",
              "      <td>1000k-&lt;2000k</td>\n",
              "    </tr>\n",
              "    <tr>\n",
              "      <th>1497</th>\n",
              "      <td>1653</td>\n",
              "      <td>1190</td>\n",
              "      <td>0</td>\n",
              "      <td>2.0</td>\n",
              "      <td>1</td>\n",
              "      <td>0</td>\n",
              "      <td>Tidak</td>\n",
              "      <td>40</td>\n",
              "      <td>0.2</td>\n",
              "      <td>93</td>\n",
              "      <td>5</td>\n",
              "      <td>1</td>\n",
              "      <td>1399</td>\n",
              "      <td>1646</td>\n",
              "      <td>3610</td>\n",
              "      <td>13.0</td>\n",
              "      <td>7</td>\n",
              "      <td>9</td>\n",
              "      <td>0</td>\n",
              "      <td>0</td>\n",
              "      <td>1</td>\n",
              "      <td>&gt;3000k</td>\n",
              "    </tr>\n",
              "    <tr>\n",
              "      <th>1498</th>\n",
              "      <td>559</td>\n",
              "      <td>1191</td>\n",
              "      <td>0</td>\n",
              "      <td>2.4</td>\n",
              "      <td>1</td>\n",
              "      <td>2</td>\n",
              "      <td>Tidak</td>\n",
              "      <td>13</td>\n",
              "      <td>0.9</td>\n",
              "      <td>169</td>\n",
              "      <td>1</td>\n",
              "      <td>7</td>\n",
              "      <td>179</td>\n",
              "      <td>1813</td>\n",
              "      <td>1028</td>\n",
              "      <td>14.0</td>\n",
              "      <td>6</td>\n",
              "      <td>8</td>\n",
              "      <td>1</td>\n",
              "      <td>1</td>\n",
              "      <td>1</td>\n",
              "      <td>0-&lt;1000k</td>\n",
              "    </tr>\n",
              "    <tr>\n",
              "      <th>1499</th>\n",
              "      <td>684</td>\n",
              "      <td>706</td>\n",
              "      <td>0</td>\n",
              "      <td>0.5</td>\n",
              "      <td>0</td>\n",
              "      <td>13</td>\n",
              "      <td>Ya</td>\n",
              "      <td>31</td>\n",
              "      <td>0.1</td>\n",
              "      <td>108</td>\n",
              "      <td>3</td>\n",
              "      <td>19</td>\n",
              "      <td>543</td>\n",
              "      <td>938</td>\n",
              "      <td>2419</td>\n",
              "      <td>8.0</td>\n",
              "      <td>7</td>\n",
              "      <td>4</td>\n",
              "      <td>1</td>\n",
              "      <td>0</td>\n",
              "      <td>1</td>\n",
              "      <td>1000k-&lt;2000k</td>\n",
              "    </tr>\n",
              "  </tbody>\n",
              "</table>\n",
              "<p>1500 rows × 22 columns</p>\n",
              "</div>"
            ],
            "text/plain": [
              "      index  daya_baterai  bluetooth  ...  touch_screen  wifi   price_range\n",
              "0      1045           531          0  ...             1     0   2000k-3000k\n",
              "1       937           764          1  ...             1     0   2000k-3000k\n",
              "2      1658          1812          1  ...             1     1        >3000k\n",
              "3       529          1821          0  ...             1     1   2000k-3000k\n",
              "4       895          1790          1  ...             0     1        >3000k\n",
              "...     ...           ...        ...  ...           ...   ...           ...\n",
              "1495    835          1224          1  ...             1     0        >3000k\n",
              "1496   1216          1158          0  ...             0     1  1000k-<2000k\n",
              "1497   1653          1190          0  ...             0     1        >3000k\n",
              "1498    559          1191          0  ...             1     1      0-<1000k\n",
              "1499    684           706          0  ...             0     1  1000k-<2000k\n",
              "\n",
              "[1500 rows x 22 columns]"
            ]
          },
          "metadata": {
            "tags": []
          },
          "execution_count": 50
        }
      ]
    },
    {
      "cell_type": "code",
      "metadata": {
        "colab": {
          "base_uri": "https://localhost:8080/",
          "height": 436
        },
        "id": "YgQqyov98_00",
        "outputId": "4e3659d5-d1a1-4079-94b1-d3178db2804e"
      },
      "source": [
        "dataTest"
      ],
      "execution_count": null,
      "outputs": [
        {
          "output_type": "execute_result",
          "data": {
            "text/html": [
              "<div>\n",
              "<style scoped>\n",
              "    .dataframe tbody tr th:only-of-type {\n",
              "        vertical-align: middle;\n",
              "    }\n",
              "\n",
              "    .dataframe tbody tr th {\n",
              "        vertical-align: top;\n",
              "    }\n",
              "\n",
              "    .dataframe thead th {\n",
              "        text-align: right;\n",
              "    }\n",
              "</style>\n",
              "<table border=\"1\" class=\"dataframe\">\n",
              "  <thead>\n",
              "    <tr style=\"text-align: right;\">\n",
              "      <th></th>\n",
              "      <th>index</th>\n",
              "      <th>daya_baterai</th>\n",
              "      <th>bluetooth</th>\n",
              "      <th>kecepatan_clock</th>\n",
              "      <th>dual_sim</th>\n",
              "      <th>kamera_depan</th>\n",
              "      <th>four_g</th>\n",
              "      <th>memori_internal</th>\n",
              "      <th>tebal_hp</th>\n",
              "      <th>berat_hp</th>\n",
              "      <th>jumlah_prosesor</th>\n",
              "      <th>kamera_belakang_mp</th>\n",
              "      <th>px_panjang</th>\n",
              "      <th>px_lebar</th>\n",
              "      <th>kapasitas_ram</th>\n",
              "      <th>panjang_layar</th>\n",
              "      <th>lebar_layar</th>\n",
              "      <th>waktu_telfon</th>\n",
              "      <th>three_g</th>\n",
              "      <th>touch_screen</th>\n",
              "      <th>wifi</th>\n",
              "    </tr>\n",
              "  </thead>\n",
              "  <tbody>\n",
              "    <tr>\n",
              "      <th>0</th>\n",
              "      <td>405</td>\n",
              "      <td>1454</td>\n",
              "      <td>1</td>\n",
              "      <td>0.5</td>\n",
              "      <td>1</td>\n",
              "      <td>1</td>\n",
              "      <td>Tidak</td>\n",
              "      <td>34</td>\n",
              "      <td>0.7</td>\n",
              "      <td>83</td>\n",
              "      <td>4</td>\n",
              "      <td>3</td>\n",
              "      <td>250</td>\n",
              "      <td>1033</td>\n",
              "      <td>3419</td>\n",
              "      <td>7</td>\n",
              "      <td>5</td>\n",
              "      <td>5</td>\n",
              "      <td>1</td>\n",
              "      <td>1</td>\n",
              "      <td>0</td>\n",
              "    </tr>\n",
              "    <tr>\n",
              "      <th>1</th>\n",
              "      <td>1190</td>\n",
              "      <td>1092</td>\n",
              "      <td>1</td>\n",
              "      <td>0.5</td>\n",
              "      <td>1</td>\n",
              "      <td>10</td>\n",
              "      <td>Tidak</td>\n",
              "      <td>11</td>\n",
              "      <td>0.5</td>\n",
              "      <td>167</td>\n",
              "      <td>3</td>\n",
              "      <td>14</td>\n",
              "      <td>468</td>\n",
              "      <td>571</td>\n",
              "      <td>737</td>\n",
              "      <td>14</td>\n",
              "      <td>4</td>\n",
              "      <td>11</td>\n",
              "      <td>0</td>\n",
              "      <td>1</td>\n",
              "      <td>0</td>\n",
              "    </tr>\n",
              "    <tr>\n",
              "      <th>2</th>\n",
              "      <td>1132</td>\n",
              "      <td>1524</td>\n",
              "      <td>1</td>\n",
              "      <td>1.8</td>\n",
              "      <td>1</td>\n",
              "      <td>0</td>\n",
              "      <td>Tidak</td>\n",
              "      <td>10</td>\n",
              "      <td>0.6</td>\n",
              "      <td>174</td>\n",
              "      <td>4</td>\n",
              "      <td>1</td>\n",
              "      <td>154</td>\n",
              "      <td>550</td>\n",
              "      <td>2678</td>\n",
              "      <td>16</td>\n",
              "      <td>5</td>\n",
              "      <td>13</td>\n",
              "      <td>1</td>\n",
              "      <td>0</td>\n",
              "      <td>1</td>\n",
              "    </tr>\n",
              "    <tr>\n",
              "      <th>3</th>\n",
              "      <td>731</td>\n",
              "      <td>1807</td>\n",
              "      <td>1</td>\n",
              "      <td>2.1</td>\n",
              "      <td>0</td>\n",
              "      <td>2</td>\n",
              "      <td>Tidak</td>\n",
              "      <td>49</td>\n",
              "      <td>0.8</td>\n",
              "      <td>125</td>\n",
              "      <td>1</td>\n",
              "      <td>10</td>\n",
              "      <td>337</td>\n",
              "      <td>1384</td>\n",
              "      <td>1906</td>\n",
              "      <td>17</td>\n",
              "      <td>13</td>\n",
              "      <td>13</td>\n",
              "      <td>0</td>\n",
              "      <td>1</td>\n",
              "      <td>1</td>\n",
              "    </tr>\n",
              "    <tr>\n",
              "      <th>4</th>\n",
              "      <td>1754</td>\n",
              "      <td>1086</td>\n",
              "      <td>1</td>\n",
              "      <td>1.7</td>\n",
              "      <td>1</td>\n",
              "      <td>0</td>\n",
              "      <td>Ya</td>\n",
              "      <td>43</td>\n",
              "      <td>0.2</td>\n",
              "      <td>111</td>\n",
              "      <td>6</td>\n",
              "      <td>1</td>\n",
              "      <td>56</td>\n",
              "      <td>1150</td>\n",
              "      <td>3285</td>\n",
              "      <td>11</td>\n",
              "      <td>5</td>\n",
              "      <td>17</td>\n",
              "      <td>1</td>\n",
              "      <td>1</td>\n",
              "      <td>0</td>\n",
              "    </tr>\n",
              "    <tr>\n",
              "      <th>...</th>\n",
              "      <td>...</td>\n",
              "      <td>...</td>\n",
              "      <td>...</td>\n",
              "      <td>...</td>\n",
              "      <td>...</td>\n",
              "      <td>...</td>\n",
              "      <td>...</td>\n",
              "      <td>...</td>\n",
              "      <td>...</td>\n",
              "      <td>...</td>\n",
              "      <td>...</td>\n",
              "      <td>...</td>\n",
              "      <td>...</td>\n",
              "      <td>...</td>\n",
              "      <td>...</td>\n",
              "      <td>...</td>\n",
              "      <td>...</td>\n",
              "      <td>...</td>\n",
              "      <td>...</td>\n",
              "      <td>...</td>\n",
              "      <td>...</td>\n",
              "    </tr>\n",
              "    <tr>\n",
              "      <th>495</th>\n",
              "      <td>936</td>\n",
              "      <td>805</td>\n",
              "      <td>0</td>\n",
              "      <td>0.8</td>\n",
              "      <td>0</td>\n",
              "      <td>1</td>\n",
              "      <td>Tidak</td>\n",
              "      <td>34</td>\n",
              "      <td>0.6</td>\n",
              "      <td>88</td>\n",
              "      <td>6</td>\n",
              "      <td>2</td>\n",
              "      <td>1262</td>\n",
              "      <td>1538</td>\n",
              "      <td>3647</td>\n",
              "      <td>18</td>\n",
              "      <td>11</td>\n",
              "      <td>9</td>\n",
              "      <td>1</td>\n",
              "      <td>0</td>\n",
              "      <td>1</td>\n",
              "    </tr>\n",
              "    <tr>\n",
              "      <th>496</th>\n",
              "      <td>1524</td>\n",
              "      <td>1162</td>\n",
              "      <td>0</td>\n",
              "      <td>1.0</td>\n",
              "      <td>0</td>\n",
              "      <td>0</td>\n",
              "      <td>Tidak</td>\n",
              "      <td>50</td>\n",
              "      <td>0.5</td>\n",
              "      <td>104</td>\n",
              "      <td>4</td>\n",
              "      <td>10</td>\n",
              "      <td>332</td>\n",
              "      <td>866</td>\n",
              "      <td>1404</td>\n",
              "      <td>10</td>\n",
              "      <td>3</td>\n",
              "      <td>15</td>\n",
              "      <td>1</td>\n",
              "      <td>1</td>\n",
              "      <td>1</td>\n",
              "    </tr>\n",
              "    <tr>\n",
              "      <th>497</th>\n",
              "      <td>1415</td>\n",
              "      <td>1759</td>\n",
              "      <td>1</td>\n",
              "      <td>1.4</td>\n",
              "      <td>0</td>\n",
              "      <td>10</td>\n",
              "      <td>Ya</td>\n",
              "      <td>15</td>\n",
              "      <td>0.4</td>\n",
              "      <td>101</td>\n",
              "      <td>4</td>\n",
              "      <td>13</td>\n",
              "      <td>382</td>\n",
              "      <td>1163</td>\n",
              "      <td>2107</td>\n",
              "      <td>18</td>\n",
              "      <td>5</td>\n",
              "      <td>16</td>\n",
              "      <td>1</td>\n",
              "      <td>1</td>\n",
              "      <td>0</td>\n",
              "    </tr>\n",
              "    <tr>\n",
              "      <th>498</th>\n",
              "      <td>1223</td>\n",
              "      <td>514</td>\n",
              "      <td>1</td>\n",
              "      <td>1.6</td>\n",
              "      <td>0</td>\n",
              "      <td>7</td>\n",
              "      <td>Ya</td>\n",
              "      <td>37</td>\n",
              "      <td>0.1</td>\n",
              "      <td>172</td>\n",
              "      <td>1</td>\n",
              "      <td>9</td>\n",
              "      <td>956</td>\n",
              "      <td>1723</td>\n",
              "      <td>3392</td>\n",
              "      <td>12</td>\n",
              "      <td>8</td>\n",
              "      <td>5</td>\n",
              "      <td>1</td>\n",
              "      <td>1</td>\n",
              "      <td>1</td>\n",
              "    </tr>\n",
              "    <tr>\n",
              "      <th>499</th>\n",
              "      <td>1548</td>\n",
              "      <td>1410</td>\n",
              "      <td>1</td>\n",
              "      <td>0.5</td>\n",
              "      <td>1</td>\n",
              "      <td>0</td>\n",
              "      <td>Ya</td>\n",
              "      <td>15</td>\n",
              "      <td>0.3</td>\n",
              "      <td>92</td>\n",
              "      <td>3</td>\n",
              "      <td>1</td>\n",
              "      <td>192</td>\n",
              "      <td>1311</td>\n",
              "      <td>2304</td>\n",
              "      <td>18</td>\n",
              "      <td>4</td>\n",
              "      <td>18</td>\n",
              "      <td>1</td>\n",
              "      <td>1</td>\n",
              "      <td>0</td>\n",
              "    </tr>\n",
              "  </tbody>\n",
              "</table>\n",
              "<p>500 rows × 21 columns</p>\n",
              "</div>"
            ],
            "text/plain": [
              "     index  daya_baterai  bluetooth  ...  three_g  touch_screen  wifi\n",
              "0      405          1454          1  ...        1             1     0\n",
              "1     1190          1092          1  ...        0             1     0\n",
              "2     1132          1524          1  ...        1             0     1\n",
              "3      731          1807          1  ...        0             1     1\n",
              "4     1754          1086          1  ...        1             1     0\n",
              "..     ...           ...        ...  ...      ...           ...   ...\n",
              "495    936           805          0  ...        1             0     1\n",
              "496   1524          1162          0  ...        1             1     1\n",
              "497   1415          1759          1  ...        1             1     0\n",
              "498   1223           514          1  ...        1             1     1\n",
              "499   1548          1410          1  ...        1             1     0\n",
              "\n",
              "[500 rows x 21 columns]"
            ]
          },
          "metadata": {
            "tags": []
          },
          "execution_count": 51
        }
      ]
    },
    {
      "cell_type": "code",
      "metadata": {
        "colab": {
          "base_uri": "https://localhost:8080/"
        },
        "id": "oZoFmbiX_Jmi",
        "outputId": "2e10e71d-3a6b-4aed-b496-642cb457fc9e"
      },
      "source": [
        "dataTrain.info()"
      ],
      "execution_count": null,
      "outputs": [
        {
          "output_type": "stream",
          "text": [
            "<class 'pandas.core.frame.DataFrame'>\n",
            "RangeIndex: 1500 entries, 0 to 1499\n",
            "Data columns (total 22 columns):\n",
            " #   Column              Non-Null Count  Dtype  \n",
            "---  ------              --------------  -----  \n",
            " 0   index               1500 non-null   int64  \n",
            " 1   daya_baterai        1500 non-null   int64  \n",
            " 2   bluetooth           1500 non-null   int64  \n",
            " 3   kecepatan_clock     1450 non-null   float64\n",
            " 4   dual_sim            1500 non-null   int64  \n",
            " 5   kamera_depan        1500 non-null   int64  \n",
            " 6   four_g              1500 non-null   object \n",
            " 7   memori_internal     1500 non-null   int64  \n",
            " 8   tebal_hp            1500 non-null   float64\n",
            " 9   berat_hp            1500 non-null   int64  \n",
            " 10  jumlah_prosesor     1500 non-null   int64  \n",
            " 11  kamera_belakang_mp  1500 non-null   int64  \n",
            " 12  px_panjang          1500 non-null   int64  \n",
            " 13  px_lebar            1500 non-null   int64  \n",
            " 14  kapasitas_ram       1500 non-null   int64  \n",
            " 15  panjang_layar       1381 non-null   float64\n",
            " 16  lebar_layar         1500 non-null   int64  \n",
            " 17  waktu_telfon        1500 non-null   int64  \n",
            " 18  three_g             1500 non-null   int64  \n",
            " 19  touch_screen        1500 non-null   int64  \n",
            " 20  wifi                1500 non-null   int64  \n",
            " 21  price_range         1500 non-null   object \n",
            "dtypes: float64(3), int64(17), object(2)\n",
            "memory usage: 257.9+ KB\n"
          ],
          "name": "stdout"
        }
      ]
    },
    {
      "cell_type": "code",
      "metadata": {
        "colab": {
          "base_uri": "https://localhost:8080/"
        },
        "id": "ydxUePke_Ok6",
        "outputId": "da672169-bd9b-4f19-f636-1686ecc405c3"
      },
      "source": [
        "dataTest.info()"
      ],
      "execution_count": null,
      "outputs": [
        {
          "output_type": "stream",
          "text": [
            "<class 'pandas.core.frame.DataFrame'>\n",
            "RangeIndex: 500 entries, 0 to 499\n",
            "Data columns (total 21 columns):\n",
            " #   Column              Non-Null Count  Dtype  \n",
            "---  ------              --------------  -----  \n",
            " 0   index               500 non-null    int64  \n",
            " 1   daya_baterai        500 non-null    int64  \n",
            " 2   bluetooth           500 non-null    int64  \n",
            " 3   kecepatan_clock     500 non-null    float64\n",
            " 4   dual_sim            500 non-null    int64  \n",
            " 5   kamera_depan        500 non-null    int64  \n",
            " 6   four_g              500 non-null    object \n",
            " 7   memori_internal     500 non-null    int64  \n",
            " 8   tebal_hp            500 non-null    float64\n",
            " 9   berat_hp            500 non-null    int64  \n",
            " 10  jumlah_prosesor     500 non-null    int64  \n",
            " 11  kamera_belakang_mp  500 non-null    int64  \n",
            " 12  px_panjang          500 non-null    int64  \n",
            " 13  px_lebar            500 non-null    int64  \n",
            " 14  kapasitas_ram       500 non-null    int64  \n",
            " 15  panjang_layar       500 non-null    int64  \n",
            " 16  lebar_layar         500 non-null    int64  \n",
            " 17  waktu_telfon        500 non-null    int64  \n",
            " 18  three_g             500 non-null    int64  \n",
            " 19  touch_screen        500 non-null    int64  \n",
            " 20  wifi                500 non-null    int64  \n",
            "dtypes: float64(2), int64(18), object(1)\n",
            "memory usage: 82.2+ KB\n"
          ],
          "name": "stdout"
        }
      ]
    },
    {
      "cell_type": "code",
      "metadata": {
        "colab": {
          "base_uri": "https://localhost:8080/"
        },
        "id": "dwHcpjzxDluF",
        "outputId": "725de02b-fa28-4b38-fa41-c753966b1e6d"
      },
      "source": [
        "pd.isnull(dataTrain).sum()"
      ],
      "execution_count": null,
      "outputs": [
        {
          "output_type": "execute_result",
          "data": {
            "text/plain": [
              "index                   0\n",
              "daya_baterai            0\n",
              "bluetooth               0\n",
              "kecepatan_clock        50\n",
              "dual_sim                0\n",
              "kamera_depan            0\n",
              "four_g                  0\n",
              "memori_internal         0\n",
              "tebal_hp                0\n",
              "berat_hp                0\n",
              "jumlah_prosesor         0\n",
              "kamera_belakang_mp      0\n",
              "px_panjang              0\n",
              "px_lebar                0\n",
              "kapasitas_ram           0\n",
              "panjang_layar         119\n",
              "lebar_layar             0\n",
              "waktu_telfon            0\n",
              "three_g                 0\n",
              "touch_screen            0\n",
              "wifi                    0\n",
              "price_range             0\n",
              "dtype: int64"
            ]
          },
          "metadata": {
            "tags": []
          },
          "execution_count": 54
        }
      ]
    },
    {
      "cell_type": "code",
      "metadata": {
        "colab": {
          "base_uri": "https://localhost:8080/"
        },
        "id": "MCV8xbLdDtVM",
        "outputId": "116b65c7-770c-421e-c39c-909293f83295"
      },
      "source": [
        "pd.isnull(dataTest).sum()"
      ],
      "execution_count": null,
      "outputs": [
        {
          "output_type": "execute_result",
          "data": {
            "text/plain": [
              "index                 0\n",
              "daya_baterai          0\n",
              "bluetooth             0\n",
              "kecepatan_clock       0\n",
              "dual_sim              0\n",
              "kamera_depan          0\n",
              "four_g                0\n",
              "memori_internal       0\n",
              "tebal_hp              0\n",
              "berat_hp              0\n",
              "jumlah_prosesor       0\n",
              "kamera_belakang_mp    0\n",
              "px_panjang            0\n",
              "px_lebar              0\n",
              "kapasitas_ram         0\n",
              "panjang_layar         0\n",
              "lebar_layar           0\n",
              "waktu_telfon          0\n",
              "three_g               0\n",
              "touch_screen          0\n",
              "wifi                  0\n",
              "dtype: int64"
            ]
          },
          "metadata": {
            "tags": []
          },
          "execution_count": 55
        }
      ]
    },
    {
      "cell_type": "code",
      "metadata": {
        "id": "2U3XJaqWD2dc"
      },
      "source": [
        "dataTrain['kecepatan_clock'].fillna(dataTrain['kecepatan_clock'].mean(), inplace=True)\n",
        "dataTrain['panjang_layar'].fillna(dataTrain['panjang_layar'].mean(), inplace=True)"
      ],
      "execution_count": null,
      "outputs": []
    },
    {
      "cell_type": "code",
      "metadata": {
        "colab": {
          "base_uri": "https://localhost:8080/"
        },
        "id": "9-DiLeAuzjOA",
        "outputId": "2b81d7fc-8fd1-424f-f5da-73d317e7865e"
      },
      "source": [
        "dataTrain.info()"
      ],
      "execution_count": null,
      "outputs": [
        {
          "output_type": "stream",
          "text": [
            "<class 'pandas.core.frame.DataFrame'>\n",
            "RangeIndex: 1500 entries, 0 to 1499\n",
            "Data columns (total 22 columns):\n",
            " #   Column              Non-Null Count  Dtype  \n",
            "---  ------              --------------  -----  \n",
            " 0   index               1500 non-null   int64  \n",
            " 1   daya_baterai        1500 non-null   int64  \n",
            " 2   bluetooth           1500 non-null   int64  \n",
            " 3   kecepatan_clock     1500 non-null   float64\n",
            " 4   dual_sim            1500 non-null   int64  \n",
            " 5   kamera_depan        1500 non-null   int64  \n",
            " 6   four_g              1500 non-null   object \n",
            " 7   memori_internal     1500 non-null   int64  \n",
            " 8   tebal_hp            1500 non-null   float64\n",
            " 9   berat_hp            1500 non-null   int64  \n",
            " 10  jumlah_prosesor     1500 non-null   int64  \n",
            " 11  kamera_belakang_mp  1500 non-null   int64  \n",
            " 12  px_panjang          1500 non-null   int64  \n",
            " 13  px_lebar            1500 non-null   int64  \n",
            " 14  kapasitas_ram       1500 non-null   int64  \n",
            " 15  panjang_layar       1500 non-null   float64\n",
            " 16  lebar_layar         1500 non-null   int64  \n",
            " 17  waktu_telfon        1500 non-null   int64  \n",
            " 18  three_g             1500 non-null   int64  \n",
            " 19  touch_screen        1500 non-null   int64  \n",
            " 20  wifi                1500 non-null   int64  \n",
            " 21  price_range         1500 non-null   object \n",
            "dtypes: float64(3), int64(17), object(2)\n",
            "memory usage: 257.9+ KB\n"
          ],
          "name": "stdout"
        }
      ]
    },
    {
      "cell_type": "code",
      "metadata": {
        "colab": {
          "base_uri": "https://localhost:8080/"
        },
        "id": "NmhH1EShE9uv",
        "outputId": "9075c0d8-e63b-4710-d0c6-58c67677ed76"
      },
      "source": [
        "pd.isnull(dataTrain).sum()"
      ],
      "execution_count": null,
      "outputs": [
        {
          "output_type": "execute_result",
          "data": {
            "text/plain": [
              "index                 0\n",
              "daya_baterai          0\n",
              "bluetooth             0\n",
              "kecepatan_clock       0\n",
              "dual_sim              0\n",
              "kamera_depan          0\n",
              "four_g                0\n",
              "memori_internal       0\n",
              "tebal_hp              0\n",
              "berat_hp              0\n",
              "jumlah_prosesor       0\n",
              "kamera_belakang_mp    0\n",
              "px_panjang            0\n",
              "px_lebar              0\n",
              "kapasitas_ram         0\n",
              "panjang_layar         0\n",
              "lebar_layar           0\n",
              "waktu_telfon          0\n",
              "three_g               0\n",
              "touch_screen          0\n",
              "wifi                  0\n",
              "price_range           0\n",
              "dtype: int64"
            ]
          },
          "metadata": {
            "tags": []
          },
          "execution_count": 58
        }
      ]
    },
    {
      "cell_type": "code",
      "metadata": {
        "colab": {
          "base_uri": "https://localhost:8080/",
          "height": 616
        },
        "id": "AOypWCWD04Eo",
        "outputId": "3a327f24-c976-4e2f-cfb4-faee25771cde"
      },
      "source": [
        "sns.set(rc={'figure.figsize':(12,8)})\n",
        "sns.catplot(x='kapasitas_ram', y='price_range', data = dataTrain, kind='bar', height=8)"
      ],
      "execution_count": null,
      "outputs": [
        {
          "output_type": "execute_result",
          "data": {
            "text/plain": [
              "<seaborn.axisgrid.FacetGrid at 0x7f4ecdafe3d0>"
            ]
          },
          "metadata": {
            "tags": []
          },
          "execution_count": 59
        },
        {
          "output_type": "display_data",
          "data": {
            "image/png": "[encoded data removed]",
            "text/plain": [
              "<Figure size 576x576 with 1 Axes>"
            ]
          },
          "metadata": {
            "tags": []
          }
        }
      ]
    },
    {
      "cell_type": "code",
      "metadata": {
        "id": "ZX3gQvTM3-_K"
      },
      "source": [
        "#Encoding Label Harga\n",
        "\n",
        "lb_price = LabelEncoder()\n",
        "lb_price.fit(dataTrain['price_range'])\n",
        "\n",
        "encode_price = lb_price.transform(dataTrain['price_range'])\n",
        "dataTrain['price_range'] = encode_price"
      ],
      "execution_count": null,
      "outputs": []
    },
    {
      "cell_type": "code",
      "metadata": {
        "id": "7gLHQc_-5JJT"
      },
      "source": [
        "#Encoding Label 4G - Train\n",
        "\n",
        "lb_fourg = LabelEncoder()\n",
        "lb_fourg.fit(dataTrain['four_g'])\n",
        "\n",
        "encode_fourg_train = lb_fourg.transform(dataTrain['four_g'])\n",
        "dataTrain['four_g'] = encode_fourg_train"
      ],
      "execution_count": null,
      "outputs": []
    },
    {
      "cell_type": "code",
      "metadata": {
        "colab": {
          "base_uri": "https://localhost:8080/",
          "height": 436
        },
        "id": "mAKMzVzD51r0",
        "outputId": "99675773-b71e-4fb1-9ee9-d8d55ea67acb"
      },
      "source": [
        "dataTrain"
      ],
      "execution_count": null,
      "outputs": [
        {
          "output_type": "execute_result",
          "data": {
            "text/html": [
              "<div>\n",
              "<style scoped>\n",
              "    .dataframe tbody tr th:only-of-type {\n",
              "        vertical-align: middle;\n",
              "    }\n",
              "\n",
              "    .dataframe tbody tr th {\n",
              "        vertical-align: top;\n",
              "    }\n",
              "\n",
              "    .dataframe thead th {\n",
              "        text-align: right;\n",
              "    }\n",
              "</style>\n",
              "<table border=\"1\" class=\"dataframe\">\n",
              "  <thead>\n",
              "    <tr style=\"text-align: right;\">\n",
              "      <th></th>\n",
              "      <th>index</th>\n",
              "      <th>daya_baterai</th>\n",
              "      <th>bluetooth</th>\n",
              "      <th>kecepatan_clock</th>\n",
              "      <th>dual_sim</th>\n",
              "      <th>kamera_depan</th>\n",
              "      <th>four_g</th>\n",
              "      <th>memori_internal</th>\n",
              "      <th>tebal_hp</th>\n",
              "      <th>berat_hp</th>\n",
              "      <th>jumlah_prosesor</th>\n",
              "      <th>kamera_belakang_mp</th>\n",
              "      <th>px_panjang</th>\n",
              "      <th>px_lebar</th>\n",
              "      <th>kapasitas_ram</th>\n",
              "      <th>panjang_layar</th>\n",
              "      <th>lebar_layar</th>\n",
              "      <th>waktu_telfon</th>\n",
              "      <th>three_g</th>\n",
              "      <th>touch_screen</th>\n",
              "      <th>wifi</th>\n",
              "      <th>price_range</th>\n",
              "    </tr>\n",
              "  </thead>\n",
              "  <tbody>\n",
              "    <tr>\n",
              "      <th>0</th>\n",
              "      <td>1045</td>\n",
              "      <td>531</td>\n",
              "      <td>0</td>\n",
              "      <td>1.1</td>\n",
              "      <td>0</td>\n",
              "      <td>10</td>\n",
              "      <td>0</td>\n",
              "      <td>63</td>\n",
              "      <td>0.7</td>\n",
              "      <td>189</td>\n",
              "      <td>7</td>\n",
              "      <td>14</td>\n",
              "      <td>145</td>\n",
              "      <td>1903</td>\n",
              "      <td>2958</td>\n",
              "      <td>17.0</td>\n",
              "      <td>1</td>\n",
              "      <td>19</td>\n",
              "      <td>0</td>\n",
              "      <td>1</td>\n",
              "      <td>0</td>\n",
              "      <td>2</td>\n",
              "    </tr>\n",
              "    <tr>\n",
              "      <th>1</th>\n",
              "      <td>937</td>\n",
              "      <td>764</td>\n",
              "      <td>1</td>\n",
              "      <td>1.2</td>\n",
              "      <td>1</td>\n",
              "      <td>1</td>\n",
              "      <td>0</td>\n",
              "      <td>13</td>\n",
              "      <td>1.0</td>\n",
              "      <td>152</td>\n",
              "      <td>8</td>\n",
              "      <td>2</td>\n",
              "      <td>361</td>\n",
              "      <td>511</td>\n",
              "      <td>3148</td>\n",
              "      <td>18.0</td>\n",
              "      <td>7</td>\n",
              "      <td>6</td>\n",
              "      <td>1</td>\n",
              "      <td>1</td>\n",
              "      <td>0</td>\n",
              "      <td>2</td>\n",
              "    </tr>\n",
              "    <tr>\n",
              "      <th>2</th>\n",
              "      <td>1658</td>\n",
              "      <td>1812</td>\n",
              "      <td>1</td>\n",
              "      <td>1.3</td>\n",
              "      <td>1</td>\n",
              "      <td>4</td>\n",
              "      <td>1</td>\n",
              "      <td>42</td>\n",
              "      <td>1.0</td>\n",
              "      <td>162</td>\n",
              "      <td>7</td>\n",
              "      <td>15</td>\n",
              "      <td>380</td>\n",
              "      <td>1550</td>\n",
              "      <td>3338</td>\n",
              "      <td>18.0</td>\n",
              "      <td>13</td>\n",
              "      <td>11</td>\n",
              "      <td>1</td>\n",
              "      <td>1</td>\n",
              "      <td>1</td>\n",
              "      <td>3</td>\n",
              "    </tr>\n",
              "    <tr>\n",
              "      <th>3</th>\n",
              "      <td>529</td>\n",
              "      <td>1821</td>\n",
              "      <td>0</td>\n",
              "      <td>0.9</td>\n",
              "      <td>0</td>\n",
              "      <td>9</td>\n",
              "      <td>1</td>\n",
              "      <td>12</td>\n",
              "      <td>0.3</td>\n",
              "      <td>114</td>\n",
              "      <td>1</td>\n",
              "      <td>18</td>\n",
              "      <td>97</td>\n",
              "      <td>1803</td>\n",
              "      <td>2430</td>\n",
              "      <td>7.0</td>\n",
              "      <td>4</td>\n",
              "      <td>6</td>\n",
              "      <td>1</td>\n",
              "      <td>1</td>\n",
              "      <td>1</td>\n",
              "      <td>2</td>\n",
              "    </tr>\n",
              "    <tr>\n",
              "      <th>4</th>\n",
              "      <td>895</td>\n",
              "      <td>1790</td>\n",
              "      <td>1</td>\n",
              "      <td>2.3</td>\n",
              "      <td>1</td>\n",
              "      <td>3</td>\n",
              "      <td>1</td>\n",
              "      <td>49</td>\n",
              "      <td>0.5</td>\n",
              "      <td>100</td>\n",
              "      <td>3</td>\n",
              "      <td>11</td>\n",
              "      <td>396</td>\n",
              "      <td>1980</td>\n",
              "      <td>3568</td>\n",
              "      <td>6.0</td>\n",
              "      <td>2</td>\n",
              "      <td>18</td>\n",
              "      <td>1</td>\n",
              "      <td>0</td>\n",
              "      <td>1</td>\n",
              "      <td>3</td>\n",
              "    </tr>\n",
              "    <tr>\n",
              "      <th>...</th>\n",
              "      <td>...</td>\n",
              "      <td>...</td>\n",
              "      <td>...</td>\n",
              "      <td>...</td>\n",
              "      <td>...</td>\n",
              "      <td>...</td>\n",
              "      <td>...</td>\n",
              "      <td>...</td>\n",
              "      <td>...</td>\n",
              "      <td>...</td>\n",
              "      <td>...</td>\n",
              "      <td>...</td>\n",
              "      <td>...</td>\n",
              "      <td>...</td>\n",
              "      <td>...</td>\n",
              "      <td>...</td>\n",
              "      <td>...</td>\n",
              "      <td>...</td>\n",
              "      <td>...</td>\n",
              "      <td>...</td>\n",
              "      <td>...</td>\n",
              "      <td>...</td>\n",
              "    </tr>\n",
              "    <tr>\n",
              "      <th>1495</th>\n",
              "      <td>835</td>\n",
              "      <td>1224</td>\n",
              "      <td>1</td>\n",
              "      <td>1.6</td>\n",
              "      <td>0</td>\n",
              "      <td>9</td>\n",
              "      <td>0</td>\n",
              "      <td>33</td>\n",
              "      <td>1.0</td>\n",
              "      <td>157</td>\n",
              "      <td>1</td>\n",
              "      <td>18</td>\n",
              "      <td>522</td>\n",
              "      <td>563</td>\n",
              "      <td>3796</td>\n",
              "      <td>10.0</td>\n",
              "      <td>5</td>\n",
              "      <td>13</td>\n",
              "      <td>1</td>\n",
              "      <td>1</td>\n",
              "      <td>0</td>\n",
              "      <td>3</td>\n",
              "    </tr>\n",
              "    <tr>\n",
              "      <th>1496</th>\n",
              "      <td>1216</td>\n",
              "      <td>1158</td>\n",
              "      <td>0</td>\n",
              "      <td>0.7</td>\n",
              "      <td>1</td>\n",
              "      <td>1</td>\n",
              "      <td>1</td>\n",
              "      <td>29</td>\n",
              "      <td>0.7</td>\n",
              "      <td>123</td>\n",
              "      <td>2</td>\n",
              "      <td>20</td>\n",
              "      <td>311</td>\n",
              "      <td>1796</td>\n",
              "      <td>1542</td>\n",
              "      <td>17.0</td>\n",
              "      <td>9</td>\n",
              "      <td>15</td>\n",
              "      <td>1</td>\n",
              "      <td>0</td>\n",
              "      <td>1</td>\n",
              "      <td>1</td>\n",
              "    </tr>\n",
              "    <tr>\n",
              "      <th>1497</th>\n",
              "      <td>1653</td>\n",
              "      <td>1190</td>\n",
              "      <td>0</td>\n",
              "      <td>2.0</td>\n",
              "      <td>1</td>\n",
              "      <td>0</td>\n",
              "      <td>0</td>\n",
              "      <td>40</td>\n",
              "      <td>0.2</td>\n",
              "      <td>93</td>\n",
              "      <td>5</td>\n",
              "      <td>1</td>\n",
              "      <td>1399</td>\n",
              "      <td>1646</td>\n",
              "      <td>3610</td>\n",
              "      <td>13.0</td>\n",
              "      <td>7</td>\n",
              "      <td>9</td>\n",
              "      <td>0</td>\n",
              "      <td>0</td>\n",
              "      <td>1</td>\n",
              "      <td>3</td>\n",
              "    </tr>\n",
              "    <tr>\n",
              "      <th>1498</th>\n",
              "      <td>559</td>\n",
              "      <td>1191</td>\n",
              "      <td>0</td>\n",
              "      <td>2.4</td>\n",
              "      <td>1</td>\n",
              "      <td>2</td>\n",
              "      <td>0</td>\n",
              "      <td>13</td>\n",
              "      <td>0.9</td>\n",
              "      <td>169</td>\n",
              "      <td>1</td>\n",
              "      <td>7</td>\n",
              "      <td>179</td>\n",
              "      <td>1813</td>\n",
              "      <td>1028</td>\n",
              "      <td>14.0</td>\n",
              "      <td>6</td>\n",
              "      <td>8</td>\n",
              "      <td>1</td>\n",
              "      <td>1</td>\n",
              "      <td>1</td>\n",
              "      <td>0</td>\n",
              "    </tr>\n",
              "    <tr>\n",
              "      <th>1499</th>\n",
              "      <td>684</td>\n",
              "      <td>706</td>\n",
              "      <td>0</td>\n",
              "      <td>0.5</td>\n",
              "      <td>0</td>\n",
              "      <td>13</td>\n",
              "      <td>1</td>\n",
              "      <td>31</td>\n",
              "      <td>0.1</td>\n",
              "      <td>108</td>\n",
              "      <td>3</td>\n",
              "      <td>19</td>\n",
              "      <td>543</td>\n",
              "      <td>938</td>\n",
              "      <td>2419</td>\n",
              "      <td>8.0</td>\n",
              "      <td>7</td>\n",
              "      <td>4</td>\n",
              "      <td>1</td>\n",
              "      <td>0</td>\n",
              "      <td>1</td>\n",
              "      <td>1</td>\n",
              "    </tr>\n",
              "  </tbody>\n",
              "</table>\n",
              "<p>1500 rows × 22 columns</p>\n",
              "</div>"
            ],
            "text/plain": [
              "      index  daya_baterai  bluetooth  ...  touch_screen  wifi  price_range\n",
              "0      1045           531          0  ...             1     0            2\n",
              "1       937           764          1  ...             1     0            2\n",
              "2      1658          1812          1  ...             1     1            3\n",
              "3       529          1821          0  ...             1     1            2\n",
              "4       895          1790          1  ...             0     1            3\n",
              "...     ...           ...        ...  ...           ...   ...          ...\n",
              "1495    835          1224          1  ...             1     0            3\n",
              "1496   1216          1158          0  ...             0     1            1\n",
              "1497   1653          1190          0  ...             0     1            3\n",
              "1498    559          1191          0  ...             1     1            0\n",
              "1499    684           706          0  ...             0     1            1\n",
              "\n",
              "[1500 rows x 22 columns]"
            ]
          },
          "metadata": {
            "tags": []
          },
          "execution_count": 62
        }
      ]
    },
    {
      "cell_type": "code",
      "metadata": {
        "id": "6-d2LOGcA5oj"
      },
      "source": [
        "#Encoding Label 4G - Test\n",
        "\n",
        "lb_fourg = LabelEncoder()\n",
        "lb_fourg.fit(dataTest['four_g'])\n",
        "\n",
        "encode_fourg_test = lb_fourg.transform(dataTest['four_g'])\n",
        "dataTest['four_g'] = encode_fourg_test"
      ],
      "execution_count": null,
      "outputs": []
    },
    {
      "cell_type": "code",
      "metadata": {
        "colab": {
          "base_uri": "https://localhost:8080/",
          "height": 222
        },
        "id": "zk0KcMmJBLY9",
        "outputId": "b6234326-14cf-4f7d-98eb-7c01948fe5c4"
      },
      "source": [
        "dataTest.head()"
      ],
      "execution_count": null,
      "outputs": [
        {
          "output_type": "execute_result",
          "data": {
            "text/html": [
              "<div>\n",
              "<style scoped>\n",
              "    .dataframe tbody tr th:only-of-type {\n",
              "        vertical-align: middle;\n",
              "    }\n",
              "\n",
              "    .dataframe tbody tr th {\n",
              "        vertical-align: top;\n",
              "    }\n",
              "\n",
              "    .dataframe thead th {\n",
              "        text-align: right;\n",
              "    }\n",
              "</style>\n",
              "<table border=\"1\" class=\"dataframe\">\n",
              "  <thead>\n",
              "    <tr style=\"text-align: right;\">\n",
              "      <th></th>\n",
              "      <th>index</th>\n",
              "      <th>daya_baterai</th>\n",
              "      <th>bluetooth</th>\n",
              "      <th>kecepatan_clock</th>\n",
              "      <th>dual_sim</th>\n",
              "      <th>kamera_depan</th>\n",
              "      <th>four_g</th>\n",
              "      <th>memori_internal</th>\n",
              "      <th>tebal_hp</th>\n",
              "      <th>berat_hp</th>\n",
              "      <th>jumlah_prosesor</th>\n",
              "      <th>kamera_belakang_mp</th>\n",
              "      <th>px_panjang</th>\n",
              "      <th>px_lebar</th>\n",
              "      <th>kapasitas_ram</th>\n",
              "      <th>panjang_layar</th>\n",
              "      <th>lebar_layar</th>\n",
              "      <th>waktu_telfon</th>\n",
              "      <th>three_g</th>\n",
              "      <th>touch_screen</th>\n",
              "      <th>wifi</th>\n",
              "    </tr>\n",
              "  </thead>\n",
              "  <tbody>\n",
              "    <tr>\n",
              "      <th>0</th>\n",
              "      <td>405</td>\n",
              "      <td>1454</td>\n",
              "      <td>1</td>\n",
              "      <td>0.5</td>\n",
              "      <td>1</td>\n",
              "      <td>1</td>\n",
              "      <td>0</td>\n",
              "      <td>34</td>\n",
              "      <td>0.7</td>\n",
              "      <td>83</td>\n",
              "      <td>4</td>\n",
              "      <td>3</td>\n",
              "      <td>250</td>\n",
              "      <td>1033</td>\n",
              "      <td>3419</td>\n",
              "      <td>7</td>\n",
              "      <td>5</td>\n",
              "      <td>5</td>\n",
              "      <td>1</td>\n",
              "      <td>1</td>\n",
              "      <td>0</td>\n",
              "    </tr>\n",
              "    <tr>\n",
              "      <th>1</th>\n",
              "      <td>1190</td>\n",
              "      <td>1092</td>\n",
              "      <td>1</td>\n",
              "      <td>0.5</td>\n",
              "      <td>1</td>\n",
              "      <td>10</td>\n",
              "      <td>0</td>\n",
              "      <td>11</td>\n",
              "      <td>0.5</td>\n",
              "      <td>167</td>\n",
              "      <td>3</td>\n",
              "      <td>14</td>\n",
              "      <td>468</td>\n",
              "      <td>571</td>\n",
              "      <td>737</td>\n",
              "      <td>14</td>\n",
              "      <td>4</td>\n",
              "      <td>11</td>\n",
              "      <td>0</td>\n",
              "      <td>1</td>\n",
              "      <td>0</td>\n",
              "    </tr>\n",
              "    <tr>\n",
              "      <th>2</th>\n",
              "      <td>1132</td>\n",
              "      <td>1524</td>\n",
              "      <td>1</td>\n",
              "      <td>1.8</td>\n",
              "      <td>1</td>\n",
              "      <td>0</td>\n",
              "      <td>0</td>\n",
              "      <td>10</td>\n",
              "      <td>0.6</td>\n",
              "      <td>174</td>\n",
              "      <td>4</td>\n",
              "      <td>1</td>\n",
              "      <td>154</td>\n",
              "      <td>550</td>\n",
              "      <td>2678</td>\n",
              "      <td>16</td>\n",
              "      <td>5</td>\n",
              "      <td>13</td>\n",
              "      <td>1</td>\n",
              "      <td>0</td>\n",
              "      <td>1</td>\n",
              "    </tr>\n",
              "    <tr>\n",
              "      <th>3</th>\n",
              "      <td>731</td>\n",
              "      <td>1807</td>\n",
              "      <td>1</td>\n",
              "      <td>2.1</td>\n",
              "      <td>0</td>\n",
              "      <td>2</td>\n",
              "      <td>0</td>\n",
              "      <td>49</td>\n",
              "      <td>0.8</td>\n",
              "      <td>125</td>\n",
              "      <td>1</td>\n",
              "      <td>10</td>\n",
              "      <td>337</td>\n",
              "      <td>1384</td>\n",
              "      <td>1906</td>\n",
              "      <td>17</td>\n",
              "      <td>13</td>\n",
              "      <td>13</td>\n",
              "      <td>0</td>\n",
              "      <td>1</td>\n",
              "      <td>1</td>\n",
              "    </tr>\n",
              "    <tr>\n",
              "      <th>4</th>\n",
              "      <td>1754</td>\n",
              "      <td>1086</td>\n",
              "      <td>1</td>\n",
              "      <td>1.7</td>\n",
              "      <td>1</td>\n",
              "      <td>0</td>\n",
              "      <td>1</td>\n",
              "      <td>43</td>\n",
              "      <td>0.2</td>\n",
              "      <td>111</td>\n",
              "      <td>6</td>\n",
              "      <td>1</td>\n",
              "      <td>56</td>\n",
              "      <td>1150</td>\n",
              "      <td>3285</td>\n",
              "      <td>11</td>\n",
              "      <td>5</td>\n",
              "      <td>17</td>\n",
              "      <td>1</td>\n",
              "      <td>1</td>\n",
              "      <td>0</td>\n",
              "    </tr>\n",
              "  </tbody>\n",
              "</table>\n",
              "</div>"
            ],
            "text/plain": [
              "   index  daya_baterai  bluetooth  ...  three_g  touch_screen  wifi\n",
              "0    405          1454          1  ...        1             1     0\n",
              "1   1190          1092          1  ...        0             1     0\n",
              "2   1132          1524          1  ...        1             0     1\n",
              "3    731          1807          1  ...        0             1     1\n",
              "4   1754          1086          1  ...        1             1     0\n",
              "\n",
              "[5 rows x 21 columns]"
            ]
          },
          "metadata": {
            "tags": []
          },
          "execution_count": 64
        }
      ]
    },
    {
      "cell_type": "code",
      "metadata": {
        "colab": {
          "base_uri": "https://localhost:8080/",
          "height": 520
        },
        "id": "kXsWCocuHo6z",
        "outputId": "eab23d83-f8aa-4c4b-d79f-a2ff0eb24cc0"
      },
      "source": [
        "sns.countplot(x='wifi', data = dataTrain)"
      ],
      "execution_count": null,
      "outputs": [
        {
          "output_type": "execute_result",
          "data": {
            "text/plain": [
              "<matplotlib.axes._subplots.AxesSubplot at 0x7f4ecda30410>"
            ]
          },
          "metadata": {
            "tags": []
          },
          "execution_count": 65
        },
        {
          "output_type": "display_data",
          "data": {
            "image/png": "[encoded data removed]",
            "text/plain": [
              "<Figure size 864x576 with 1 Axes>"
            ]
          },
          "metadata": {
            "tags": []
          }
        }
      ]
    },
    {
      "cell_type": "code",
      "metadata": {
        "colab": {
          "base_uri": "https://localhost:8080/",
          "height": 998
        },
        "id": "uhW9TlgX6BP8",
        "outputId": "73dc3f06-50cc-49b0-b418-3f35864c3add"
      },
      "source": [
        "sns.set(rc={'figure.figsize':(20,15)})\n",
        "sns.heatmap(dataTrain.corr(), annot=True, linewidths=2)"
      ],
      "execution_count": null,
      "outputs": [
        {
          "output_type": "execute_result",
          "data": {
            "text/plain": [
              "<matplotlib.axes._subplots.AxesSubplot at 0x7f4ecd996dd0>"
            ]
          },
          "metadata": {
            "tags": []
          },
          "execution_count": 66
        },
        {
          "output_type": "display_data",
          "data": {
            "image/png": "[encoded data removed]",
            "text/plain": [
              "<Figure size 1440x1080 with 2 Axes>"
            ]
          },
          "metadata": {
            "tags": []
          }
        }
      ]
    },
    {
      "cell_type": "code",
      "metadata": {
        "id": "WPr6QpB38xsA"
      },
      "source": [
        "x = dataTrain.drop(['price_range', 'index'], axis=1)"
      ],
      "execution_count": null,
      "outputs": []
    },
    {
      "cell_type": "code",
      "metadata": {
        "id": "f3a8tPB9cLlO"
      },
      "source": [
        "y = dataTrain['price_range']"
      ],
      "execution_count": null,
      "outputs": []
    },
    {
      "cell_type": "code",
      "metadata": {
        "id": "GCri5qNhdCeJ"
      },
      "source": [
        "xtst = dataTest.drop(['index'], axis=1)"
      ],
      "execution_count": null,
      "outputs": []
    },
    {
      "cell_type": "code",
      "metadata": {
        "id": "OyOmxjyU-Fqc"
      },
      "source": [
        "#Rescaling Data\n",
        "\n",
        "cols1 = x.columns\n",
        "cols2 = dataTest.columns\n",
        "\n",
        "scaling = StandardScaler()\n",
        "x = scaling.fit_transform(x)\n",
        "x_test = scaling.transform(dataTest)\n",
        "\n",
        "x = pd.DataFrame(x, columns=cols1)\n",
        "x_test = pd.DataFrame(x_test, columns=cols2)"
      ],
      "execution_count": null,
      "outputs": []
    },
    {
      "cell_type": "code",
      "metadata": {
        "colab": {
          "base_uri": "https://localhost:8080/",
          "height": 222
        },
        "id": "-6jsw8_mCdGx",
        "outputId": "31e620d2-fe2c-42be-e737-47cf1eb4b9bc"
      },
      "source": [
        "x.head()"
      ],
      "execution_count": null,
      "outputs": [
        {
          "output_type": "execute_result",
          "data": {
            "text/html": [
              "<div>\n",
              "<style scoped>\n",
              "    .dataframe tbody tr th:only-of-type {\n",
              "        vertical-align: middle;\n",
              "    }\n",
              "\n",
              "    .dataframe tbody tr th {\n",
              "        vertical-align: top;\n",
              "    }\n",
              "\n",
              "    .dataframe thead th {\n",
              "        text-align: right;\n",
              "    }\n",
              "</style>\n",
              "<table border=\"1\" class=\"dataframe\">\n",
              "  <thead>\n",
              "    <tr style=\"text-align: right;\">\n",
              "      <th></th>\n",
              "      <th>index</th>\n",
              "      <th>daya_baterai</th>\n",
              "      <th>bluetooth</th>\n",
              "      <th>kecepatan_clock</th>\n",
              "      <th>dual_sim</th>\n",
              "      <th>kamera_depan</th>\n",
              "      <th>four_g</th>\n",
              "      <th>memori_internal</th>\n",
              "      <th>tebal_hp</th>\n",
              "      <th>berat_hp</th>\n",
              "      <th>jumlah_prosesor</th>\n",
              "      <th>kamera_belakang_mp</th>\n",
              "      <th>px_panjang</th>\n",
              "      <th>px_lebar</th>\n",
              "      <th>kapasitas_ram</th>\n",
              "      <th>panjang_layar</th>\n",
              "      <th>lebar_layar</th>\n",
              "      <th>waktu_telfon</th>\n",
              "      <th>three_g</th>\n",
              "      <th>touch_screen</th>\n",
              "      <th>wifi</th>\n",
              "    </tr>\n",
              "  </thead>\n",
              "  <tbody>\n",
              "    <tr>\n",
              "      <th>0</th>\n",
              "      <td>0.068396</td>\n",
              "      <td>-1.589547</td>\n",
              "      <td>-0.976281</td>\n",
              "      <td>-0.546049</td>\n",
              "      <td>-1.028403</td>\n",
              "      <td>1.369927</td>\n",
              "      <td>-1.033908</td>\n",
              "      <td>1.694932</td>\n",
              "      <td>0.688741</td>\n",
              "      <td>1.420497</td>\n",
              "      <td>1.087565</td>\n",
              "      <td>0.695501</td>\n",
              "      <td>-1.147405</td>\n",
              "      <td>1.471958</td>\n",
              "      <td>0.797948</td>\n",
              "      <td>1.109189</td>\n",
              "      <td>-1.098458</td>\n",
              "      <td>1.454654</td>\n",
              "      <td>-1.779513</td>\n",
              "      <td>1.010724</td>\n",
              "      <td>-1.028403</td>\n",
              "    </tr>\n",
              "    <tr>\n",
              "      <th>1</th>\n",
              "      <td>-0.119240</td>\n",
              "      <td>-1.062043</td>\n",
              "      <td>1.024295</td>\n",
              "      <td>-0.423975</td>\n",
              "      <td>0.972381</td>\n",
              "      <td>-0.751433</td>\n",
              "      <td>-1.033908</td>\n",
              "      <td>-1.034662</td>\n",
              "      <td>1.729485</td>\n",
              "      <td>0.365630</td>\n",
              "      <td>1.527281</td>\n",
              "      <td>-1.287239</td>\n",
              "      <td>-0.662840</td>\n",
              "      <td>-1.734394</td>\n",
              "      <td>0.974958</td>\n",
              "      <td>1.348756</td>\n",
              "      <td>0.263267</td>\n",
              "      <td>-0.918454</td>\n",
              "      <td>0.561951</td>\n",
              "      <td>1.010724</td>\n",
              "      <td>-1.028403</td>\n",
              "    </tr>\n",
              "    <tr>\n",
              "      <th>2</th>\n",
              "      <td>1.133405</td>\n",
              "      <td>1.310596</td>\n",
              "      <td>1.024295</td>\n",
              "      <td>-0.301901</td>\n",
              "      <td>0.972381</td>\n",
              "      <td>-0.044313</td>\n",
              "      <td>0.967204</td>\n",
              "      <td>0.548503</td>\n",
              "      <td>1.729485</td>\n",
              "      <td>0.650729</td>\n",
              "      <td>1.087565</td>\n",
              "      <td>0.860729</td>\n",
              "      <td>-0.620216</td>\n",
              "      <td>0.658853</td>\n",
              "      <td>1.151968</td>\n",
              "      <td>1.348756</td>\n",
              "      <td>1.624991</td>\n",
              "      <td>-0.005720</td>\n",
              "      <td>0.561951</td>\n",
              "      <td>1.010724</td>\n",
              "      <td>0.972381</td>\n",
              "    </tr>\n",
              "    <tr>\n",
              "      <th>3</th>\n",
              "      <td>-0.828088</td>\n",
              "      <td>1.330972</td>\n",
              "      <td>-0.976281</td>\n",
              "      <td>-0.790197</td>\n",
              "      <td>-1.028403</td>\n",
              "      <td>1.134221</td>\n",
              "      <td>0.967204</td>\n",
              "      <td>-1.089253</td>\n",
              "      <td>-0.698917</td>\n",
              "      <td>-0.717746</td>\n",
              "      <td>-1.550733</td>\n",
              "      <td>1.356414</td>\n",
              "      <td>-1.255086</td>\n",
              "      <td>1.241617</td>\n",
              "      <td>0.306046</td>\n",
              "      <td>-1.286479</td>\n",
              "      <td>-0.417596</td>\n",
              "      <td>-0.918454</td>\n",
              "      <td>0.561951</td>\n",
              "      <td>1.010724</td>\n",
              "      <td>0.972381</td>\n",
              "    </tr>\n",
              "    <tr>\n",
              "      <th>4</th>\n",
              "      <td>-0.192210</td>\n",
              "      <td>1.260789</td>\n",
              "      <td>1.024295</td>\n",
              "      <td>0.918837</td>\n",
              "      <td>0.972381</td>\n",
              "      <td>-0.280020</td>\n",
              "      <td>0.967204</td>\n",
              "      <td>0.930646</td>\n",
              "      <td>-0.005088</td>\n",
              "      <td>-1.116885</td>\n",
              "      <td>-0.671300</td>\n",
              "      <td>0.199816</td>\n",
              "      <td>-0.584323</td>\n",
              "      <td>1.649321</td>\n",
              "      <td>1.366244</td>\n",
              "      <td>-1.526046</td>\n",
              "      <td>-0.871504</td>\n",
              "      <td>1.272107</td>\n",
              "      <td>0.561951</td>\n",
              "      <td>-0.989390</td>\n",
              "      <td>0.972381</td>\n",
              "    </tr>\n",
              "  </tbody>\n",
              "</table>\n",
              "</div>"
            ],
            "text/plain": [
              "      index  daya_baterai  bluetooth  ...   three_g  touch_screen      wifi\n",
              "0  0.068396     -1.589547  -0.976281  ... -1.779513      1.010724 -1.028403\n",
              "1 -0.119240     -1.062043   1.024295  ...  0.561951      1.010724 -1.028403\n",
              "2  1.133405      1.310596   1.024295  ...  0.561951      1.010724  0.972381\n",
              "3 -0.828088      1.330972  -0.976281  ...  0.561951      1.010724  0.972381\n",
              "4 -0.192210      1.260789   1.024295  ...  0.561951     -0.989390  0.972381\n",
              "\n",
              "[5 rows x 21 columns]"
            ]
          },
          "metadata": {
            "tags": []
          },
          "execution_count": 36
        }
      ]
    },
    {
      "cell_type": "code",
      "metadata": {
        "colab": {
          "base_uri": "https://localhost:8080/",
          "height": 916
        },
        "id": "iby423cK_6Pa",
        "outputId": "27f30a16-8adf-4444-8139-20f8f35ce64d"
      },
      "source": [
        "classifier = [KNeighborsClassifier(3), SVC(probability=True), DecisionTreeClassifier(), RandomForestClassifier(), AdaBoostClassifier(), GaussianNB(), LinearDiscriminantAnalysis(), QuadraticDiscriminantAnalysis(), LogisticRegression()]\n",
        "\n",
        "log_cols = [\"Classifier\", \"Accuracy\"]\n",
        "log = pd.DataFrame(columns=log_cols)\n",
        "\n",
        "split = StratifiedShuffleSplit(n_splits=10, test_size=1/3, random_state=42)\n",
        "\n",
        "x = x.iloc[:,:].values\n",
        "y = y.values\n",
        "\n",
        "acc_dict = {}\n",
        "\n",
        "for train_index, test_index in split.split(x,y):\n",
        "    x_train, x_test = x[train_index], x[test_index]\n",
        "    y_train, y_test = y[train_index], y[test_index]\n",
        "\n",
        "    for clf in classifier:\n",
        "        name = clf.__class__.__name__\n",
        "        clf.fit(x_train, y_train)\n",
        "        train_predictions = clf.predict(x_test)\n",
        "        acc = accuracy_score(y_test, train_predictions)\n",
        "        if name in acc_dict:\n",
        "            acc_dict[name] += acc\n",
        "        else:\n",
        "            acc_dict[name] = acc\n",
        "\n",
        "for clf in acc_dict:\n",
        "    acc_dict[clf] = acc_dict[clf] / 10.0\n",
        "    log_entry = pd.DataFrame([[clf, acc_dict[clf]]], columns=log_cols)\n",
        "    log = log.append(log_entry)\n",
        "\n",
        "plt.xlabel('Accuracy')\n",
        "plt.title('Classifier Accuracy')\n",
        "\n",
        "sns.set_color_codes(\"muted\")\n",
        "sns.barplot(x='Accuracy', y='Classifier', data = log, color='b')"
      ],
      "execution_count": null,
      "outputs": [
        {
          "output_type": "execute_result",
          "data": {
            "text/plain": [
              "<matplotlib.axes._subplots.AxesSubplot at 0x7f4ed5d8d290>"
            ]
          },
          "metadata": {
            "tags": []
          },
          "execution_count": 70
        },
        {
          "output_type": "display_data",
          "data": {
            "image/png": "[encoded data removed]",
            "text/plain": [
              "<Figure size 1440x1080 with 1 Axes>"
            ]
          },
          "metadata": {
            "tags": []
          }
        }
      ]
    },
    {
      "cell_type": "code",
      "metadata": {
        "colab": {
          "base_uri": "https://localhost:8080/"
        },
        "id": "Uo-qMP2HYQUk",
        "outputId": "0ca8b03b-09a1-4f20-a663-6c0094aca271"
      },
      "source": [
        "x_test"
      ],
      "execution_count": null,
      "outputs": [
        {
          "output_type": "execute_result",
          "data": {
            "text/plain": [
              "array([[-1.3128153 , -0.76999077, -0.97628121, ..., -1.77951304,\n",
              "         1.01072417,  0.97238125],\n",
              "       [-0.80550257, -1.50351656, -0.97628121, ...,  0.56195149,\n",
              "        -0.98938962,  0.97238125],\n",
              "       [-1.2311588 ,  0.21709948,  1.02429504, ...,  0.56195149,\n",
              "        -0.98938962,  0.97238125],\n",
              "       ...,\n",
              "       [-1.50045151,  0.68800493,  1.02429504, ...,  0.56195149,\n",
              "         1.01072417,  0.97238125],\n",
              "       [ 0.58613268, -0.90130095, -0.97628121, ...,  0.56195149,\n",
              "         1.01072417,  0.97238125],\n",
              "       [-0.527523  , -1.58049149, -0.97628121, ...,  0.56195149,\n",
              "         1.01072417, -1.02840321]])"
            ]
          },
          "metadata": {
            "tags": []
          },
          "execution_count": 38
        }
      ]
    },
    {
      "cell_type": "markdown",
      "metadata": {
        "id": "y6L3P4a4KfFk"
      },
      "source": [
        "# Using Logistic Regression"
      ]
    },
    {
      "cell_type": "code",
      "metadata": {
        "colab": {
          "base_uri": "https://localhost:8080/"
        },
        "id": "TAWXJIG7ErWK",
        "outputId": "44e4a0c9-820e-4f05-a6d4-72e5be4e0407"
      },
      "source": [
        "#Tuning\n",
        "\n",
        "model = LogisticRegression()\n",
        "param = {'penalty':['l1', 'l2', 'elasticnet', 'none'],\n",
        "         'solver':['newton-cg','lbfgs', 'liblinear', 'sag', 'saga'],\n",
        "         'class_weight':['dict','balanced'],\n",
        "         'C':[0.1, 0.5, 0.25, 1,10]}\n",
        "gridscv = RandomizedSearchCV(model, param, cv = 10, scoring = 'f1_micro')\n",
        "gridscv.fit(x, y)"
      ],
      "execution_count": null,
      "outputs": [
        {
          "output_type": "execute_result",
          "data": {
            "text/plain": [
              "RandomizedSearchCV(cv=10, error_score=nan,\n",
              "                   estimator=LogisticRegression(C=1.0, class_weight=None,\n",
              "                                                dual=False, fit_intercept=True,\n",
              "                                                intercept_scaling=1,\n",
              "                                                l1_ratio=None, max_iter=100,\n",
              "                                                multi_class='auto', n_jobs=None,\n",
              "                                                penalty='l2', random_state=None,\n",
              "                                                solver='lbfgs', tol=0.0001,\n",
              "                                                verbose=0, warm_start=False),\n",
              "                   iid='deprecated', n_iter=10, n_jobs=None,\n",
              "                   param_distributions={'C': [0.1, 0.5, 0.25, 1, 10],\n",
              "                                        'class_weight': ['dict', 'balanced'],\n",
              "                                        'penalty': ['l1', 'l2', 'elasticnet',\n",
              "                                                    'none'],\n",
              "                                        'solver': ['newton-cg', 'lbfgs',\n",
              "                                                   'liblinear', 'sag',\n",
              "                                                   'saga']},\n",
              "                   pre_dispatch='2*n_jobs', random_state=None, refit=True,\n",
              "                   return_train_score=False, scoring='f1_micro', verbose=0)"
            ]
          },
          "metadata": {
            "tags": []
          },
          "execution_count": 39
        }
      ]
    },
    {
      "cell_type": "code",
      "metadata": {
        "colab": {
          "base_uri": "https://localhost:8080/"
        },
        "id": "W7zATaccOR3u",
        "outputId": "2d84dd81-e4cb-47dd-c75f-a15b5644b913"
      },
      "source": [
        "gridscv.best_params_"
      ],
      "execution_count": null,
      "outputs": [
        {
          "output_type": "execute_result",
          "data": {
            "text/plain": [
              "{'C': 10, 'class_weight': 'balanced', 'penalty': 'l1', 'solver': 'saga'}"
            ]
          },
          "metadata": {
            "tags": []
          },
          "execution_count": 40
        }
      ]
    },
    {
      "cell_type": "code",
      "metadata": {
        "colab": {
          "base_uri": "https://localhost:8080/"
        },
        "id": "27uTfG4JNbKm",
        "outputId": "426e8137-08c8-4d7f-cd92-f0c3099ef73e"
      },
      "source": [
        "gridscv.best_score_"
      ],
      "execution_count": null,
      "outputs": [
        {
          "output_type": "execute_result",
          "data": {
            "text/plain": [
              "0.9673333333333332"
            ]
          },
          "metadata": {
            "tags": []
          },
          "execution_count": 41
        }
      ]
    },
    {
      "cell_type": "code",
      "metadata": {
        "id": "bHOzFBFFOdKw"
      },
      "source": [
        "model = gridscv.best_estimator_"
      ],
      "execution_count": null,
      "outputs": []
    },
    {
      "cell_type": "code",
      "metadata": {
        "colab": {
          "base_uri": "https://localhost:8080/"
        },
        "id": "FPaJgGD7OkDa",
        "outputId": "53458c98-6348-42a8-b051-e2ef5f8efdcf"
      },
      "source": [
        "y_pred = model.predict(x_test)\n",
        "y_pred\n",
        "len(y_pred)"
      ],
      "execution_count": null,
      "outputs": [
        {
          "output_type": "execute_result",
          "data": {
            "text/plain": [
              "500"
            ]
          },
          "metadata": {
            "tags": []
          },
          "execution_count": 43
        }
      ]
    },
    {
      "cell_type": "code",
      "metadata": {
        "id": "4--EBILhOpUw"
      },
      "source": [
        "submission = pd.DataFrame({'index':dataTest['index'], 'price_range':y_pred})\n",
        "submission.to_csv('submissionCoba.csv', index=False)"
      ],
      "execution_count": null,
      "outputs": []
    },
    {
      "cell_type": "code",
      "metadata": {
        "colab": {
          "base_uri": "https://localhost:8080/",
          "height": 416
        },
        "id": "odLVK5t6fJM2",
        "outputId": "c988fa8c-b1f5-4d94-f79a-8b24721cde06"
      },
      "source": [
        "submission"
      ],
      "execution_count": null,
      "outputs": [
        {
          "output_type": "execute_result",
          "data": {
            "text/html": [
              "<div>\n",
              "<style scoped>\n",
              "    .dataframe tbody tr th:only-of-type {\n",
              "        vertical-align: middle;\n",
              "    }\n",
              "\n",
              "    .dataframe tbody tr th {\n",
              "        vertical-align: top;\n",
              "    }\n",
              "\n",
              "    .dataframe thead th {\n",
              "        text-align: right;\n",
              "    }\n",
              "</style>\n",
              "<table border=\"1\" class=\"dataframe\">\n",
              "  <thead>\n",
              "    <tr style=\"text-align: right;\">\n",
              "      <th></th>\n",
              "      <th>index</th>\n",
              "      <th>price_range</th>\n",
              "    </tr>\n",
              "  </thead>\n",
              "  <tbody>\n",
              "    <tr>\n",
              "      <th>0</th>\n",
              "      <td>405</td>\n",
              "      <td>2</td>\n",
              "    </tr>\n",
              "    <tr>\n",
              "      <th>1</th>\n",
              "      <td>1190</td>\n",
              "      <td>1</td>\n",
              "    </tr>\n",
              "    <tr>\n",
              "      <th>2</th>\n",
              "      <td>1132</td>\n",
              "      <td>1</td>\n",
              "    </tr>\n",
              "    <tr>\n",
              "      <th>3</th>\n",
              "      <td>731</td>\n",
              "      <td>2</td>\n",
              "    </tr>\n",
              "    <tr>\n",
              "      <th>4</th>\n",
              "      <td>1754</td>\n",
              "      <td>2</td>\n",
              "    </tr>\n",
              "    <tr>\n",
              "      <th>...</th>\n",
              "      <td>...</td>\n",
              "      <td>...</td>\n",
              "    </tr>\n",
              "    <tr>\n",
              "      <th>495</th>\n",
              "      <td>936</td>\n",
              "      <td>0</td>\n",
              "    </tr>\n",
              "    <tr>\n",
              "      <th>496</th>\n",
              "      <td>1524</td>\n",
              "      <td>0</td>\n",
              "    </tr>\n",
              "    <tr>\n",
              "      <th>497</th>\n",
              "      <td>1415</td>\n",
              "      <td>3</td>\n",
              "    </tr>\n",
              "    <tr>\n",
              "      <th>498</th>\n",
              "      <td>1223</td>\n",
              "      <td>2</td>\n",
              "    </tr>\n",
              "    <tr>\n",
              "      <th>499</th>\n",
              "      <td>1548</td>\n",
              "      <td>0</td>\n",
              "    </tr>\n",
              "  </tbody>\n",
              "</table>\n",
              "<p>500 rows × 2 columns</p>\n",
              "</div>"
            ],
            "text/plain": [
              "     index  price_range\n",
              "0      405            2\n",
              "1     1190            1\n",
              "2     1132            1\n",
              "3      731            2\n",
              "4     1754            2\n",
              "..     ...          ...\n",
              "495    936            0\n",
              "496   1524            0\n",
              "497   1415            3\n",
              "498   1223            2\n",
              "499   1548            0\n",
              "\n",
              "[500 rows x 2 columns]"
            ]
          },
          "metadata": {
            "tags": []
          },
          "execution_count": 45
        }
      ]
    },
    {
      "cell_type": "markdown",
      "metadata": {
        "id": "NozbQDtfKaBT"
      },
      "source": [
        "# Using Decision Tree"
      ]
    },
    {
      "cell_type": "code",
      "metadata": {
        "id": "wBS_jOsLv8JH",
        "colab": {
          "base_uri": "https://localhost:8080/"
        },
        "outputId": "107fa95c-98a5-4cf4-c6e6-4785a887621b"
      },
      "source": [
        "#Tuning Decision Tree\n",
        "\n",
        "modelDTC = DecisionTreeClassifier()\n",
        "param = {\n",
        "    'criterion':['gini','entropy'],\n",
        "    'max_depth':[1,2,3,4,5,6,7,8,9,10],\n",
        "    'min_samples_split':[1,2,3,4,5,6,7,8,9,10],\n",
        "    'min_samples_leaf':[1,2,3,4,5]\n",
        "}\n",
        "rscv = RandomizedSearchCV(modelDTC, param, cv = 10, scoring = 'f1_micro', verbose=3)\n",
        "rscv.fit(x,y)"
      ],
      "execution_count": null,
      "outputs": [
        {
          "output_type": "stream",
          "text": [
            "Fitting 10 folds for each of 10 candidates, totalling 100 fits\n",
            "[CV] min_samples_split=4, min_samples_leaf=1, max_depth=10, criterion=entropy \n",
            "[CV]  min_samples_split=4, min_samples_leaf=1, max_depth=10, criterion=entropy, score=0.707, total=   0.0s\n",
            "[CV] min_samples_split=4, min_samples_leaf=1, max_depth=10, criterion=entropy \n",
            "[CV]  min_samples_split=4, min_samples_leaf=1, max_depth=10, criterion=entropy, score=0.720, total=   0.0s\n",
            "[CV] min_samples_split=4, min_samples_leaf=1, max_depth=10, criterion=entropy \n",
            "[CV]  min_samples_split=4, min_samples_leaf=1, max_depth=10, criterion=entropy, score=0.747, total=   0.0s\n",
            "[CV] min_samples_split=4, min_samples_leaf=1, max_depth=10, criterion=entropy \n",
            "[CV]  min_samples_split=4, min_samples_leaf=1, max_depth=10, criterion=entropy, score=0.733, total=   0.0s\n",
            "[CV] min_samples_split=4, min_samples_leaf=1, max_depth=10, criterion=entropy \n",
            "[CV]  min_samples_split=4, min_samples_leaf=1, max_depth=10, criterion=entropy, score=0.667, total=   0.0s\n",
            "[CV] min_samples_split=4, min_samples_leaf=1, max_depth=10, criterion=entropy \n",
            "[CV]  min_samples_split=4, min_samples_leaf=1, max_depth=10, criterion=entropy, score=0.740, total=   0.0s\n",
            "[CV] min_samples_split=4, min_samples_leaf=1, max_depth=10, criterion=entropy \n",
            "[CV]  min_samples_split=4, min_samples_leaf=1, max_depth=10, criterion=entropy, score=0.740, total=   0.0s\n",
            "[CV] min_samples_split=4, min_samples_leaf=1, max_depth=10, criterion=entropy \n",
            "[CV]  min_samples_split=4, min_samples_leaf=1, max_depth=10, criterion=entropy, score=0.733, total=   0.0s\n",
            "[CV] min_samples_split=4, min_samples_leaf=1, max_depth=10, criterion=entropy \n",
            "[CV]  min_samples_split=4, min_samples_leaf=1, max_depth=10, criterion=entropy, score=0.747, total=   0.0s\n",
            "[CV] min_samples_split=4, min_samples_leaf=1, max_depth=10, criterion=entropy \n",
            "[CV]  min_samples_split=4, min_samples_leaf=1, max_depth=10, criterion=entropy, score=0.727, total=   0.0s\n",
            "[CV] min_samples_split=8, min_samples_leaf=5, max_depth=1, criterion=entropy \n"
          ],
          "name": "stdout"
        },
        {
          "output_type": "stream",
          "text": [
            "[Parallel(n_jobs=1)]: Using backend SequentialBackend with 1 concurrent workers.\n",
            "[Parallel(n_jobs=1)]: Done   1 out of   1 | elapsed:    0.0s remaining:    0.0s\n",
            "[Parallel(n_jobs=1)]: Done   2 out of   2 | elapsed:    0.0s remaining:    0.0s\n"
          ],
          "name": "stderr"
        },
        {
          "output_type": "stream",
          "text": [
            "[CV]  min_samples_split=8, min_samples_leaf=5, max_depth=1, criterion=entropy, score=0.487, total=   0.0s\n",
            "[CV] min_samples_split=8, min_samples_leaf=5, max_depth=1, criterion=entropy \n",
            "[CV]  min_samples_split=8, min_samples_leaf=5, max_depth=1, criterion=entropy, score=0.487, total=   0.0s\n",
            "[CV] min_samples_split=8, min_samples_leaf=5, max_depth=1, criterion=entropy \n",
            "[CV]  min_samples_split=8, min_samples_leaf=5, max_depth=1, criterion=entropy, score=0.487, total=   0.0s\n",
            "[CV] min_samples_split=8, min_samples_leaf=5, max_depth=1, criterion=entropy \n",
            "[CV]  min_samples_split=8, min_samples_leaf=5, max_depth=1, criterion=entropy, score=0.487, total=   0.0s\n",
            "[CV] min_samples_split=8, min_samples_leaf=5, max_depth=1, criterion=entropy \n",
            "[CV]  min_samples_split=8, min_samples_leaf=5, max_depth=1, criterion=entropy, score=0.487, total=   0.0s\n",
            "[CV] min_samples_split=8, min_samples_leaf=5, max_depth=1, criterion=entropy \n",
            "[CV]  min_samples_split=8, min_samples_leaf=5, max_depth=1, criterion=entropy, score=0.493, total=   0.0s\n",
            "[CV] min_samples_split=8, min_samples_leaf=5, max_depth=1, criterion=entropy \n",
            "[CV]  min_samples_split=8, min_samples_leaf=5, max_depth=1, criterion=entropy, score=0.493, total=   0.0s\n",
            "[CV] min_samples_split=8, min_samples_leaf=5, max_depth=1, criterion=entropy \n",
            "[CV]  min_samples_split=8, min_samples_leaf=5, max_depth=1, criterion=entropy, score=0.493, total=   0.0s\n",
            "[CV] min_samples_split=8, min_samples_leaf=5, max_depth=1, criterion=entropy \n",
            "[CV]  min_samples_split=8, min_samples_leaf=5, max_depth=1, criterion=entropy, score=0.493, total=   0.0s\n",
            "[CV] min_samples_split=8, min_samples_leaf=5, max_depth=1, criterion=entropy \n",
            "[CV]  min_samples_split=8, min_samples_leaf=5, max_depth=1, criterion=entropy, score=0.493, total=   0.0s\n",
            "[CV] min_samples_split=10, min_samples_leaf=5, max_depth=8, criterion=gini \n",
            "[CV]  min_samples_split=10, min_samples_leaf=5, max_depth=8, criterion=gini, score=0.720, total=   0.0s\n",
            "[CV] min_samples_split=10, min_samples_leaf=5, max_depth=8, criterion=gini \n",
            "[CV]  min_samples_split=10, min_samples_leaf=5, max_depth=8, criterion=gini, score=0.753, total=   0.0s\n",
            "[CV] min_samples_split=10, min_samples_leaf=5, max_depth=8, criterion=gini \n",
            "[CV]  min_samples_split=10, min_samples_leaf=5, max_depth=8, criterion=gini, score=0.787, total=   0.0s\n",
            "[CV] min_samples_split=10, min_samples_leaf=5, max_depth=8, criterion=gini \n",
            "[CV]  min_samples_split=10, min_samples_leaf=5, max_depth=8, criterion=gini, score=0.687, total=   0.0s\n",
            "[CV] min_samples_split=10, min_samples_leaf=5, max_depth=8, criterion=gini \n",
            "[CV]  min_samples_split=10, min_samples_leaf=5, max_depth=8, criterion=gini, score=0.733, total=   0.0s\n",
            "[CV] min_samples_split=10, min_samples_leaf=5, max_depth=8, criterion=gini \n",
            "[CV]  min_samples_split=10, min_samples_leaf=5, max_depth=8, criterion=gini, score=0.740, total=   0.0s\n",
            "[CV] min_samples_split=10, min_samples_leaf=5, max_depth=8, criterion=gini \n",
            "[CV]  min_samples_split=10, min_samples_leaf=5, max_depth=8, criterion=gini, score=0.707, total=   0.0s\n",
            "[CV] min_samples_split=10, min_samples_leaf=5, max_depth=8, criterion=gini \n",
            "[CV]  min_samples_split=10, min_samples_leaf=5, max_depth=8, criterion=gini, score=0.733, total=   0.0s\n",
            "[CV] min_samples_split=10, min_samples_leaf=5, max_depth=8, criterion=gini \n",
            "[CV]  min_samples_split=10, min_samples_leaf=5, max_depth=8, criterion=gini, score=0.760, total=   0.0s\n",
            "[CV] min_samples_split=10, min_samples_leaf=5, max_depth=8, criterion=gini \n",
            "[CV]  min_samples_split=10, min_samples_leaf=5, max_depth=8, criterion=gini, score=0.713, total=   0.0s\n",
            "[CV] min_samples_split=6, min_samples_leaf=1, max_depth=6, criterion=entropy \n",
            "[CV]  min_samples_split=6, min_samples_leaf=1, max_depth=6, criterion=entropy, score=0.780, total=   0.0s\n",
            "[CV] min_samples_split=6, min_samples_leaf=1, max_depth=6, criterion=entropy \n",
            "[CV]  min_samples_split=6, min_samples_leaf=1, max_depth=6, criterion=entropy, score=0.700, total=   0.0s\n",
            "[CV] min_samples_split=6, min_samples_leaf=1, max_depth=6, criterion=entropy \n",
            "[CV]  min_samples_split=6, min_samples_leaf=1, max_depth=6, criterion=entropy, score=0.753, total=   0.0s\n",
            "[CV] min_samples_split=6, min_samples_leaf=1, max_depth=6, criterion=entropy \n",
            "[CV]  min_samples_split=6, min_samples_leaf=1, max_depth=6, criterion=entropy, score=0.733, total=   0.0s\n",
            "[CV] min_samples_split=6, min_samples_leaf=1, max_depth=6, criterion=entropy \n",
            "[CV]  min_samples_split=6, min_samples_leaf=1, max_depth=6, criterion=entropy, score=0.753, total=   0.0s\n",
            "[CV] min_samples_split=6, min_samples_leaf=1, max_depth=6, criterion=entropy \n",
            "[CV]  min_samples_split=6, min_samples_leaf=1, max_depth=6, criterion=entropy, score=0.733, total=   0.0s\n",
            "[CV] min_samples_split=6, min_samples_leaf=1, max_depth=6, criterion=entropy \n",
            "[CV]  min_samples_split=6, min_samples_leaf=1, max_depth=6, criterion=entropy, score=0.767, total=   0.0s\n",
            "[CV] min_samples_split=6, min_samples_leaf=1, max_depth=6, criterion=entropy \n",
            "[CV]  min_samples_split=6, min_samples_leaf=1, max_depth=6, criterion=entropy, score=0.767, total=   0.0s\n",
            "[CV] min_samples_split=6, min_samples_leaf=1, max_depth=6, criterion=entropy \n",
            "[CV]  min_samples_split=6, min_samples_leaf=1, max_depth=6, criterion=entropy, score=0.767, total=   0.0s\n",
            "[CV] min_samples_split=6, min_samples_leaf=1, max_depth=6, criterion=entropy \n",
            "[CV]  min_samples_split=6, min_samples_leaf=1, max_depth=6, criterion=entropy, score=0.767, total=   0.0s\n",
            "[CV] min_samples_split=5, min_samples_leaf=5, max_depth=6, criterion=entropy \n",
            "[CV]  min_samples_split=5, min_samples_leaf=5, max_depth=6, criterion=entropy, score=0.787, total=   0.0s\n",
            "[CV] min_samples_split=5, min_samples_leaf=5, max_depth=6, criterion=entropy \n",
            "[CV]  min_samples_split=5, min_samples_leaf=5, max_depth=6, criterion=entropy, score=0.700, total=   0.0s\n",
            "[CV] min_samples_split=5, min_samples_leaf=5, max_depth=6, criterion=entropy \n",
            "[CV]  min_samples_split=5, min_samples_leaf=5, max_depth=6, criterion=entropy, score=0.760, total=   0.0s\n",
            "[CV] min_samples_split=5, min_samples_leaf=5, max_depth=6, criterion=entropy \n",
            "[CV]  min_samples_split=5, min_samples_leaf=5, max_depth=6, criterion=entropy, score=0.753, total=   0.0s\n",
            "[CV] min_samples_split=5, min_samples_leaf=5, max_depth=6, criterion=entropy \n",
            "[CV]  min_samples_split=5, min_samples_leaf=5, max_depth=6, criterion=entropy, score=0.780, total=   0.0s\n",
            "[CV] min_samples_split=5, min_samples_leaf=5, max_depth=6, criterion=entropy \n",
            "[CV]  min_samples_split=5, min_samples_leaf=5, max_depth=6, criterion=entropy, score=0.740, total=   0.0s\n",
            "[CV] min_samples_split=5, min_samples_leaf=5, max_depth=6, criterion=entropy \n",
            "[CV]  min_samples_split=5, min_samples_leaf=5, max_depth=6, criterion=entropy, score=0.767, total=   0.0s\n",
            "[CV] min_samples_split=5, min_samples_leaf=5, max_depth=6, criterion=entropy \n",
            "[CV]  min_samples_split=5, min_samples_leaf=5, max_depth=6, criterion=entropy, score=0.767, total=   0.0s\n",
            "[CV] min_samples_split=5, min_samples_leaf=5, max_depth=6, criterion=entropy \n",
            "[CV]  min_samples_split=5, min_samples_leaf=5, max_depth=6, criterion=entropy, score=0.760, total=   0.0s\n",
            "[CV] min_samples_split=5, min_samples_leaf=5, max_depth=6, criterion=entropy \n",
            "[CV]  min_samples_split=5, min_samples_leaf=5, max_depth=6, criterion=entropy, score=0.767, total=   0.0s\n",
            "[CV] min_samples_split=6, min_samples_leaf=3, max_depth=1, criterion=entropy \n",
            "[CV]  min_samples_split=6, min_samples_leaf=3, max_depth=1, criterion=entropy, score=0.487, total=   0.0s\n",
            "[CV] min_samples_split=6, min_samples_leaf=3, max_depth=1, criterion=entropy \n",
            "[CV]  min_samples_split=6, min_samples_leaf=3, max_depth=1, criterion=entropy, score=0.487, total=   0.0s\n",
            "[CV] min_samples_split=6, min_samples_leaf=3, max_depth=1, criterion=entropy \n",
            "[CV]  min_samples_split=6, min_samples_leaf=3, max_depth=1, criterion=entropy, score=0.487, total=   0.0s\n",
            "[CV] min_samples_split=6, min_samples_leaf=3, max_depth=1, criterion=entropy \n",
            "[CV]  min_samples_split=6, min_samples_leaf=3, max_depth=1, criterion=entropy, score=0.487, total=   0.0s\n",
            "[CV] min_samples_split=6, min_samples_leaf=3, max_depth=1, criterion=entropy \n",
            "[CV]  min_samples_split=6, min_samples_leaf=3, max_depth=1, criterion=entropy, score=0.487, total=   0.0s\n",
            "[CV] min_samples_split=6, min_samples_leaf=3, max_depth=1, criterion=entropy \n",
            "[CV]  min_samples_split=6, min_samples_leaf=3, max_depth=1, criterion=entropy, score=0.493, total=   0.0s\n",
            "[CV] min_samples_split=6, min_samples_leaf=3, max_depth=1, criterion=entropy \n",
            "[CV]  min_samples_split=6, min_samples_leaf=3, max_depth=1, criterion=entropy, score=0.493, total=   0.0s\n",
            "[CV] min_samples_split=6, min_samples_leaf=3, max_depth=1, criterion=entropy \n",
            "[CV]  min_samples_split=6, min_samples_leaf=3, max_depth=1, criterion=entropy, score=0.493, total=   0.0s\n",
            "[CV] min_samples_split=6, min_samples_leaf=3, max_depth=1, criterion=entropy \n",
            "[CV]  min_samples_split=6, min_samples_leaf=3, max_depth=1, criterion=entropy, score=0.493, total=   0.0s\n",
            "[CV] min_samples_split=6, min_samples_leaf=3, max_depth=1, criterion=entropy \n",
            "[CV]  min_samples_split=6, min_samples_leaf=3, max_depth=1, criterion=entropy, score=0.493, total=   0.0s\n",
            "[CV] min_samples_split=7, min_samples_leaf=5, max_depth=7, criterion=gini \n",
            "[CV]  min_samples_split=7, min_samples_leaf=5, max_depth=7, criterion=gini, score=0.753, total=   0.0s\n",
            "[CV] min_samples_split=7, min_samples_leaf=5, max_depth=7, criterion=gini \n",
            "[CV]  min_samples_split=7, min_samples_leaf=5, max_depth=7, criterion=gini, score=0.753, total=   0.0s\n",
            "[CV] min_samples_split=7, min_samples_leaf=5, max_depth=7, criterion=gini \n",
            "[CV]  min_samples_split=7, min_samples_leaf=5, max_depth=7, criterion=gini, score=0.747, total=   0.0s\n",
            "[CV] min_samples_split=7, min_samples_leaf=5, max_depth=7, criterion=gini \n",
            "[CV]  min_samples_split=7, min_samples_leaf=5, max_depth=7, criterion=gini, score=0.700, total=   0.0s\n",
            "[CV] min_samples_split=7, min_samples_leaf=5, max_depth=7, criterion=gini \n",
            "[CV]  min_samples_split=7, min_samples_leaf=5, max_depth=7, criterion=gini, score=0.720, total=   0.0s\n",
            "[CV] min_samples_split=7, min_samples_leaf=5, max_depth=7, criterion=gini \n",
            "[CV]  min_samples_split=7, min_samples_leaf=5, max_depth=7, criterion=gini, score=0.747, total=   0.0s\n",
            "[CV] min_samples_split=7, min_samples_leaf=5, max_depth=7, criterion=gini \n",
            "[CV]  min_samples_split=7, min_samples_leaf=5, max_depth=7, criterion=gini, score=0.707, total=   0.0s\n",
            "[CV] min_samples_split=7, min_samples_leaf=5, max_depth=7, criterion=gini \n",
            "[CV]  min_samples_split=7, min_samples_leaf=5, max_depth=7, criterion=gini, score=0.713, total=   0.0s\n",
            "[CV] min_samples_split=7, min_samples_leaf=5, max_depth=7, criterion=gini \n",
            "[CV]  min_samples_split=7, min_samples_leaf=5, max_depth=7, criterion=gini, score=0.747, total=   0.0s\n",
            "[CV] min_samples_split=7, min_samples_leaf=5, max_depth=7, criterion=gini \n",
            "[CV]  min_samples_split=7, min_samples_leaf=5, max_depth=7, criterion=gini, score=0.727, total=   0.0s\n",
            "[CV] min_samples_split=8, min_samples_leaf=4, max_depth=10, criterion=gini \n",
            "[CV]  min_samples_split=8, min_samples_leaf=4, max_depth=10, criterion=gini, score=0.733, total=   0.0s\n",
            "[CV] min_samples_split=8, min_samples_leaf=4, max_depth=10, criterion=gini \n",
            "[CV]  min_samples_split=8, min_samples_leaf=4, max_depth=10, criterion=gini, score=0.740, total=   0.0s\n",
            "[CV] min_samples_split=8, min_samples_leaf=4, max_depth=10, criterion=gini \n",
            "[CV]  min_samples_split=8, min_samples_leaf=4, max_depth=10, criterion=gini, score=0.727, total=   0.0s\n",
            "[CV] min_samples_split=8, min_samples_leaf=4, max_depth=10, criterion=gini \n",
            "[CV]  min_samples_split=8, min_samples_leaf=4, max_depth=10, criterion=gini, score=0.673, total=   0.0s\n",
            "[CV] min_samples_split=8, min_samples_leaf=4, max_depth=10, criterion=gini \n",
            "[CV]  min_samples_split=8, min_samples_leaf=4, max_depth=10, criterion=gini, score=0.700, total=   0.0s\n",
            "[CV] min_samples_split=8, min_samples_leaf=4, max_depth=10, criterion=gini \n",
            "[CV]  min_samples_split=8, min_samples_leaf=4, max_depth=10, criterion=gini, score=0.707, total=   0.0s\n",
            "[CV] min_samples_split=8, min_samples_leaf=4, max_depth=10, criterion=gini \n",
            "[CV]  min_samples_split=8, min_samples_leaf=4, max_depth=10, criterion=gini, score=0.713, total=   0.0s\n",
            "[CV] min_samples_split=8, min_samples_leaf=4, max_depth=10, criterion=gini \n",
            "[CV]  min_samples_split=8, min_samples_leaf=4, max_depth=10, criterion=gini, score=0.733, total=   0.0s\n",
            "[CV] min_samples_split=8, min_samples_leaf=4, max_depth=10, criterion=gini \n",
            "[CV]  min_samples_split=8, min_samples_leaf=4, max_depth=10, criterion=gini, score=0.760, total=   0.0s\n",
            "[CV] min_samples_split=8, min_samples_leaf=4, max_depth=10, criterion=gini \n",
            "[CV]  min_samples_split=8, min_samples_leaf=4, max_depth=10, criterion=gini, score=0.733, total=   0.0s\n",
            "[CV] min_samples_split=3, min_samples_leaf=4, max_depth=7, criterion=gini \n",
            "[CV]  min_samples_split=3, min_samples_leaf=4, max_depth=7, criterion=gini, score=0.760, total=   0.0s\n",
            "[CV] min_samples_split=3, min_samples_leaf=4, max_depth=7, criterion=gini \n",
            "[CV]  min_samples_split=3, min_samples_leaf=4, max_depth=7, criterion=gini, score=0.753, total=   0.0s\n",
            "[CV] min_samples_split=3, min_samples_leaf=4, max_depth=7, criterion=gini \n",
            "[CV]  min_samples_split=3, min_samples_leaf=4, max_depth=7, criterion=gini, score=0.720, total=   0.0s\n",
            "[CV] min_samples_split=3, min_samples_leaf=4, max_depth=7, criterion=gini \n",
            "[CV]  min_samples_split=3, min_samples_leaf=4, max_depth=7, criterion=gini, score=0.733, total=   0.0s\n",
            "[CV] min_samples_split=3, min_samples_leaf=4, max_depth=7, criterion=gini \n",
            "[CV]  min_samples_split=3, min_samples_leaf=4, max_depth=7, criterion=gini, score=0.727, total=   0.0s\n",
            "[CV] min_samples_split=3, min_samples_leaf=4, max_depth=7, criterion=gini \n",
            "[CV]  min_samples_split=3, min_samples_leaf=4, max_depth=7, criterion=gini, score=0.713, total=   0.0s\n",
            "[CV] min_samples_split=3, min_samples_leaf=4, max_depth=7, criterion=gini \n",
            "[CV]  min_samples_split=3, min_samples_leaf=4, max_depth=7, criterion=gini, score=0.720, total=   0.0s\n",
            "[CV] min_samples_split=3, min_samples_leaf=4, max_depth=7, criterion=gini \n",
            "[CV]  min_samples_split=3, min_samples_leaf=4, max_depth=7, criterion=gini, score=0.693, total=   0.0s\n",
            "[CV] min_samples_split=3, min_samples_leaf=4, max_depth=7, criterion=gini \n",
            "[CV]  min_samples_split=3, min_samples_leaf=4, max_depth=7, criterion=gini, score=0.747, total=   0.0s\n",
            "[CV] min_samples_split=3, min_samples_leaf=4, max_depth=7, criterion=gini \n",
            "[CV]  min_samples_split=3, min_samples_leaf=4, max_depth=7, criterion=gini, score=0.733, total=   0.0s\n",
            "[CV] min_samples_split=8, min_samples_leaf=4, max_depth=7, criterion=entropy \n",
            "[CV]  min_samples_split=8, min_samples_leaf=4, max_depth=7, criterion=entropy, score=0.760, total=   0.0s\n",
            "[CV] min_samples_split=8, min_samples_leaf=4, max_depth=7, criterion=entropy \n",
            "[CV]  min_samples_split=8, min_samples_leaf=4, max_depth=7, criterion=entropy, score=0.727, total=   0.0s\n",
            "[CV] min_samples_split=8, min_samples_leaf=4, max_depth=7, criterion=entropy \n",
            "[CV]  min_samples_split=8, min_samples_leaf=4, max_depth=7, criterion=entropy, score=0.713, total=   0.0s\n",
            "[CV] min_samples_split=8, min_samples_leaf=4, max_depth=7, criterion=entropy \n",
            "[CV]  min_samples_split=8, min_samples_leaf=4, max_depth=7, criterion=entropy, score=0.753, total=   0.0s\n",
            "[CV] min_samples_split=8, min_samples_leaf=4, max_depth=7, criterion=entropy \n",
            "[CV]  min_samples_split=8, min_samples_leaf=4, max_depth=7, criterion=entropy, score=0.773, total=   0.0s\n",
            "[CV] min_samples_split=8, min_samples_leaf=4, max_depth=7, criterion=entropy \n",
            "[CV]  min_samples_split=8, min_samples_leaf=4, max_depth=7, criterion=entropy, score=0.727, total=   0.0s\n",
            "[CV] min_samples_split=8, min_samples_leaf=4, max_depth=7, criterion=entropy \n",
            "[CV]  min_samples_split=8, min_samples_leaf=4, max_depth=7, criterion=entropy, score=0.760, total=   0.0s\n",
            "[CV] min_samples_split=8, min_samples_leaf=4, max_depth=7, criterion=entropy \n",
            "[CV]  min_samples_split=8, min_samples_leaf=4, max_depth=7, criterion=entropy, score=0.740, total=   0.0s\n",
            "[CV] min_samples_split=8, min_samples_leaf=4, max_depth=7, criterion=entropy \n",
            "[CV]  min_samples_split=8, min_samples_leaf=4, max_depth=7, criterion=entropy, score=0.740, total=   0.0s\n",
            "[CV] min_samples_split=8, min_samples_leaf=4, max_depth=7, criterion=entropy \n",
            "[CV]  min_samples_split=8, min_samples_leaf=4, max_depth=7, criterion=entropy, score=0.787, total=   0.0s\n"
          ],
          "name": "stdout"
        },
        {
          "output_type": "stream",
          "text": [
            "[Parallel(n_jobs=1)]: Done 100 out of 100 | elapsed:    1.3s finished\n"
          ],
          "name": "stderr"
        },
        {
          "output_type": "execute_result",
          "data": {
            "text/plain": [
              "RandomizedSearchCV(cv=10, error_score=nan,\n",
              "                   estimator=DecisionTreeClassifier(ccp_alpha=0.0,\n",
              "                                                    class_weight=None,\n",
              "                                                    criterion='gini',\n",
              "                                                    max_depth=None,\n",
              "                                                    max_features=None,\n",
              "                                                    max_leaf_nodes=None,\n",
              "                                                    min_impurity_decrease=0.0,\n",
              "                                                    min_impurity_split=None,\n",
              "                                                    min_samples_leaf=1,\n",
              "                                                    min_samples_split=2,\n",
              "                                                    min_weight_fraction_leaf=0.0,\n",
              "                                                    presort='deprecated',\n",
              "                                                    random_state=None,\n",
              "                                                    splitter='best'),\n",
              "                   iid='deprecated', n_iter=10, n_jobs=None,\n",
              "                   param_distributions={'criterion': ['gini', 'entropy'],\n",
              "                                        'max_depth': [1, 2, 3, 4, 5, 6, 7, 8, 9,\n",
              "                                                      10],\n",
              "                                        'min_samples_leaf': [1, 2, 3, 4, 5],\n",
              "                                        'min_samples_split': [1, 2, 3, 4, 5, 6,\n",
              "                                                              7, 8, 9, 10]},\n",
              "                   pre_dispatch='2*n_jobs', random_state=None, refit=True,\n",
              "                   return_train_score=False, scoring='f1_micro', verbose=3)"
            ]
          },
          "metadata": {
            "tags": []
          },
          "execution_count": 71
        }
      ]
    },
    {
      "cell_type": "code",
      "metadata": {
        "colab": {
          "base_uri": "https://localhost:8080/"
        },
        "id": "Ef3RK7WdHGsR",
        "outputId": "68f918ae-26a5-4816-d0fb-52b94fd3c911"
      },
      "source": [
        "rscv.best_score_"
      ],
      "execution_count": null,
      "outputs": [
        {
          "output_type": "execute_result",
          "data": {
            "text/plain": [
              "0.758"
            ]
          },
          "metadata": {
            "tags": []
          },
          "execution_count": 72
        }
      ]
    },
    {
      "cell_type": "code",
      "metadata": {
        "colab": {
          "base_uri": "https://localhost:8080/"
        },
        "id": "Cs7na5QhHZyC",
        "outputId": "d72e63c0-7238-48d1-cc39-fdc06f13b687"
      },
      "source": [
        "rscv.best_params_"
      ],
      "execution_count": null,
      "outputs": [
        {
          "output_type": "execute_result",
          "data": {
            "text/plain": [
              "{'criterion': 'entropy',\n",
              " 'max_depth': 6,\n",
              " 'min_samples_leaf': 5,\n",
              " 'min_samples_split': 5}"
            ]
          },
          "metadata": {
            "tags": []
          },
          "execution_count": 73
        }
      ]
    },
    {
      "cell_type": "code",
      "metadata": {
        "id": "Rz96OgkjHbl-"
      },
      "source": [
        " modelDTC = rscv.best_estimator_"
      ],
      "execution_count": null,
      "outputs": []
    },
    {
      "cell_type": "code",
      "metadata": {
        "colab": {
          "base_uri": "https://localhost:8080/"
        },
        "id": "qaeH-bVcH4dI",
        "outputId": "6b0ef2e6-650c-4a90-a0f7-1773503febe6"
      },
      "source": [
        "y_pred = modelDTC.predict(x_test)\n",
        "y_pred"
      ],
      "execution_count": null,
      "outputs": [
        {
          "output_type": "execute_result",
          "data": {
            "text/plain": [
              "array([2, 2, 1, 2, 2, 1, 2, 2, 1, 1, 0, 0, 1, 2, 3, 1, 0, 3, 1, 2, 3, 0,\n",
              "       3, 0, 3, 1, 0, 3, 3, 3, 0, 1, 3, 3, 0, 2, 1, 2, 0, 0, 1, 0, 3, 1,\n",
              "       1, 3, 1, 1, 2, 2, 3, 1, 2, 2, 1, 3, 2, 2, 2, 2, 1, 1, 3, 2, 1, 1,\n",
              "       3, 0, 1, 2, 3, 1, 2, 2, 2, 3, 1, 3, 0, 3, 0, 3, 0, 1, 0, 3, 2, 1,\n",
              "       0, 1, 2, 3, 2, 1, 2, 3, 0, 1, 1, 0, 3, 1, 3, 1, 1, 1, 3, 2, 0, 3,\n",
              "       0, 1, 1, 3, 1, 3, 1, 1, 2, 1, 1, 0, 1, 1, 1, 0, 1, 3, 3, 3, 0, 2,\n",
              "       1, 0, 0, 1, 1, 1, 0, 0, 0, 2, 3, 3, 2, 0, 0, 3, 1, 3, 0, 0, 0, 0,\n",
              "       1, 1, 3, 1, 3, 1, 1, 2, 0, 2, 2, 1, 3, 2, 0, 1, 0, 3, 3, 1, 2, 3,\n",
              "       3, 2, 0, 0, 3, 3, 0, 2, 2, 0, 0, 3, 1, 2, 0, 2, 1, 0, 2, 1, 3, 3,\n",
              "       3, 3, 1, 3, 1, 1, 3, 0, 2, 3, 1, 2, 3, 2, 0, 1, 2, 0, 2, 2, 2, 1,\n",
              "       3, 2, 3, 0, 1, 0, 1, 3, 3, 0, 0, 3, 2, 3, 2, 1, 1, 0, 1, 2, 2, 3,\n",
              "       2, 1, 1, 3, 1, 2, 3, 0, 3, 2, 1, 3, 2, 2, 1, 0, 3, 0, 3, 0, 2, 3,\n",
              "       0, 3, 0, 0, 0, 1, 0, 3, 3, 3, 1, 0, 0, 2, 1, 2, 0, 1, 0, 0, 3, 3,\n",
              "       3, 1, 0, 3, 1, 3, 1, 0, 3, 0, 2, 0, 0, 2, 2, 1, 1, 3, 2, 0, 1, 3,\n",
              "       3, 1, 3, 1, 0, 0, 2, 2, 2, 3, 2, 1, 3, 0, 3, 0, 1, 1, 0, 3, 2, 1,\n",
              "       3, 2, 1, 1, 1, 1, 0, 0, 1, 2, 0, 2, 0, 1, 1, 3, 1, 2, 2, 3, 0, 3,\n",
              "       1, 1, 1, 1, 2, 2, 0, 0, 3, 2, 3, 2, 2, 1, 0, 1, 0, 0, 0, 0, 3, 2,\n",
              "       3, 2, 2, 2, 1, 2, 0, 0, 0, 3, 1, 1, 0, 2, 3, 0, 3, 2, 3, 3, 1, 0,\n",
              "       1, 1, 2, 3, 0, 2, 0, 2, 1, 1, 2, 1, 0, 3, 0, 3, 3, 2, 2, 1, 1, 3,\n",
              "       2, 1, 1, 0, 0, 1, 3, 1, 0, 0, 2, 0, 2, 0, 0, 3, 2, 3, 0, 0, 0, 2,\n",
              "       1, 0, 0, 1, 1, 0, 1, 1, 0, 2, 0, 0, 0, 3, 0, 1, 3, 0, 0, 0, 2, 1,\n",
              "       0, 1, 3, 1, 1, 3, 3, 0, 3, 2, 1, 2, 2, 2, 3, 3, 1, 0, 0, 1, 1, 0,\n",
              "       1, 1, 0, 0, 3, 1, 2, 1, 2, 2, 1, 0, 0, 3, 2, 0])"
            ]
          },
          "metadata": {
            "tags": []
          },
          "execution_count": 75
        }
      ]
    },
    {
      "cell_type": "code",
      "metadata": {
        "id": "LBMiKYKgH8En"
      },
      "source": [
        "subDTC = pd.DataFrame({'index':dataTest['index'], 'price_range':y_pred})\n",
        "subDTC.to_csv('submissionDTC.csv', index=False)"
      ],
      "execution_count": null,
      "outputs": []
    },
    {
      "cell_type": "code",
      "metadata": {
        "id": "9YMmuMZaIBYW",
        "colab": {
          "base_uri": "https://localhost:8080/",
          "height": 416
        },
        "outputId": "1f965ac9-6e11-4c20-92dc-754dcb7a3bad"
      },
      "source": [
        "subDTC"
      ],
      "execution_count": null,
      "outputs": [
        {
          "output_type": "execute_result",
          "data": {
            "text/html": [
              "<div>\n",
              "<style scoped>\n",
              "    .dataframe tbody tr th:only-of-type {\n",
              "        vertical-align: middle;\n",
              "    }\n",
              "\n",
              "    .dataframe tbody tr th {\n",
              "        vertical-align: top;\n",
              "    }\n",
              "\n",
              "    .dataframe thead th {\n",
              "        text-align: right;\n",
              "    }\n",
              "</style>\n",
              "<table border=\"1\" class=\"dataframe\">\n",
              "  <thead>\n",
              "    <tr style=\"text-align: right;\">\n",
              "      <th></th>\n",
              "      <th>index</th>\n",
              "      <th>price_range</th>\n",
              "    </tr>\n",
              "  </thead>\n",
              "  <tbody>\n",
              "    <tr>\n",
              "      <th>0</th>\n",
              "      <td>405</td>\n",
              "      <td>2</td>\n",
              "    </tr>\n",
              "    <tr>\n",
              "      <th>1</th>\n",
              "      <td>1190</td>\n",
              "      <td>2</td>\n",
              "    </tr>\n",
              "    <tr>\n",
              "      <th>2</th>\n",
              "      <td>1132</td>\n",
              "      <td>1</td>\n",
              "    </tr>\n",
              "    <tr>\n",
              "      <th>3</th>\n",
              "      <td>731</td>\n",
              "      <td>2</td>\n",
              "    </tr>\n",
              "    <tr>\n",
              "      <th>4</th>\n",
              "      <td>1754</td>\n",
              "      <td>2</td>\n",
              "    </tr>\n",
              "    <tr>\n",
              "      <th>...</th>\n",
              "      <td>...</td>\n",
              "      <td>...</td>\n",
              "    </tr>\n",
              "    <tr>\n",
              "      <th>495</th>\n",
              "      <td>936</td>\n",
              "      <td>0</td>\n",
              "    </tr>\n",
              "    <tr>\n",
              "      <th>496</th>\n",
              "      <td>1524</td>\n",
              "      <td>0</td>\n",
              "    </tr>\n",
              "    <tr>\n",
              "      <th>497</th>\n",
              "      <td>1415</td>\n",
              "      <td>3</td>\n",
              "    </tr>\n",
              "    <tr>\n",
              "      <th>498</th>\n",
              "      <td>1223</td>\n",
              "      <td>2</td>\n",
              "    </tr>\n",
              "    <tr>\n",
              "      <th>499</th>\n",
              "      <td>1548</td>\n",
              "      <td>0</td>\n",
              "    </tr>\n",
              "  </tbody>\n",
              "</table>\n",
              "<p>500 rows × 2 columns</p>\n",
              "</div>"
            ],
            "text/plain": [
              "     index  price_range\n",
              "0      405            2\n",
              "1     1190            2\n",
              "2     1132            1\n",
              "3      731            2\n",
              "4     1754            2\n",
              "..     ...          ...\n",
              "495    936            0\n",
              "496   1524            0\n",
              "497   1415            3\n",
              "498   1223            2\n",
              "499   1548            0\n",
              "\n",
              "[500 rows x 2 columns]"
            ]
          },
          "metadata": {
            "tags": []
          },
          "execution_count": 77
        }
      ]
    },
    {
      "cell_type": "markdown",
      "metadata": {
        "id": "lUtiV_0pKkdt"
      },
      "source": [
        "# Using SVC"
      ]
    },
    {
      "cell_type": "code",
      "metadata": {
        "colab": {
          "base_uri": "https://localhost:8080/"
        },
        "id": "87kH2r_MKkd-",
        "outputId": "c5ae40c4-af00-4c83-eb7a-2f2d55e4736a"
      },
      "source": [
        "modelSVC = SVC()\n",
        "param = {\n",
        "    'kernel': ['linear', 'poly', 'rbf', 'sigmoid'],\n",
        "    'gamma': ['scale', 'auto'],\n",
        "    'probability': [True, False],\n",
        "    'shrinking': [True, False],\n",
        "    'random_state': [1, 2, 3, 4, 5]\n",
        "}\n",
        "svc = RandomizedSearchCV(modelSVC, param, cv = 10, scoring = 'f1_micro', verbose=3)\n",
        "svc.fit(x,y)"
      ],
      "execution_count": null,
      "outputs": [
        {
          "output_type": "stream",
          "text": [
            "Fitting 10 folds for each of 10 candidates, totalling 100 fits\n",
            "[CV] shrinking=False, random_state=4, probability=False, kernel=rbf, gamma=auto \n",
            "[CV]  shrinking=False, random_state=4, probability=False, kernel=rbf, gamma=auto, score=0.260, total=   0.2s\n",
            "[CV] shrinking=False, random_state=4, probability=False, kernel=rbf, gamma=auto \n"
          ],
          "name": "stdout"
        },
        {
          "output_type": "stream",
          "text": [
            "[Parallel(n_jobs=1)]: Using backend SequentialBackend with 1 concurrent workers.\n",
            "[Parallel(n_jobs=1)]: Done   1 out of   1 | elapsed:    0.2s remaining:    0.0s\n"
          ],
          "name": "stderr"
        },
        {
          "output_type": "stream",
          "text": [
            "[CV]  shrinking=False, random_state=4, probability=False, kernel=rbf, gamma=auto, score=0.260, total=   0.2s\n",
            "[CV] shrinking=False, random_state=4, probability=False, kernel=rbf, gamma=auto \n",
            "[CV]  shrinking=False, random_state=4, probability=False, kernel=rbf, gamma=auto, score=0.260, total=   0.2s\n",
            "[CV] shrinking=False, random_state=4, probability=False, kernel=rbf, gamma=auto \n"
          ],
          "name": "stdout"
        },
        {
          "output_type": "stream",
          "text": [
            "[Parallel(n_jobs=1)]: Done   2 out of   2 | elapsed:    0.3s remaining:    0.0s\n"
          ],
          "name": "stderr"
        },
        {
          "output_type": "stream",
          "text": [
            "[CV]  shrinking=False, random_state=4, probability=False, kernel=rbf, gamma=auto, score=0.260, total=   0.2s\n",
            "[CV] shrinking=False, random_state=4, probability=False, kernel=rbf, gamma=auto \n",
            "[CV]  shrinking=False, random_state=4, probability=False, kernel=rbf, gamma=auto, score=0.260, total=   0.2s\n",
            "[CV] shrinking=False, random_state=4, probability=False, kernel=rbf, gamma=auto \n",
            "[CV]  shrinking=False, random_state=4, probability=False, kernel=rbf, gamma=auto, score=0.260, total=   0.2s\n",
            "[CV] shrinking=False, random_state=4, probability=False, kernel=rbf, gamma=auto \n",
            "[CV]  shrinking=False, random_state=4, probability=False, kernel=rbf, gamma=auto, score=0.260, total=   0.1s\n",
            "[CV] shrinking=False, random_state=4, probability=False, kernel=rbf, gamma=auto \n",
            "[CV]  shrinking=False, random_state=4, probability=False, kernel=rbf, gamma=auto, score=0.260, total=   0.2s\n",
            "[CV] shrinking=False, random_state=4, probability=False, kernel=rbf, gamma=auto \n",
            "[CV]  shrinking=False, random_state=4, probability=False, kernel=rbf, gamma=auto, score=0.260, total=   0.2s\n",
            "[CV] shrinking=False, random_state=4, probability=False, kernel=rbf, gamma=auto \n",
            "[CV]  shrinking=False, random_state=4, probability=False, kernel=rbf, gamma=auto, score=0.260, total=   0.2s\n",
            "[CV] shrinking=False, random_state=3, probability=False, kernel=linear, gamma=scale \n",
            "[CV]  shrinking=False, random_state=3, probability=False, kernel=linear, gamma=scale, score=0.973, total=  32.9s\n",
            "[CV] shrinking=False, random_state=3, probability=False, kernel=linear, gamma=scale \n",
            "[CV]  shrinking=False, random_state=3, probability=False, kernel=linear, gamma=scale, score=0.980, total=  34.2s\n",
            "[CV] shrinking=False, random_state=3, probability=False, kernel=linear, gamma=scale \n",
            "[CV]  shrinking=False, random_state=3, probability=False, kernel=linear, gamma=scale, score=0.973, total=  38.6s\n",
            "[CV] shrinking=False, random_state=3, probability=False, kernel=linear, gamma=scale \n",
            "[CV]  shrinking=False, random_state=3, probability=False, kernel=linear, gamma=scale, score=0.960, total= 1.0min\n",
            "[CV] shrinking=False, random_state=3, probability=False, kernel=linear, gamma=scale \n",
            "[CV]  shrinking=False, random_state=3, probability=False, kernel=linear, gamma=scale, score=0.980, total=  20.0s\n",
            "[CV] shrinking=False, random_state=3, probability=False, kernel=linear, gamma=scale \n",
            "[CV]  shrinking=False, random_state=3, probability=False, kernel=linear, gamma=scale, score=0.960, total=  34.0s\n",
            "[CV] shrinking=False, random_state=3, probability=False, kernel=linear, gamma=scale \n",
            "[CV]  shrinking=False, random_state=3, probability=False, kernel=linear, gamma=scale, score=0.993, total=  41.5s\n",
            "[CV] shrinking=False, random_state=3, probability=False, kernel=linear, gamma=scale \n",
            "[CV]  shrinking=False, random_state=3, probability=False, kernel=linear, gamma=scale, score=0.980, total= 1.0min\n",
            "[CV] shrinking=False, random_state=3, probability=False, kernel=linear, gamma=scale \n",
            "[CV]  shrinking=False, random_state=3, probability=False, kernel=linear, gamma=scale, score=0.993, total=  49.7s\n",
            "[CV] shrinking=False, random_state=3, probability=False, kernel=linear, gamma=scale \n",
            "[CV]  shrinking=False, random_state=3, probability=False, kernel=linear, gamma=scale, score=0.960, total=  52.7s\n",
            "[CV] shrinking=True, random_state=1, probability=False, kernel=sigmoid, gamma=auto \n",
            "[CV]  shrinking=True, random_state=1, probability=False, kernel=sigmoid, gamma=auto, score=0.260, total=   0.1s\n",
            "[CV] shrinking=True, random_state=1, probability=False, kernel=sigmoid, gamma=auto \n",
            "[CV]  shrinking=True, random_state=1, probability=False, kernel=sigmoid, gamma=auto, score=0.260, total=   0.1s\n",
            "[CV] shrinking=True, random_state=1, probability=False, kernel=sigmoid, gamma=auto \n",
            "[CV]  shrinking=True, random_state=1, probability=False, kernel=sigmoid, gamma=auto, score=0.260, total=   0.1s\n",
            "[CV] shrinking=True, random_state=1, probability=False, kernel=sigmoid, gamma=auto \n",
            "[CV]  shrinking=True, random_state=1, probability=False, kernel=sigmoid, gamma=auto, score=0.260, total=   0.1s\n",
            "[CV] shrinking=True, random_state=1, probability=False, kernel=sigmoid, gamma=auto \n",
            "[CV]  shrinking=True, random_state=1, probability=False, kernel=sigmoid, gamma=auto, score=0.260, total=   0.1s\n",
            "[CV] shrinking=True, random_state=1, probability=False, kernel=sigmoid, gamma=auto \n",
            "[CV]  shrinking=True, random_state=1, probability=False, kernel=sigmoid, gamma=auto, score=0.260, total=   0.1s\n",
            "[CV] shrinking=True, random_state=1, probability=False, kernel=sigmoid, gamma=auto \n",
            "[CV]  shrinking=True, random_state=1, probability=False, kernel=sigmoid, gamma=auto, score=0.260, total=   0.1s\n",
            "[CV] shrinking=True, random_state=1, probability=False, kernel=sigmoid, gamma=auto \n",
            "[CV]  shrinking=True, random_state=1, probability=False, kernel=sigmoid, gamma=auto, score=0.260, total=   0.1s\n",
            "[CV] shrinking=True, random_state=1, probability=False, kernel=sigmoid, gamma=auto \n",
            "[CV]  shrinking=True, random_state=1, probability=False, kernel=sigmoid, gamma=auto, score=0.260, total=   0.1s\n",
            "[CV] shrinking=True, random_state=1, probability=False, kernel=sigmoid, gamma=auto \n",
            "[CV]  shrinking=True, random_state=1, probability=False, kernel=sigmoid, gamma=auto, score=0.260, total=   0.1s\n",
            "[CV] shrinking=False, random_state=5, probability=True, kernel=poly, gamma=scale \n",
            "[CV]  shrinking=False, random_state=5, probability=True, kernel=poly, gamma=scale, score=0.933, total=   0.1s\n",
            "[CV] shrinking=False, random_state=5, probability=True, kernel=poly, gamma=scale \n",
            "[CV]  shrinking=False, random_state=5, probability=True, kernel=poly, gamma=scale, score=0.940, total=   0.1s\n",
            "[CV] shrinking=False, random_state=5, probability=True, kernel=poly, gamma=scale \n",
            "[CV]  shrinking=False, random_state=5, probability=True, kernel=poly, gamma=scale, score=0.947, total=   0.1s\n",
            "[CV] shrinking=False, random_state=5, probability=True, kernel=poly, gamma=scale \n",
            "[CV]  shrinking=False, random_state=5, probability=True, kernel=poly, gamma=scale, score=0.967, total=   0.1s\n",
            "[CV] shrinking=False, random_state=5, probability=True, kernel=poly, gamma=scale \n",
            "[CV]  shrinking=False, random_state=5, probability=True, kernel=poly, gamma=scale, score=0.940, total=   0.1s\n",
            "[CV] shrinking=False, random_state=5, probability=True, kernel=poly, gamma=scale \n",
            "[CV]  shrinking=False, random_state=5, probability=True, kernel=poly, gamma=scale, score=0.907, total=   0.1s\n",
            "[CV] shrinking=False, random_state=5, probability=True, kernel=poly, gamma=scale \n",
            "[CV]  shrinking=False, random_state=5, probability=True, kernel=poly, gamma=scale, score=0.960, total=   0.1s\n",
            "[CV] shrinking=False, random_state=5, probability=True, kernel=poly, gamma=scale \n",
            "[CV]  shrinking=False, random_state=5, probability=True, kernel=poly, gamma=scale, score=0.980, total=   0.1s\n",
            "[CV] shrinking=False, random_state=5, probability=True, kernel=poly, gamma=scale \n",
            "[CV]  shrinking=False, random_state=5, probability=True, kernel=poly, gamma=scale, score=0.973, total=   0.1s\n",
            "[CV] shrinking=False, random_state=5, probability=True, kernel=poly, gamma=scale \n",
            "[CV]  shrinking=False, random_state=5, probability=True, kernel=poly, gamma=scale, score=0.947, total=   0.1s\n",
            "[CV] shrinking=True, random_state=2, probability=True, kernel=rbf, gamma=scale \n",
            "[CV]  shrinking=True, random_state=2, probability=True, kernel=rbf, gamma=scale, score=0.940, total=   0.2s\n",
            "[CV] shrinking=True, random_state=2, probability=True, kernel=rbf, gamma=scale \n",
            "[CV]  shrinking=True, random_state=2, probability=True, kernel=rbf, gamma=scale, score=0.900, total=   0.2s\n",
            "[CV] shrinking=True, random_state=2, probability=True, kernel=rbf, gamma=scale \n",
            "[CV]  shrinking=True, random_state=2, probability=True, kernel=rbf, gamma=scale, score=0.933, total=   0.2s\n",
            "[CV] shrinking=True, random_state=2, probability=True, kernel=rbf, gamma=scale \n",
            "[CV]  shrinking=True, random_state=2, probability=True, kernel=rbf, gamma=scale, score=0.960, total=   0.2s\n",
            "[CV] shrinking=True, random_state=2, probability=True, kernel=rbf, gamma=scale \n",
            "[CV]  shrinking=True, random_state=2, probability=True, kernel=rbf, gamma=scale, score=0.947, total=   0.2s\n",
            "[CV] shrinking=True, random_state=2, probability=True, kernel=rbf, gamma=scale \n",
            "[CV]  shrinking=True, random_state=2, probability=True, kernel=rbf, gamma=scale, score=0.927, total=   0.2s\n",
            "[CV] shrinking=True, random_state=2, probability=True, kernel=rbf, gamma=scale \n",
            "[CV]  shrinking=True, random_state=2, probability=True, kernel=rbf, gamma=scale, score=0.947, total=   0.2s\n",
            "[CV] shrinking=True, random_state=2, probability=True, kernel=rbf, gamma=scale \n",
            "[CV]  shrinking=True, random_state=2, probability=True, kernel=rbf, gamma=scale, score=0.980, total=   0.2s\n",
            "[CV] shrinking=True, random_state=2, probability=True, kernel=rbf, gamma=scale \n",
            "[CV]  shrinking=True, random_state=2, probability=True, kernel=rbf, gamma=scale, score=0.960, total=   0.2s\n",
            "[CV] shrinking=True, random_state=2, probability=True, kernel=rbf, gamma=scale \n",
            "[CV]  shrinking=True, random_state=2, probability=True, kernel=rbf, gamma=scale, score=0.953, total=   0.2s\n",
            "[CV] shrinking=True, random_state=3, probability=True, kernel=rbf, gamma=scale \n",
            "[CV]  shrinking=True, random_state=3, probability=True, kernel=rbf, gamma=scale, score=0.940, total=   0.2s\n",
            "[CV] shrinking=True, random_state=3, probability=True, kernel=rbf, gamma=scale \n",
            "[CV]  shrinking=True, random_state=3, probability=True, kernel=rbf, gamma=scale, score=0.900, total=   0.2s\n",
            "[CV] shrinking=True, random_state=3, probability=True, kernel=rbf, gamma=scale \n",
            "[CV]  shrinking=True, random_state=3, probability=True, kernel=rbf, gamma=scale, score=0.933, total=   0.2s\n",
            "[CV] shrinking=True, random_state=3, probability=True, kernel=rbf, gamma=scale \n",
            "[CV]  shrinking=True, random_state=3, probability=True, kernel=rbf, gamma=scale, score=0.960, total=   0.2s\n",
            "[CV] shrinking=True, random_state=3, probability=True, kernel=rbf, gamma=scale \n",
            "[CV]  shrinking=True, random_state=3, probability=True, kernel=rbf, gamma=scale, score=0.947, total=   0.2s\n",
            "[CV] shrinking=True, random_state=3, probability=True, kernel=rbf, gamma=scale \n",
            "[CV]  shrinking=True, random_state=3, probability=True, kernel=rbf, gamma=scale, score=0.927, total=   0.2s\n",
            "[CV] shrinking=True, random_state=3, probability=True, kernel=rbf, gamma=scale \n",
            "[CV]  shrinking=True, random_state=3, probability=True, kernel=rbf, gamma=scale, score=0.947, total=   0.2s\n",
            "[CV] shrinking=True, random_state=3, probability=True, kernel=rbf, gamma=scale \n",
            "[CV]  shrinking=True, random_state=3, probability=True, kernel=rbf, gamma=scale, score=0.980, total=   0.2s\n",
            "[CV] shrinking=True, random_state=3, probability=True, kernel=rbf, gamma=scale \n",
            "[CV]  shrinking=True, random_state=3, probability=True, kernel=rbf, gamma=scale, score=0.960, total=   0.2s\n",
            "[CV] shrinking=True, random_state=3, probability=True, kernel=rbf, gamma=scale \n",
            "[CV]  shrinking=True, random_state=3, probability=True, kernel=rbf, gamma=scale, score=0.953, total=   0.2s\n",
            "[CV] shrinking=True, random_state=3, probability=False, kernel=sigmoid, gamma=auto \n",
            "[CV]  shrinking=True, random_state=3, probability=False, kernel=sigmoid, gamma=auto, score=0.260, total=   0.1s\n",
            "[CV] shrinking=True, random_state=3, probability=False, kernel=sigmoid, gamma=auto \n",
            "[CV]  shrinking=True, random_state=3, probability=False, kernel=sigmoid, gamma=auto, score=0.260, total=   0.1s\n",
            "[CV] shrinking=True, random_state=3, probability=False, kernel=sigmoid, gamma=auto \n",
            "[CV]  shrinking=True, random_state=3, probability=False, kernel=sigmoid, gamma=auto, score=0.260, total=   0.1s\n",
            "[CV] shrinking=True, random_state=3, probability=False, kernel=sigmoid, gamma=auto \n",
            "[CV]  shrinking=True, random_state=3, probability=False, kernel=sigmoid, gamma=auto, score=0.260, total=   0.1s\n",
            "[CV] shrinking=True, random_state=3, probability=False, kernel=sigmoid, gamma=auto \n",
            "[CV]  shrinking=True, random_state=3, probability=False, kernel=sigmoid, gamma=auto, score=0.260, total=   0.1s\n",
            "[CV] shrinking=True, random_state=3, probability=False, kernel=sigmoid, gamma=auto \n",
            "[CV]  shrinking=True, random_state=3, probability=False, kernel=sigmoid, gamma=auto, score=0.260, total=   0.1s\n",
            "[CV] shrinking=True, random_state=3, probability=False, kernel=sigmoid, gamma=auto \n",
            "[CV]  shrinking=True, random_state=3, probability=False, kernel=sigmoid, gamma=auto, score=0.260, total=   0.1s\n",
            "[CV] shrinking=True, random_state=3, probability=False, kernel=sigmoid, gamma=auto \n",
            "[CV]  shrinking=True, random_state=3, probability=False, kernel=sigmoid, gamma=auto, score=0.260, total=   0.1s\n",
            "[CV] shrinking=True, random_state=3, probability=False, kernel=sigmoid, gamma=auto \n",
            "[CV]  shrinking=True, random_state=3, probability=False, kernel=sigmoid, gamma=auto, score=0.260, total=   0.1s\n",
            "[CV] shrinking=True, random_state=3, probability=False, kernel=sigmoid, gamma=auto \n",
            "[CV]  shrinking=True, random_state=3, probability=False, kernel=sigmoid, gamma=auto, score=0.260, total=   0.1s\n",
            "[CV] shrinking=True, random_state=1, probability=False, kernel=rbf, gamma=scale \n",
            "[CV]  shrinking=True, random_state=1, probability=False, kernel=rbf, gamma=scale, score=0.940, total=   0.0s\n",
            "[CV] shrinking=True, random_state=1, probability=False, kernel=rbf, gamma=scale \n",
            "[CV]  shrinking=True, random_state=1, probability=False, kernel=rbf, gamma=scale, score=0.900, total=   0.0s\n",
            "[CV] shrinking=True, random_state=1, probability=False, kernel=rbf, gamma=scale \n",
            "[CV]  shrinking=True, random_state=1, probability=False, kernel=rbf, gamma=scale, score=0.933, total=   0.0s\n",
            "[CV] shrinking=True, random_state=1, probability=False, kernel=rbf, gamma=scale \n",
            "[CV]  shrinking=True, random_state=1, probability=False, kernel=rbf, gamma=scale, score=0.960, total=   0.0s\n",
            "[CV] shrinking=True, random_state=1, probability=False, kernel=rbf, gamma=scale \n",
            "[CV]  shrinking=True, random_state=1, probability=False, kernel=rbf, gamma=scale, score=0.947, total=   0.0s\n",
            "[CV] shrinking=True, random_state=1, probability=False, kernel=rbf, gamma=scale \n",
            "[CV]  shrinking=True, random_state=1, probability=False, kernel=rbf, gamma=scale, score=0.927, total=   0.0s\n",
            "[CV] shrinking=True, random_state=1, probability=False, kernel=rbf, gamma=scale \n",
            "[CV]  shrinking=True, random_state=1, probability=False, kernel=rbf, gamma=scale, score=0.947, total=   0.0s\n",
            "[CV] shrinking=True, random_state=1, probability=False, kernel=rbf, gamma=scale \n",
            "[CV]  shrinking=True, random_state=1, probability=False, kernel=rbf, gamma=scale, score=0.980, total=   0.0s\n",
            "[CV] shrinking=True, random_state=1, probability=False, kernel=rbf, gamma=scale \n",
            "[CV]  shrinking=True, random_state=1, probability=False, kernel=rbf, gamma=scale, score=0.960, total=   0.0s\n",
            "[CV] shrinking=True, random_state=1, probability=False, kernel=rbf, gamma=scale \n",
            "[CV]  shrinking=True, random_state=1, probability=False, kernel=rbf, gamma=scale, score=0.953, total=   0.0s\n",
            "[CV] shrinking=False, random_state=3, probability=True, kernel=sigmoid, gamma=auto \n",
            "[CV]  shrinking=False, random_state=3, probability=True, kernel=sigmoid, gamma=auto, score=0.260, total=   0.4s\n",
            "[CV] shrinking=False, random_state=3, probability=True, kernel=sigmoid, gamma=auto \n",
            "[CV]  shrinking=False, random_state=3, probability=True, kernel=sigmoid, gamma=auto, score=0.260, total=   0.4s\n",
            "[CV] shrinking=False, random_state=3, probability=True, kernel=sigmoid, gamma=auto \n",
            "[CV]  shrinking=False, random_state=3, probability=True, kernel=sigmoid, gamma=auto, score=0.260, total=   0.4s\n",
            "[CV] shrinking=False, random_state=3, probability=True, kernel=sigmoid, gamma=auto \n",
            "[CV]  shrinking=False, random_state=3, probability=True, kernel=sigmoid, gamma=auto, score=0.260, total=   0.4s\n",
            "[CV] shrinking=False, random_state=3, probability=True, kernel=sigmoid, gamma=auto \n",
            "[CV]  shrinking=False, random_state=3, probability=True, kernel=sigmoid, gamma=auto, score=0.260, total=   0.4s\n",
            "[CV] shrinking=False, random_state=3, probability=True, kernel=sigmoid, gamma=auto \n",
            "[CV]  shrinking=False, random_state=3, probability=True, kernel=sigmoid, gamma=auto, score=0.260, total=   0.4s\n",
            "[CV] shrinking=False, random_state=3, probability=True, kernel=sigmoid, gamma=auto \n",
            "[CV]  shrinking=False, random_state=3, probability=True, kernel=sigmoid, gamma=auto, score=0.260, total=   0.4s\n",
            "[CV] shrinking=False, random_state=3, probability=True, kernel=sigmoid, gamma=auto \n",
            "[CV]  shrinking=False, random_state=3, probability=True, kernel=sigmoid, gamma=auto, score=0.260, total=   0.4s\n",
            "[CV] shrinking=False, random_state=3, probability=True, kernel=sigmoid, gamma=auto \n",
            "[CV]  shrinking=False, random_state=3, probability=True, kernel=sigmoid, gamma=auto, score=0.260, total=   0.4s\n",
            "[CV] shrinking=False, random_state=3, probability=True, kernel=sigmoid, gamma=auto \n",
            "[CV]  shrinking=False, random_state=3, probability=True, kernel=sigmoid, gamma=auto, score=0.260, total=   0.4s\n",
            "[CV] shrinking=False, random_state=2, probability=False, kernel=sigmoid, gamma=scale \n",
            "[CV]  shrinking=False, random_state=2, probability=False, kernel=sigmoid, gamma=scale, score=0.207, total=   0.2s\n",
            "[CV] shrinking=False, random_state=2, probability=False, kernel=sigmoid, gamma=scale \n",
            "[CV]  shrinking=False, random_state=2, probability=False, kernel=sigmoid, gamma=scale, score=0.187, total=   0.2s\n",
            "[CV] shrinking=False, random_state=2, probability=False, kernel=sigmoid, gamma=scale \n",
            "[CV]  shrinking=False, random_state=2, probability=False, kernel=sigmoid, gamma=scale, score=0.180, total=   0.2s\n",
            "[CV] shrinking=False, random_state=2, probability=False, kernel=sigmoid, gamma=scale \n",
            "[CV]  shrinking=False, random_state=2, probability=False, kernel=sigmoid, gamma=scale, score=0.167, total=   0.2s\n",
            "[CV] shrinking=False, random_state=2, probability=False, kernel=sigmoid, gamma=scale \n",
            "[CV]  shrinking=False, random_state=2, probability=False, kernel=sigmoid, gamma=scale, score=0.193, total=   0.2s\n",
            "[CV] shrinking=False, random_state=2, probability=False, kernel=sigmoid, gamma=scale \n",
            "[CV]  shrinking=False, random_state=2, probability=False, kernel=sigmoid, gamma=scale, score=0.180, total=   0.2s\n",
            "[CV] shrinking=False, random_state=2, probability=False, kernel=sigmoid, gamma=scale \n",
            "[CV]  shrinking=False, random_state=2, probability=False, kernel=sigmoid, gamma=scale, score=0.207, total=   0.2s\n",
            "[CV] shrinking=False, random_state=2, probability=False, kernel=sigmoid, gamma=scale \n",
            "[CV]  shrinking=False, random_state=2, probability=False, kernel=sigmoid, gamma=scale, score=0.180, total=   0.2s\n",
            "[CV] shrinking=False, random_state=2, probability=False, kernel=sigmoid, gamma=scale \n",
            "[CV]  shrinking=False, random_state=2, probability=False, kernel=sigmoid, gamma=scale, score=0.193, total=   0.2s\n",
            "[CV] shrinking=False, random_state=2, probability=False, kernel=sigmoid, gamma=scale \n",
            "[CV]  shrinking=False, random_state=2, probability=False, kernel=sigmoid, gamma=scale, score=0.160, total=   0.2s\n"
          ],
          "name": "stdout"
        },
        {
          "output_type": "stream",
          "text": [
            "[Parallel(n_jobs=1)]: Done 100 out of 100 | elapsed:  7.3min finished\n"
          ],
          "name": "stderr"
        },
        {
          "output_type": "execute_result",
          "data": {
            "text/plain": [
              "RandomizedSearchCV(cv=10, error_score=nan,\n",
              "                   estimator=SVC(C=1.0, break_ties=False, cache_size=200,\n",
              "                                 class_weight=None, coef0=0.0,\n",
              "                                 decision_function_shape='ovr', degree=3,\n",
              "                                 gamma='scale', kernel='rbf', max_iter=-1,\n",
              "                                 probability=False, random_state=None,\n",
              "                                 shrinking=True, tol=0.001, verbose=False),\n",
              "                   iid='deprecated', n_iter=10, n_jobs=None,\n",
              "                   param_distributions={'gamma': ['scale', 'auto'],\n",
              "                                        'kernel': ['linear', 'poly', 'rbf',\n",
              "                                                   'sigmoid'],\n",
              "                                        'probability': [True, False],\n",
              "                                        'random_state': [1, 2, 3, 4, 5],\n",
              "                                        'shrinking': [True, False]},\n",
              "                   pre_dispatch='2*n_jobs', random_state=None, refit=True,\n",
              "                   return_train_score=False, scoring='f1_micro', verbose=3)"
            ]
          },
          "metadata": {
            "tags": []
          },
          "execution_count": 77
        }
      ]
    },
    {
      "cell_type": "code",
      "metadata": {
        "colab": {
          "base_uri": "https://localhost:8080/"
        },
        "id": "1cebwqB5KkeA",
        "outputId": "df97dee6-aaa3-4d8b-8956-80ef557966e9"
      },
      "source": [
        "svc.best_score_"
      ],
      "execution_count": null,
      "outputs": [
        {
          "output_type": "execute_result",
          "data": {
            "text/plain": [
              "0.9753333333333334"
            ]
          },
          "metadata": {
            "tags": []
          },
          "execution_count": 78
        }
      ]
    },
    {
      "cell_type": "code",
      "metadata": {
        "colab": {
          "base_uri": "https://localhost:8080/"
        },
        "id": "fTGnYIxaKkeB",
        "outputId": "9893bbbe-d3b8-44c9-e2fe-3d5479560a7a"
      },
      "source": [
        "svc.best_params_"
      ],
      "execution_count": null,
      "outputs": [
        {
          "output_type": "execute_result",
          "data": {
            "text/plain": [
              "{'gamma': 'scale',\n",
              " 'kernel': 'linear',\n",
              " 'probability': False,\n",
              " 'random_state': 3,\n",
              " 'shrinking': False}"
            ]
          },
          "metadata": {
            "tags": []
          },
          "execution_count": 79
        }
      ]
    },
    {
      "cell_type": "code",
      "metadata": {
        "id": "akqBdMm6KkeD"
      },
      "source": [
        " modelSVC = svc.best_estimator_"
      ],
      "execution_count": null,
      "outputs": []
    },
    {
      "cell_type": "code",
      "metadata": {
        "colab": {
          "base_uri": "https://localhost:8080/"
        },
        "id": "LmOfrRU2KkeD",
        "outputId": "2cdc3c10-38fa-4c57-aa9b-ef4c9bc6a763"
      },
      "source": [
        "y_pred = modelSVC.predict(xtst)\n",
        "y_pred"
      ],
      "execution_count": null,
      "outputs": [
        {
          "output_type": "execute_result",
          "data": {
            "text/plain": [
              "array([3, 0, 2, 2, 2, 0, 0, 3, 3, 1, 1, 3, 0, 2, 3, 0, 3, 2, 2, 1, 0, 0,\n",
              "       3, 1, 2, 2, 3, 1, 3, 1, 1, 0, 2, 0, 1, 3, 0, 0, 3, 3, 2, 1, 3, 3,\n",
              "       1, 3, 0, 1, 3, 1, 1, 3, 0, 3, 0, 2, 2, 2, 0, 3, 3, 1, 3, 2, 1, 2,\n",
              "       3, 2, 2, 2, 3, 2, 1, 0, 1, 3, 2, 2, 1, 2, 3, 3, 3, 0, 0, 0, 2, 1,\n",
              "       2, 3, 1, 2, 2, 1, 0, 3, 3, 3, 0, 3, 1, 1, 2, 1, 3, 2, 2, 3, 2, 3,\n",
              "       3, 0, 0, 1, 3, 3, 0, 0, 1, 0, 0, 3, 2, 2, 1, 2, 1, 1, 0, 2, 1, 3,\n",
              "       3, 3, 3, 3, 3, 2, 0, 1, 1, 2, 1, 3, 1, 3, 0, 0, 2, 0, 1, 1, 1, 1,\n",
              "       3, 0, 0, 3, 1, 3, 2, 1, 3, 1, 2, 3, 3, 2, 1, 0, 3, 1, 2, 3, 3, 0,\n",
              "       2, 2, 3, 0, 2, 1, 0, 1, 2, 1, 2, 0, 3, 3, 1, 1, 0, 2, 3, 0, 1, 2,\n",
              "       2, 0, 3, 3, 3, 1, 2, 3, 3, 3, 0, 0, 0, 2, 3, 3, 0, 0, 1, 3, 2, 3,\n",
              "       3, 3, 0, 0, 2, 2, 3, 1, 0, 2, 0, 0, 0, 3, 2, 0, 2, 2, 1, 1, 0, 2,\n",
              "       3, 3, 0, 0, 1, 3, 3, 2, 3, 0, 3, 1, 1, 0, 2, 3, 3, 2, 0, 0, 1, 2,\n",
              "       3, 2, 2, 3, 2, 1, 0, 3, 3, 2, 1, 3, 2, 2, 2, 1, 0, 2, 2, 1, 0, 0,\n",
              "       2, 2, 2, 2, 0, 1, 3, 0, 2, 2, 3, 0, 2, 0, 1, 1, 3, 0, 0, 2, 3, 1,\n",
              "       2, 0, 2, 0, 3, 0, 3, 3, 2, 3, 1, 2, 2, 1, 1, 1, 0, 1, 0, 3, 1, 0,\n",
              "       3, 1, 0, 1, 3, 0, 3, 1, 1, 0, 1, 3, 0, 2, 2, 1, 2, 1, 1, 0, 2, 0,\n",
              "       0, 3, 1, 2, 3, 2, 2, 0, 3, 2, 2, 1, 3, 2, 3, 3, 3, 0, 2, 0, 3, 0,\n",
              "       1, 1, 2, 2, 1, 3, 1, 2, 0, 1, 2, 3, 0, 0, 1, 3, 0, 3, 0, 2, 2, 1,\n",
              "       1, 0, 2, 1, 0, 1, 3, 0, 3, 3, 0, 2, 1, 3, 1, 1, 3, 2, 0, 3, 2, 2,\n",
              "       0, 0, 3, 0, 1, 1, 1, 3, 2, 3, 2, 0, 3, 0, 0, 1, 3, 0, 0, 3, 2, 2,\n",
              "       2, 3, 0, 0, 1, 2, 1, 2, 0, 3, 3, 0, 3, 3, 0, 2, 2, 1, 0, 2, 2, 1,\n",
              "       3, 2, 2, 0, 2, 0, 3, 3, 2, 1, 0, 3, 1, 2, 0, 0, 1, 3, 0, 3, 0, 0,\n",
              "       1, 2, 0, 1, 3, 0, 2, 2, 1, 2, 0, 3, 0, 2, 3, 2])"
            ]
          },
          "metadata": {
            "tags": []
          },
          "execution_count": 84
        }
      ]
    },
    {
      "cell_type": "code",
      "metadata": {
        "id": "PHy_ZmikKkeE"
      },
      "source": [
        "subSVC = pd.DataFrame({'index':dataTest['index'], 'price_range':y_pred})\n",
        "subSVC.to_csv('submissionSVC.csv', index=False)"
      ],
      "execution_count": null,
      "outputs": []
    },
    {
      "cell_type": "code",
      "metadata": {
        "id": "Bw-C4XAPKkeF",
        "colab": {
          "base_uri": "https://localhost:8080/",
          "height": 416
        },
        "outputId": "f0ae8723-ad0f-4ccf-af82-bafdf4abd7ce"
      },
      "source": [
        "subSVC"
      ],
      "execution_count": null,
      "outputs": [
        {
          "output_type": "execute_result",
          "data": {
            "text/html": [
              "<div>\n",
              "<style scoped>\n",
              "    .dataframe tbody tr th:only-of-type {\n",
              "        vertical-align: middle;\n",
              "    }\n",
              "\n",
              "    .dataframe tbody tr th {\n",
              "        vertical-align: top;\n",
              "    }\n",
              "\n",
              "    .dataframe thead th {\n",
              "        text-align: right;\n",
              "    }\n",
              "</style>\n",
              "<table border=\"1\" class=\"dataframe\">\n",
              "  <thead>\n",
              "    <tr style=\"text-align: right;\">\n",
              "      <th></th>\n",
              "      <th>index</th>\n",
              "      <th>price_range</th>\n",
              "    </tr>\n",
              "  </thead>\n",
              "  <tbody>\n",
              "    <tr>\n",
              "      <th>0</th>\n",
              "      <td>405</td>\n",
              "      <td>3</td>\n",
              "    </tr>\n",
              "    <tr>\n",
              "      <th>1</th>\n",
              "      <td>1190</td>\n",
              "      <td>0</td>\n",
              "    </tr>\n",
              "    <tr>\n",
              "      <th>2</th>\n",
              "      <td>1132</td>\n",
              "      <td>2</td>\n",
              "    </tr>\n",
              "    <tr>\n",
              "      <th>3</th>\n",
              "      <td>731</td>\n",
              "      <td>2</td>\n",
              "    </tr>\n",
              "    <tr>\n",
              "      <th>4</th>\n",
              "      <td>1754</td>\n",
              "      <td>2</td>\n",
              "    </tr>\n",
              "    <tr>\n",
              "      <th>...</th>\n",
              "      <td>...</td>\n",
              "      <td>...</td>\n",
              "    </tr>\n",
              "    <tr>\n",
              "      <th>495</th>\n",
              "      <td>936</td>\n",
              "      <td>3</td>\n",
              "    </tr>\n",
              "    <tr>\n",
              "      <th>496</th>\n",
              "      <td>1524</td>\n",
              "      <td>0</td>\n",
              "    </tr>\n",
              "    <tr>\n",
              "      <th>497</th>\n",
              "      <td>1415</td>\n",
              "      <td>2</td>\n",
              "    </tr>\n",
              "    <tr>\n",
              "      <th>498</th>\n",
              "      <td>1223</td>\n",
              "      <td>3</td>\n",
              "    </tr>\n",
              "    <tr>\n",
              "      <th>499</th>\n",
              "      <td>1548</td>\n",
              "      <td>2</td>\n",
              "    </tr>\n",
              "  </tbody>\n",
              "</table>\n",
              "<p>500 rows × 2 columns</p>\n",
              "</div>"
            ],
            "text/plain": [
              "     index  price_range\n",
              "0      405            3\n",
              "1     1190            0\n",
              "2     1132            2\n",
              "3      731            2\n",
              "4     1754            2\n",
              "..     ...          ...\n",
              "495    936            3\n",
              "496   1524            0\n",
              "497   1415            2\n",
              "498   1223            3\n",
              "499   1548            2\n",
              "\n",
              "[500 rows x 2 columns]"
            ]
          },
          "metadata": {
            "tags": []
          },
          "execution_count": 86
        }
      ]
    },
    {
      "cell_type": "markdown",
      "metadata": {
        "id": "u3bAbvs0MVVU"
      },
      "source": [
        "# Using Random Forest Classifier"
      ]
    },
    {
      "cell_type": "code",
      "metadata": {
        "colab": {
          "base_uri": "https://localhost:8080/"
        },
        "id": "ifHkPBZ5MVVm",
        "outputId": "4f6569cf-80c8-4a06-fc37-bfb3e1bdd5d5"
      },
      "source": [
        "modelRFC = RandomForestClassifier()\n",
        "param = {\n",
        "    'n_estimators':[100, 200, 300, 400, 500],\n",
        "    'criterion':['gini', 'entropy'],\n",
        "    'max_features':['auto', 'sqrt', 'log2'],\n",
        "    'max_depth':range(1,20),\n",
        "    'bootstrap':[True,False],\n",
        "    'min_samples_split':range(2,10),\n",
        "    'class_weight':['balanced', 'balanced_subsample'],\n",
        "    'min_samples_leaf':range(1,5)\n",
        "}\n",
        "RFC = RandomizedSearchCV(modelRFC, param, cv = 10, scoring = 'f1_micro', verbose=3)\n",
        "RFC.fit(x,y)"
      ],
      "execution_count": null,
      "outputs": [
        {
          "output_type": "stream",
          "text": [
            "Fitting 10 folds for each of 10 candidates, totalling 100 fits\n",
            "[CV] n_estimators=200, min_samples_split=2, min_samples_leaf=2, max_features=log2, max_depth=12, criterion=entropy, class_weight=balanced_subsample, bootstrap=True \n"
          ],
          "name": "stdout"
        },
        {
          "output_type": "stream",
          "text": [
            "[Parallel(n_jobs=1)]: Using backend SequentialBackend with 1 concurrent workers.\n"
          ],
          "name": "stderr"
        },
        {
          "output_type": "stream",
          "text": [
            "[CV]  n_estimators=200, min_samples_split=2, min_samples_leaf=2, max_features=log2, max_depth=12, criterion=entropy, class_weight=balanced_subsample, bootstrap=True, score=0.773, total=   1.3s\n",
            "[CV] n_estimators=200, min_samples_split=2, min_samples_leaf=2, max_features=log2, max_depth=12, criterion=entropy, class_weight=balanced_subsample, bootstrap=True \n"
          ],
          "name": "stdout"
        },
        {
          "output_type": "stream",
          "text": [
            "[Parallel(n_jobs=1)]: Done   1 out of   1 | elapsed:    1.3s remaining:    0.0s\n"
          ],
          "name": "stderr"
        },
        {
          "output_type": "stream",
          "text": [
            "[CV]  n_estimators=200, min_samples_split=2, min_samples_leaf=2, max_features=log2, max_depth=12, criterion=entropy, class_weight=balanced_subsample, bootstrap=True, score=0.747, total=   1.3s\n",
            "[CV] n_estimators=200, min_samples_split=2, min_samples_leaf=2, max_features=log2, max_depth=12, criterion=entropy, class_weight=balanced_subsample, bootstrap=True \n"
          ],
          "name": "stdout"
        },
        {
          "output_type": "stream",
          "text": [
            "[Parallel(n_jobs=1)]: Done   2 out of   2 | elapsed:    2.7s remaining:    0.0s\n"
          ],
          "name": "stderr"
        },
        {
          "output_type": "stream",
          "text": [
            "[CV]  n_estimators=200, min_samples_split=2, min_samples_leaf=2, max_features=log2, max_depth=12, criterion=entropy, class_weight=balanced_subsample, bootstrap=True, score=0.773, total=   1.3s\n",
            "[CV] n_estimators=200, min_samples_split=2, min_samples_leaf=2, max_features=log2, max_depth=12, criterion=entropy, class_weight=balanced_subsample, bootstrap=True \n",
            "[CV]  n_estimators=200, min_samples_split=2, min_samples_leaf=2, max_features=log2, max_depth=12, criterion=entropy, class_weight=balanced_subsample, bootstrap=True, score=0.787, total=   1.3s\n",
            "[CV] n_estimators=200, min_samples_split=2, min_samples_leaf=2, max_features=log2, max_depth=12, criterion=entropy, class_weight=balanced_subsample, bootstrap=True \n",
            "[CV]  n_estimators=200, min_samples_split=2, min_samples_leaf=2, max_features=log2, max_depth=12, criterion=entropy, class_weight=balanced_subsample, bootstrap=True, score=0.807, total=   1.3s\n",
            "[CV] n_estimators=200, min_samples_split=2, min_samples_leaf=2, max_features=log2, max_depth=12, criterion=entropy, class_weight=balanced_subsample, bootstrap=True \n",
            "[CV]  n_estimators=200, min_samples_split=2, min_samples_leaf=2, max_features=log2, max_depth=12, criterion=entropy, class_weight=balanced_subsample, bootstrap=True, score=0.773, total=   1.3s\n",
            "[CV] n_estimators=200, min_samples_split=2, min_samples_leaf=2, max_features=log2, max_depth=12, criterion=entropy, class_weight=balanced_subsample, bootstrap=True \n",
            "[CV]  n_estimators=200, min_samples_split=2, min_samples_leaf=2, max_features=log2, max_depth=12, criterion=entropy, class_weight=balanced_subsample, bootstrap=True, score=0.767, total=   1.3s\n",
            "[CV] n_estimators=200, min_samples_split=2, min_samples_leaf=2, max_features=log2, max_depth=12, criterion=entropy, class_weight=balanced_subsample, bootstrap=True \n",
            "[CV]  n_estimators=200, min_samples_split=2, min_samples_leaf=2, max_features=log2, max_depth=12, criterion=entropy, class_weight=balanced_subsample, bootstrap=True, score=0.787, total=   1.3s\n",
            "[CV] n_estimators=200, min_samples_split=2, min_samples_leaf=2, max_features=log2, max_depth=12, criterion=entropy, class_weight=balanced_subsample, bootstrap=True \n",
            "[CV]  n_estimators=200, min_samples_split=2, min_samples_leaf=2, max_features=log2, max_depth=12, criterion=entropy, class_weight=balanced_subsample, bootstrap=True, score=0.753, total=   1.3s\n",
            "[CV] n_estimators=200, min_samples_split=2, min_samples_leaf=2, max_features=log2, max_depth=12, criterion=entropy, class_weight=balanced_subsample, bootstrap=True \n",
            "[CV]  n_estimators=200, min_samples_split=2, min_samples_leaf=2, max_features=log2, max_depth=12, criterion=entropy, class_weight=balanced_subsample, bootstrap=True, score=0.807, total=   1.3s\n",
            "[CV] n_estimators=200, min_samples_split=8, min_samples_leaf=4, max_features=sqrt, max_depth=10, criterion=entropy, class_weight=balanced, bootstrap=False \n",
            "[CV]  n_estimators=200, min_samples_split=8, min_samples_leaf=4, max_features=sqrt, max_depth=10, criterion=entropy, class_weight=balanced, bootstrap=False, score=0.773, total=   1.3s\n",
            "[CV] n_estimators=200, min_samples_split=8, min_samples_leaf=4, max_features=sqrt, max_depth=10, criterion=entropy, class_weight=balanced, bootstrap=False \n",
            "[CV]  n_estimators=200, min_samples_split=8, min_samples_leaf=4, max_features=sqrt, max_depth=10, criterion=entropy, class_weight=balanced, bootstrap=False, score=0.720, total=   1.3s\n",
            "[CV] n_estimators=200, min_samples_split=8, min_samples_leaf=4, max_features=sqrt, max_depth=10, criterion=entropy, class_weight=balanced, bootstrap=False \n",
            "[CV]  n_estimators=200, min_samples_split=8, min_samples_leaf=4, max_features=sqrt, max_depth=10, criterion=entropy, class_weight=balanced, bootstrap=False, score=0.760, total=   1.3s\n",
            "[CV] n_estimators=200, min_samples_split=8, min_samples_leaf=4, max_features=sqrt, max_depth=10, criterion=entropy, class_weight=balanced, bootstrap=False \n",
            "[CV]  n_estimators=200, min_samples_split=8, min_samples_leaf=4, max_features=sqrt, max_depth=10, criterion=entropy, class_weight=balanced, bootstrap=False, score=0.780, total=   1.3s\n",
            "[CV] n_estimators=200, min_samples_split=8, min_samples_leaf=4, max_features=sqrt, max_depth=10, criterion=entropy, class_weight=balanced, bootstrap=False \n",
            "[CV]  n_estimators=200, min_samples_split=8, min_samples_leaf=4, max_features=sqrt, max_depth=10, criterion=entropy, class_weight=balanced, bootstrap=False, score=0.820, total=   1.3s\n",
            "[CV] n_estimators=200, min_samples_split=8, min_samples_leaf=4, max_features=sqrt, max_depth=10, criterion=entropy, class_weight=balanced, bootstrap=False \n",
            "[CV]  n_estimators=200, min_samples_split=8, min_samples_leaf=4, max_features=sqrt, max_depth=10, criterion=entropy, class_weight=balanced, bootstrap=False, score=0.773, total=   1.3s\n",
            "[CV] n_estimators=200, min_samples_split=8, min_samples_leaf=4, max_features=sqrt, max_depth=10, criterion=entropy, class_weight=balanced, bootstrap=False \n",
            "[CV]  n_estimators=200, min_samples_split=8, min_samples_leaf=4, max_features=sqrt, max_depth=10, criterion=entropy, class_weight=balanced, bootstrap=False, score=0.760, total=   1.3s\n",
            "[CV] n_estimators=200, min_samples_split=8, min_samples_leaf=4, max_features=sqrt, max_depth=10, criterion=entropy, class_weight=balanced, bootstrap=False \n",
            "[CV]  n_estimators=200, min_samples_split=8, min_samples_leaf=4, max_features=sqrt, max_depth=10, criterion=entropy, class_weight=balanced, bootstrap=False, score=0.793, total=   1.3s\n",
            "[CV] n_estimators=200, min_samples_split=8, min_samples_leaf=4, max_features=sqrt, max_depth=10, criterion=entropy, class_weight=balanced, bootstrap=False \n",
            "[CV]  n_estimators=200, min_samples_split=8, min_samples_leaf=4, max_features=sqrt, max_depth=10, criterion=entropy, class_weight=balanced, bootstrap=False, score=0.767, total=   1.3s\n",
            "[CV] n_estimators=200, min_samples_split=8, min_samples_leaf=4, max_features=sqrt, max_depth=10, criterion=entropy, class_weight=balanced, bootstrap=False \n",
            "[CV]  n_estimators=200, min_samples_split=8, min_samples_leaf=4, max_features=sqrt, max_depth=10, criterion=entropy, class_weight=balanced, bootstrap=False, score=0.787, total=   1.3s\n",
            "[CV] n_estimators=300, min_samples_split=7, min_samples_leaf=4, max_features=sqrt, max_depth=9, criterion=entropy, class_weight=balanced_subsample, bootstrap=False \n",
            "[CV]  n_estimators=300, min_samples_split=7, min_samples_leaf=4, max_features=sqrt, max_depth=9, criterion=entropy, class_weight=balanced_subsample, bootstrap=False, score=0.767, total=   1.9s\n",
            "[CV] n_estimators=300, min_samples_split=7, min_samples_leaf=4, max_features=sqrt, max_depth=9, criterion=entropy, class_weight=balanced_subsample, bootstrap=False \n",
            "[CV]  n_estimators=300, min_samples_split=7, min_samples_leaf=4, max_features=sqrt, max_depth=9, criterion=entropy, class_weight=balanced_subsample, bootstrap=False, score=0.720, total=   1.9s\n",
            "[CV] n_estimators=300, min_samples_split=7, min_samples_leaf=4, max_features=sqrt, max_depth=9, criterion=entropy, class_weight=balanced_subsample, bootstrap=False \n",
            "[CV]  n_estimators=300, min_samples_split=7, min_samples_leaf=4, max_features=sqrt, max_depth=9, criterion=entropy, class_weight=balanced_subsample, bootstrap=False, score=0.767, total=   1.9s\n",
            "[CV] n_estimators=300, min_samples_split=7, min_samples_leaf=4, max_features=sqrt, max_depth=9, criterion=entropy, class_weight=balanced_subsample, bootstrap=False \n",
            "[CV]  n_estimators=300, min_samples_split=7, min_samples_leaf=4, max_features=sqrt, max_depth=9, criterion=entropy, class_weight=balanced_subsample, bootstrap=False, score=0.773, total=   1.9s\n",
            "[CV] n_estimators=300, min_samples_split=7, min_samples_leaf=4, max_features=sqrt, max_depth=9, criterion=entropy, class_weight=balanced_subsample, bootstrap=False \n",
            "[CV]  n_estimators=300, min_samples_split=7, min_samples_leaf=4, max_features=sqrt, max_depth=9, criterion=entropy, class_weight=balanced_subsample, bootstrap=False, score=0.813, total=   1.9s\n",
            "[CV] n_estimators=300, min_samples_split=7, min_samples_leaf=4, max_features=sqrt, max_depth=9, criterion=entropy, class_weight=balanced_subsample, bootstrap=False \n",
            "[CV]  n_estimators=300, min_samples_split=7, min_samples_leaf=4, max_features=sqrt, max_depth=9, criterion=entropy, class_weight=balanced_subsample, bootstrap=False, score=0.767, total=   1.9s\n",
            "[CV] n_estimators=300, min_samples_split=7, min_samples_leaf=4, max_features=sqrt, max_depth=9, criterion=entropy, class_weight=balanced_subsample, bootstrap=False \n",
            "[CV]  n_estimators=300, min_samples_split=7, min_samples_leaf=4, max_features=sqrt, max_depth=9, criterion=entropy, class_weight=balanced_subsample, bootstrap=False, score=0.780, total=   1.9s\n",
            "[CV] n_estimators=300, min_samples_split=7, min_samples_leaf=4, max_features=sqrt, max_depth=9, criterion=entropy, class_weight=balanced_subsample, bootstrap=False \n",
            "[CV]  n_estimators=300, min_samples_split=7, min_samples_leaf=4, max_features=sqrt, max_depth=9, criterion=entropy, class_weight=balanced_subsample, bootstrap=False, score=0.800, total=   1.9s\n",
            "[CV] n_estimators=300, min_samples_split=7, min_samples_leaf=4, max_features=sqrt, max_depth=9, criterion=entropy, class_weight=balanced_subsample, bootstrap=False \n",
            "[CV]  n_estimators=300, min_samples_split=7, min_samples_leaf=4, max_features=sqrt, max_depth=9, criterion=entropy, class_weight=balanced_subsample, bootstrap=False, score=0.760, total=   1.9s\n",
            "[CV] n_estimators=300, min_samples_split=7, min_samples_leaf=4, max_features=sqrt, max_depth=9, criterion=entropy, class_weight=balanced_subsample, bootstrap=False \n",
            "[CV]  n_estimators=300, min_samples_split=7, min_samples_leaf=4, max_features=sqrt, max_depth=9, criterion=entropy, class_weight=balanced_subsample, bootstrap=False, score=0.800, total=   1.9s\n",
            "[CV] n_estimators=200, min_samples_split=9, min_samples_leaf=2, max_features=log2, max_depth=1, criterion=gini, class_weight=balanced, bootstrap=False \n",
            "[CV]  n_estimators=200, min_samples_split=9, min_samples_leaf=2, max_features=log2, max_depth=1, criterion=gini, class_weight=balanced, bootstrap=False, score=0.527, total=   0.3s\n",
            "[CV] n_estimators=200, min_samples_split=9, min_samples_leaf=2, max_features=log2, max_depth=1, criterion=gini, class_weight=balanced, bootstrap=False \n",
            "[CV]  n_estimators=200, min_samples_split=9, min_samples_leaf=2, max_features=log2, max_depth=1, criterion=gini, class_weight=balanced, bootstrap=False, score=0.480, total=   0.3s\n",
            "[CV] n_estimators=200, min_samples_split=9, min_samples_leaf=2, max_features=log2, max_depth=1, criterion=gini, class_weight=balanced, bootstrap=False \n",
            "[CV]  n_estimators=200, min_samples_split=9, min_samples_leaf=2, max_features=log2, max_depth=1, criterion=gini, class_weight=balanced, bootstrap=False, score=0.473, total=   0.3s\n",
            "[CV] n_estimators=200, min_samples_split=9, min_samples_leaf=2, max_features=log2, max_depth=1, criterion=gini, class_weight=balanced, bootstrap=False \n",
            "[CV]  n_estimators=200, min_samples_split=9, min_samples_leaf=2, max_features=log2, max_depth=1, criterion=gini, class_weight=balanced, bootstrap=False, score=0.493, total=   0.3s\n",
            "[CV] n_estimators=200, min_samples_split=9, min_samples_leaf=2, max_features=log2, max_depth=1, criterion=gini, class_weight=balanced, bootstrap=False \n",
            "[CV]  n_estimators=200, min_samples_split=9, min_samples_leaf=2, max_features=log2, max_depth=1, criterion=gini, class_weight=balanced, bootstrap=False, score=0.520, total=   0.3s\n",
            "[CV] n_estimators=200, min_samples_split=9, min_samples_leaf=2, max_features=log2, max_depth=1, criterion=gini, class_weight=balanced, bootstrap=False \n",
            "[CV]  n_estimators=200, min_samples_split=9, min_samples_leaf=2, max_features=log2, max_depth=1, criterion=gini, class_weight=balanced, bootstrap=False, score=0.493, total=   0.3s\n",
            "[CV] n_estimators=200, min_samples_split=9, min_samples_leaf=2, max_features=log2, max_depth=1, criterion=gini, class_weight=balanced, bootstrap=False \n",
            "[CV]  n_estimators=200, min_samples_split=9, min_samples_leaf=2, max_features=log2, max_depth=1, criterion=gini, class_weight=balanced, bootstrap=False, score=0.487, total=   0.3s\n",
            "[CV] n_estimators=200, min_samples_split=9, min_samples_leaf=2, max_features=log2, max_depth=1, criterion=gini, class_weight=balanced, bootstrap=False \n",
            "[CV]  n_estimators=200, min_samples_split=9, min_samples_leaf=2, max_features=log2, max_depth=1, criterion=gini, class_weight=balanced, bootstrap=False, score=0.487, total=   0.3s\n",
            "[CV] n_estimators=200, min_samples_split=9, min_samples_leaf=2, max_features=log2, max_depth=1, criterion=gini, class_weight=balanced, bootstrap=False \n",
            "[CV]  n_estimators=200, min_samples_split=9, min_samples_leaf=2, max_features=log2, max_depth=1, criterion=gini, class_weight=balanced, bootstrap=False, score=0.480, total=   0.3s\n",
            "[CV] n_estimators=200, min_samples_split=9, min_samples_leaf=2, max_features=log2, max_depth=1, criterion=gini, class_weight=balanced, bootstrap=False \n",
            "[CV]  n_estimators=200, min_samples_split=9, min_samples_leaf=2, max_features=log2, max_depth=1, criterion=gini, class_weight=balanced, bootstrap=False, score=0.513, total=   0.3s\n",
            "[CV] n_estimators=200, min_samples_split=3, min_samples_leaf=3, max_features=log2, max_depth=10, criterion=entropy, class_weight=balanced, bootstrap=False \n",
            "[CV]  n_estimators=200, min_samples_split=3, min_samples_leaf=3, max_features=log2, max_depth=10, criterion=entropy, class_weight=balanced, bootstrap=False, score=0.767, total=   1.4s\n",
            "[CV] n_estimators=200, min_samples_split=3, min_samples_leaf=3, max_features=log2, max_depth=10, criterion=entropy, class_weight=balanced, bootstrap=False \n",
            "[CV]  n_estimators=200, min_samples_split=3, min_samples_leaf=3, max_features=log2, max_depth=10, criterion=entropy, class_weight=balanced, bootstrap=False, score=0.707, total=   1.4s\n",
            "[CV] n_estimators=200, min_samples_split=3, min_samples_leaf=3, max_features=log2, max_depth=10, criterion=entropy, class_weight=balanced, bootstrap=False \n",
            "[CV]  n_estimators=200, min_samples_split=3, min_samples_leaf=3, max_features=log2, max_depth=10, criterion=entropy, class_weight=balanced, bootstrap=False, score=0.767, total=   1.3s\n",
            "[CV] n_estimators=200, min_samples_split=3, min_samples_leaf=3, max_features=log2, max_depth=10, criterion=entropy, class_weight=balanced, bootstrap=False \n",
            "[CV]  n_estimators=200, min_samples_split=3, min_samples_leaf=3, max_features=log2, max_depth=10, criterion=entropy, class_weight=balanced, bootstrap=False, score=0.767, total=   1.4s\n",
            "[CV] n_estimators=200, min_samples_split=3, min_samples_leaf=3, max_features=log2, max_depth=10, criterion=entropy, class_weight=balanced, bootstrap=False \n",
            "[CV]  n_estimators=200, min_samples_split=3, min_samples_leaf=3, max_features=log2, max_depth=10, criterion=entropy, class_weight=balanced, bootstrap=False, score=0.800, total=   1.4s\n",
            "[CV] n_estimators=200, min_samples_split=3, min_samples_leaf=3, max_features=log2, max_depth=10, criterion=entropy, class_weight=balanced, bootstrap=False \n",
            "[CV]  n_estimators=200, min_samples_split=3, min_samples_leaf=3, max_features=log2, max_depth=10, criterion=entropy, class_weight=balanced, bootstrap=False, score=0.767, total=   1.4s\n",
            "[CV] n_estimators=200, min_samples_split=3, min_samples_leaf=3, max_features=log2, max_depth=10, criterion=entropy, class_weight=balanced, bootstrap=False \n",
            "[CV]  n_estimators=200, min_samples_split=3, min_samples_leaf=3, max_features=log2, max_depth=10, criterion=entropy, class_weight=balanced, bootstrap=False, score=0.787, total=   1.3s\n",
            "[CV] n_estimators=200, min_samples_split=3, min_samples_leaf=3, max_features=log2, max_depth=10, criterion=entropy, class_weight=balanced, bootstrap=False \n",
            "[CV]  n_estimators=200, min_samples_split=3, min_samples_leaf=3, max_features=log2, max_depth=10, criterion=entropy, class_weight=balanced, bootstrap=False, score=0.800, total=   1.4s\n",
            "[CV] n_estimators=200, min_samples_split=3, min_samples_leaf=3, max_features=log2, max_depth=10, criterion=entropy, class_weight=balanced, bootstrap=False \n",
            "[CV]  n_estimators=200, min_samples_split=3, min_samples_leaf=3, max_features=log2, max_depth=10, criterion=entropy, class_weight=balanced, bootstrap=False, score=0.760, total=   1.4s\n",
            "[CV] n_estimators=200, min_samples_split=3, min_samples_leaf=3, max_features=log2, max_depth=10, criterion=entropy, class_weight=balanced, bootstrap=False \n",
            "[CV]  n_estimators=200, min_samples_split=3, min_samples_leaf=3, max_features=log2, max_depth=10, criterion=entropy, class_weight=balanced, bootstrap=False, score=0.773, total=   1.3s\n",
            "[CV] n_estimators=100, min_samples_split=5, min_samples_leaf=4, max_features=log2, max_depth=19, criterion=gini, class_weight=balanced, bootstrap=True \n",
            "[CV]  n_estimators=100, min_samples_split=5, min_samples_leaf=4, max_features=log2, max_depth=19, criterion=gini, class_weight=balanced, bootstrap=True, score=0.767, total=   0.3s\n",
            "[CV] n_estimators=100, min_samples_split=5, min_samples_leaf=4, max_features=log2, max_depth=19, criterion=gini, class_weight=balanced, bootstrap=True \n",
            "[CV]  n_estimators=100, min_samples_split=5, min_samples_leaf=4, max_features=log2, max_depth=19, criterion=gini, class_weight=balanced, bootstrap=True, score=0.727, total=   0.3s\n",
            "[CV] n_estimators=100, min_samples_split=5, min_samples_leaf=4, max_features=log2, max_depth=19, criterion=gini, class_weight=balanced, bootstrap=True \n",
            "[CV]  n_estimators=100, min_samples_split=5, min_samples_leaf=4, max_features=log2, max_depth=19, criterion=gini, class_weight=balanced, bootstrap=True, score=0.787, total=   0.3s\n",
            "[CV] n_estimators=100, min_samples_split=5, min_samples_leaf=4, max_features=log2, max_depth=19, criterion=gini, class_weight=balanced, bootstrap=True \n",
            "[CV]  n_estimators=100, min_samples_split=5, min_samples_leaf=4, max_features=log2, max_depth=19, criterion=gini, class_weight=balanced, bootstrap=True, score=0.753, total=   0.3s\n",
            "[CV] n_estimators=100, min_samples_split=5, min_samples_leaf=4, max_features=log2, max_depth=19, criterion=gini, class_weight=balanced, bootstrap=True \n",
            "[CV]  n_estimators=100, min_samples_split=5, min_samples_leaf=4, max_features=log2, max_depth=19, criterion=gini, class_weight=balanced, bootstrap=True, score=0.820, total=   0.3s\n",
            "[CV] n_estimators=100, min_samples_split=5, min_samples_leaf=4, max_features=log2, max_depth=19, criterion=gini, class_weight=balanced, bootstrap=True \n",
            "[CV]  n_estimators=100, min_samples_split=5, min_samples_leaf=4, max_features=log2, max_depth=19, criterion=gini, class_weight=balanced, bootstrap=True, score=0.773, total=   0.3s\n",
            "[CV] n_estimators=100, min_samples_split=5, min_samples_leaf=4, max_features=log2, max_depth=19, criterion=gini, class_weight=balanced, bootstrap=True \n",
            "[CV]  n_estimators=100, min_samples_split=5, min_samples_leaf=4, max_features=log2, max_depth=19, criterion=gini, class_weight=balanced, bootstrap=True, score=0.767, total=   0.3s\n",
            "[CV] n_estimators=100, min_samples_split=5, min_samples_leaf=4, max_features=log2, max_depth=19, criterion=gini, class_weight=balanced, bootstrap=True \n",
            "[CV]  n_estimators=100, min_samples_split=5, min_samples_leaf=4, max_features=log2, max_depth=19, criterion=gini, class_weight=balanced, bootstrap=True, score=0.780, total=   0.4s\n",
            "[CV] n_estimators=100, min_samples_split=5, min_samples_leaf=4, max_features=log2, max_depth=19, criterion=gini, class_weight=balanced, bootstrap=True \n",
            "[CV]  n_estimators=100, min_samples_split=5, min_samples_leaf=4, max_features=log2, max_depth=19, criterion=gini, class_weight=balanced, bootstrap=True, score=0.773, total=   0.4s\n",
            "[CV] n_estimators=100, min_samples_split=5, min_samples_leaf=4, max_features=log2, max_depth=19, criterion=gini, class_weight=balanced, bootstrap=True \n",
            "[CV]  n_estimators=100, min_samples_split=5, min_samples_leaf=4, max_features=log2, max_depth=19, criterion=gini, class_weight=balanced, bootstrap=True, score=0.807, total=   0.4s\n",
            "[CV] n_estimators=100, min_samples_split=9, min_samples_leaf=1, max_features=sqrt, max_depth=2, criterion=entropy, class_weight=balanced_subsample, bootstrap=False \n",
            "[CV]  n_estimators=100, min_samples_split=9, min_samples_leaf=1, max_features=sqrt, max_depth=2, criterion=entropy, class_weight=balanced_subsample, bootstrap=False, score=0.660, total=   0.2s\n",
            "[CV] n_estimators=100, min_samples_split=9, min_samples_leaf=1, max_features=sqrt, max_depth=2, criterion=entropy, class_weight=balanced_subsample, bootstrap=False \n",
            "[CV]  n_estimators=100, min_samples_split=9, min_samples_leaf=1, max_features=sqrt, max_depth=2, criterion=entropy, class_weight=balanced_subsample, bootstrap=False, score=0.687, total=   0.2s\n",
            "[CV] n_estimators=100, min_samples_split=9, min_samples_leaf=1, max_features=sqrt, max_depth=2, criterion=entropy, class_weight=balanced_subsample, bootstrap=False \n",
            "[CV]  n_estimators=100, min_samples_split=9, min_samples_leaf=1, max_features=sqrt, max_depth=2, criterion=entropy, class_weight=balanced_subsample, bootstrap=False, score=0.633, total=   0.2s\n",
            "[CV] n_estimators=100, min_samples_split=9, min_samples_leaf=1, max_features=sqrt, max_depth=2, criterion=entropy, class_weight=balanced_subsample, bootstrap=False \n",
            "[CV]  n_estimators=100, min_samples_split=9, min_samples_leaf=1, max_features=sqrt, max_depth=2, criterion=entropy, class_weight=balanced_subsample, bootstrap=False, score=0.667, total=   0.3s\n",
            "[CV] n_estimators=100, min_samples_split=9, min_samples_leaf=1, max_features=sqrt, max_depth=2, criterion=entropy, class_weight=balanced_subsample, bootstrap=False \n",
            "[CV]  n_estimators=100, min_samples_split=9, min_samples_leaf=1, max_features=sqrt, max_depth=2, criterion=entropy, class_weight=balanced_subsample, bootstrap=False, score=0.713, total=   0.3s\n",
            "[CV] n_estimators=100, min_samples_split=9, min_samples_leaf=1, max_features=sqrt, max_depth=2, criterion=entropy, class_weight=balanced_subsample, bootstrap=False \n",
            "[CV]  n_estimators=100, min_samples_split=9, min_samples_leaf=1, max_features=sqrt, max_depth=2, criterion=entropy, class_weight=balanced_subsample, bootstrap=False, score=0.720, total=   0.3s\n",
            "[CV] n_estimators=100, min_samples_split=9, min_samples_leaf=1, max_features=sqrt, max_depth=2, criterion=entropy, class_weight=balanced_subsample, bootstrap=False \n",
            "[CV]  n_estimators=100, min_samples_split=9, min_samples_leaf=1, max_features=sqrt, max_depth=2, criterion=entropy, class_weight=balanced_subsample, bootstrap=False, score=0.647, total=   0.2s\n",
            "[CV] n_estimators=100, min_samples_split=9, min_samples_leaf=1, max_features=sqrt, max_depth=2, criterion=entropy, class_weight=balanced_subsample, bootstrap=False \n",
            "[CV]  n_estimators=100, min_samples_split=9, min_samples_leaf=1, max_features=sqrt, max_depth=2, criterion=entropy, class_weight=balanced_subsample, bootstrap=False, score=0.640, total=   0.2s\n",
            "[CV] n_estimators=100, min_samples_split=9, min_samples_leaf=1, max_features=sqrt, max_depth=2, criterion=entropy, class_weight=balanced_subsample, bootstrap=False \n",
            "[CV]  n_estimators=100, min_samples_split=9, min_samples_leaf=1, max_features=sqrt, max_depth=2, criterion=entropy, class_weight=balanced_subsample, bootstrap=False, score=0.640, total=   0.2s\n",
            "[CV] n_estimators=100, min_samples_split=9, min_samples_leaf=1, max_features=sqrt, max_depth=2, criterion=entropy, class_weight=balanced_subsample, bootstrap=False \n",
            "[CV]  n_estimators=100, min_samples_split=9, min_samples_leaf=1, max_features=sqrt, max_depth=2, criterion=entropy, class_weight=balanced_subsample, bootstrap=False, score=0.680, total=   0.3s\n",
            "[CV] n_estimators=200, min_samples_split=6, min_samples_leaf=3, max_features=sqrt, max_depth=10, criterion=entropy, class_weight=balanced, bootstrap=True \n",
            "[CV]  n_estimators=200, min_samples_split=6, min_samples_leaf=3, max_features=sqrt, max_depth=10, criterion=entropy, class_weight=balanced, bootstrap=True, score=0.773, total=   1.0s\n",
            "[CV] n_estimators=200, min_samples_split=6, min_samples_leaf=3, max_features=sqrt, max_depth=10, criterion=entropy, class_weight=balanced, bootstrap=True \n",
            "[CV]  n_estimators=200, min_samples_split=6, min_samples_leaf=3, max_features=sqrt, max_depth=10, criterion=entropy, class_weight=balanced, bootstrap=True, score=0.733, total=   1.0s\n",
            "[CV] n_estimators=200, min_samples_split=6, min_samples_leaf=3, max_features=sqrt, max_depth=10, criterion=entropy, class_weight=balanced, bootstrap=True \n",
            "[CV]  n_estimators=200, min_samples_split=6, min_samples_leaf=3, max_features=sqrt, max_depth=10, criterion=entropy, class_weight=balanced, bootstrap=True, score=0.787, total=   1.0s\n",
            "[CV] n_estimators=200, min_samples_split=6, min_samples_leaf=3, max_features=sqrt, max_depth=10, criterion=entropy, class_weight=balanced, bootstrap=True \n",
            "[CV]  n_estimators=200, min_samples_split=6, min_samples_leaf=3, max_features=sqrt, max_depth=10, criterion=entropy, class_weight=balanced, bootstrap=True, score=0.780, total=   1.0s\n",
            "[CV] n_estimators=200, min_samples_split=6, min_samples_leaf=3, max_features=sqrt, max_depth=10, criterion=entropy, class_weight=balanced, bootstrap=True \n",
            "[CV]  n_estimators=200, min_samples_split=6, min_samples_leaf=3, max_features=sqrt, max_depth=10, criterion=entropy, class_weight=balanced, bootstrap=True, score=0.800, total=   1.0s\n",
            "[CV] n_estimators=200, min_samples_split=6, min_samples_leaf=3, max_features=sqrt, max_depth=10, criterion=entropy, class_weight=balanced, bootstrap=True \n",
            "[CV]  n_estimators=200, min_samples_split=6, min_samples_leaf=3, max_features=sqrt, max_depth=10, criterion=entropy, class_weight=balanced, bootstrap=True, score=0.773, total=   1.0s\n",
            "[CV] n_estimators=200, min_samples_split=6, min_samples_leaf=3, max_features=sqrt, max_depth=10, criterion=entropy, class_weight=balanced, bootstrap=True \n",
            "[CV]  n_estimators=200, min_samples_split=6, min_samples_leaf=3, max_features=sqrt, max_depth=10, criterion=entropy, class_weight=balanced, bootstrap=True, score=0.747, total=   1.1s\n",
            "[CV] n_estimators=200, min_samples_split=6, min_samples_leaf=3, max_features=sqrt, max_depth=10, criterion=entropy, class_weight=balanced, bootstrap=True \n",
            "[CV]  n_estimators=200, min_samples_split=6, min_samples_leaf=3, max_features=sqrt, max_depth=10, criterion=entropy, class_weight=balanced, bootstrap=True, score=0.807, total=   1.0s\n",
            "[CV] n_estimators=200, min_samples_split=6, min_samples_leaf=3, max_features=sqrt, max_depth=10, criterion=entropy, class_weight=balanced, bootstrap=True \n",
            "[CV]  n_estimators=200, min_samples_split=6, min_samples_leaf=3, max_features=sqrt, max_depth=10, criterion=entropy, class_weight=balanced, bootstrap=True, score=0.753, total=   1.0s\n",
            "[CV] n_estimators=200, min_samples_split=6, min_samples_leaf=3, max_features=sqrt, max_depth=10, criterion=entropy, class_weight=balanced, bootstrap=True \n",
            "[CV]  n_estimators=200, min_samples_split=6, min_samples_leaf=3, max_features=sqrt, max_depth=10, criterion=entropy, class_weight=balanced, bootstrap=True, score=0.813, total=   1.1s\n",
            "[CV] n_estimators=200, min_samples_split=4, min_samples_leaf=2, max_features=log2, max_depth=16, criterion=gini, class_weight=balanced, bootstrap=False \n",
            "[CV]  n_estimators=200, min_samples_split=4, min_samples_leaf=2, max_features=log2, max_depth=16, criterion=gini, class_weight=balanced, bootstrap=False, score=0.787, total=   1.0s\n",
            "[CV] n_estimators=200, min_samples_split=4, min_samples_leaf=2, max_features=log2, max_depth=16, criterion=gini, class_weight=balanced, bootstrap=False \n",
            "[CV]  n_estimators=200, min_samples_split=4, min_samples_leaf=2, max_features=log2, max_depth=16, criterion=gini, class_weight=balanced, bootstrap=False, score=0.713, total=   0.9s\n",
            "[CV] n_estimators=200, min_samples_split=4, min_samples_leaf=2, max_features=log2, max_depth=16, criterion=gini, class_weight=balanced, bootstrap=False \n",
            "[CV]  n_estimators=200, min_samples_split=4, min_samples_leaf=2, max_features=log2, max_depth=16, criterion=gini, class_weight=balanced, bootstrap=False, score=0.760, total=   0.9s\n",
            "[CV] n_estimators=200, min_samples_split=4, min_samples_leaf=2, max_features=log2, max_depth=16, criterion=gini, class_weight=balanced, bootstrap=False \n",
            "[CV]  n_estimators=200, min_samples_split=4, min_samples_leaf=2, max_features=log2, max_depth=16, criterion=gini, class_weight=balanced, bootstrap=False, score=0.793, total=   0.9s\n",
            "[CV] n_estimators=200, min_samples_split=4, min_samples_leaf=2, max_features=log2, max_depth=16, criterion=gini, class_weight=balanced, bootstrap=False \n",
            "[CV]  n_estimators=200, min_samples_split=4, min_samples_leaf=2, max_features=log2, max_depth=16, criterion=gini, class_weight=balanced, bootstrap=False, score=0.813, total=   0.9s\n",
            "[CV] n_estimators=200, min_samples_split=4, min_samples_leaf=2, max_features=log2, max_depth=16, criterion=gini, class_weight=balanced, bootstrap=False \n",
            "[CV]  n_estimators=200, min_samples_split=4, min_samples_leaf=2, max_features=log2, max_depth=16, criterion=gini, class_weight=balanced, bootstrap=False, score=0.753, total=   0.9s\n",
            "[CV] n_estimators=200, min_samples_split=4, min_samples_leaf=2, max_features=log2, max_depth=16, criterion=gini, class_weight=balanced, bootstrap=False \n",
            "[CV]  n_estimators=200, min_samples_split=4, min_samples_leaf=2, max_features=log2, max_depth=16, criterion=gini, class_weight=balanced, bootstrap=False, score=0.753, total=   0.9s\n",
            "[CV] n_estimators=200, min_samples_split=4, min_samples_leaf=2, max_features=log2, max_depth=16, criterion=gini, class_weight=balanced, bootstrap=False \n",
            "[CV]  n_estimators=200, min_samples_split=4, min_samples_leaf=2, max_features=log2, max_depth=16, criterion=gini, class_weight=balanced, bootstrap=False, score=0.793, total=   0.9s\n",
            "[CV] n_estimators=200, min_samples_split=4, min_samples_leaf=2, max_features=log2, max_depth=16, criterion=gini, class_weight=balanced, bootstrap=False \n",
            "[CV]  n_estimators=200, min_samples_split=4, min_samples_leaf=2, max_features=log2, max_depth=16, criterion=gini, class_weight=balanced, bootstrap=False, score=0.753, total=   0.9s\n",
            "[CV] n_estimators=200, min_samples_split=4, min_samples_leaf=2, max_features=log2, max_depth=16, criterion=gini, class_weight=balanced, bootstrap=False \n",
            "[CV]  n_estimators=200, min_samples_split=4, min_samples_leaf=2, max_features=log2, max_depth=16, criterion=gini, class_weight=balanced, bootstrap=False, score=0.787, total=   0.9s\n",
            "[CV] n_estimators=300, min_samples_split=6, min_samples_leaf=3, max_features=auto, max_depth=9, criterion=entropy, class_weight=balanced, bootstrap=False \n",
            "[CV]  n_estimators=300, min_samples_split=6, min_samples_leaf=3, max_features=auto, max_depth=9, criterion=entropy, class_weight=balanced, bootstrap=False, score=0.773, total=   1.9s\n",
            "[CV] n_estimators=300, min_samples_split=6, min_samples_leaf=3, max_features=auto, max_depth=9, criterion=entropy, class_weight=balanced, bootstrap=False \n",
            "[CV]  n_estimators=300, min_samples_split=6, min_samples_leaf=3, max_features=auto, max_depth=9, criterion=entropy, class_weight=balanced, bootstrap=False, score=0.720, total=   1.9s\n",
            "[CV] n_estimators=300, min_samples_split=6, min_samples_leaf=3, max_features=auto, max_depth=9, criterion=entropy, class_weight=balanced, bootstrap=False \n",
            "[CV]  n_estimators=300, min_samples_split=6, min_samples_leaf=3, max_features=auto, max_depth=9, criterion=entropy, class_weight=balanced, bootstrap=False, score=0.753, total=   1.9s\n",
            "[CV] n_estimators=300, min_samples_split=6, min_samples_leaf=3, max_features=auto, max_depth=9, criterion=entropy, class_weight=balanced, bootstrap=False \n",
            "[CV]  n_estimators=300, min_samples_split=6, min_samples_leaf=3, max_features=auto, max_depth=9, criterion=entropy, class_weight=balanced, bootstrap=False, score=0.773, total=   1.9s\n",
            "[CV] n_estimators=300, min_samples_split=6, min_samples_leaf=3, max_features=auto, max_depth=9, criterion=entropy, class_weight=balanced, bootstrap=False \n",
            "[CV]  n_estimators=300, min_samples_split=6, min_samples_leaf=3, max_features=auto, max_depth=9, criterion=entropy, class_weight=balanced, bootstrap=False, score=0.820, total=   1.9s\n",
            "[CV] n_estimators=300, min_samples_split=6, min_samples_leaf=3, max_features=auto, max_depth=9, criterion=entropy, class_weight=balanced, bootstrap=False \n",
            "[CV]  n_estimators=300, min_samples_split=6, min_samples_leaf=3, max_features=auto, max_depth=9, criterion=entropy, class_weight=balanced, bootstrap=False, score=0.760, total=   2.0s\n",
            "[CV] n_estimators=300, min_samples_split=6, min_samples_leaf=3, max_features=auto, max_depth=9, criterion=entropy, class_weight=balanced, bootstrap=False \n",
            "[CV]  n_estimators=300, min_samples_split=6, min_samples_leaf=3, max_features=auto, max_depth=9, criterion=entropy, class_weight=balanced, bootstrap=False, score=0.747, total=   1.9s\n",
            "[CV] n_estimators=300, min_samples_split=6, min_samples_leaf=3, max_features=auto, max_depth=9, criterion=entropy, class_weight=balanced, bootstrap=False \n",
            "[CV]  n_estimators=300, min_samples_split=6, min_samples_leaf=3, max_features=auto, max_depth=9, criterion=entropy, class_weight=balanced, bootstrap=False, score=0.800, total=   1.9s\n",
            "[CV] n_estimators=300, min_samples_split=6, min_samples_leaf=3, max_features=auto, max_depth=9, criterion=entropy, class_weight=balanced, bootstrap=False \n",
            "[CV]  n_estimators=300, min_samples_split=6, min_samples_leaf=3, max_features=auto, max_depth=9, criterion=entropy, class_weight=balanced, bootstrap=False, score=0.760, total=   2.0s\n",
            "[CV] n_estimators=300, min_samples_split=6, min_samples_leaf=3, max_features=auto, max_depth=9, criterion=entropy, class_weight=balanced, bootstrap=False \n",
            "[CV]  n_estimators=300, min_samples_split=6, min_samples_leaf=3, max_features=auto, max_depth=9, criterion=entropy, class_weight=balanced, bootstrap=False, score=0.793, total=   1.9s\n"
          ],
          "name": "stdout"
        },
        {
          "output_type": "stream",
          "text": [
            "[Parallel(n_jobs=1)]: Done 100 out of 100 | elapsed:  1.8min finished\n"
          ],
          "name": "stderr"
        },
        {
          "output_type": "execute_result",
          "data": {
            "text/plain": [
              "RandomizedSearchCV(cv=10, error_score=nan,\n",
              "                   estimator=RandomForestClassifier(bootstrap=True,\n",
              "                                                    ccp_alpha=0.0,\n",
              "                                                    class_weight=None,\n",
              "                                                    criterion='gini',\n",
              "                                                    max_depth=None,\n",
              "                                                    max_features='auto',\n",
              "                                                    max_leaf_nodes=None,\n",
              "                                                    max_samples=None,\n",
              "                                                    min_impurity_decrease=0.0,\n",
              "                                                    min_impurity_split=None,\n",
              "                                                    min_samples_leaf=1,\n",
              "                                                    min_samples_split=2,\n",
              "                                                    min_weight_fraction_leaf=0.0,\n",
              "                                                    n_estimators=100,\n",
              "                                                    n_job...\n",
              "                   param_distributions={'bootstrap': [True, False],\n",
              "                                        'class_weight': ['balanced',\n",
              "                                                         'balanced_subsample'],\n",
              "                                        'criterion': ['gini', 'entropy'],\n",
              "                                        'max_depth': range(1, 20),\n",
              "                                        'max_features': ['auto', 'sqrt',\n",
              "                                                         'log2'],\n",
              "                                        'min_samples_leaf': range(1, 5),\n",
              "                                        'min_samples_split': range(2, 10),\n",
              "                                        'n_estimators': [100, 200, 300, 400,\n",
              "                                                         500]},\n",
              "                   pre_dispatch='2*n_jobs', random_state=None, refit=True,\n",
              "                   return_train_score=False, scoring='f1_micro', verbose=3)"
            ]
          },
          "metadata": {
            "tags": []
          },
          "execution_count": 57
        }
      ]
    },
    {
      "cell_type": "code",
      "metadata": {
        "colab": {
          "base_uri": "https://localhost:8080/"
        },
        "id": "pJZIMSUpMVVo",
        "outputId": "46cae964-f3a8-4d25-ea21-51a3b0385733"
      },
      "source": [
        "RFC.best_score_"
      ],
      "execution_count": null,
      "outputs": [
        {
          "output_type": "execute_result",
          "data": {
            "text/plain": [
              "0.7773333333333332"
            ]
          },
          "metadata": {
            "tags": []
          },
          "execution_count": 58
        }
      ]
    },
    {
      "cell_type": "code",
      "metadata": {
        "colab": {
          "base_uri": "https://localhost:8080/"
        },
        "id": "yDzWOwqNMVVp",
        "outputId": "ff992c88-4a2b-41c6-c7a1-1c27f5127835"
      },
      "source": [
        "RFC.best_params_"
      ],
      "execution_count": null,
      "outputs": [
        {
          "output_type": "execute_result",
          "data": {
            "text/plain": [
              "{'bootstrap': True,\n",
              " 'class_weight': 'balanced_subsample',\n",
              " 'criterion': 'entropy',\n",
              " 'max_depth': 12,\n",
              " 'max_features': 'log2',\n",
              " 'min_samples_leaf': 2,\n",
              " 'min_samples_split': 2,\n",
              " 'n_estimators': 200}"
            ]
          },
          "metadata": {
            "tags": []
          },
          "execution_count": 59
        }
      ]
    },
    {
      "cell_type": "code",
      "metadata": {
        "id": "NTSu3BWbMVVq"
      },
      "source": [
        " modelRFC = RFC.best_estimator_"
      ],
      "execution_count": null,
      "outputs": []
    },
    {
      "cell_type": "code",
      "metadata": {
        "colab": {
          "base_uri": "https://localhost:8080/"
        },
        "id": "1YcAgf_4MVVr",
        "outputId": "ce7331c9-1e8d-4273-8863-0c9a05d0cd29"
      },
      "source": [
        "y_pred = modelRFC.predict(x_test)\n",
        "y_pred"
      ],
      "execution_count": null,
      "outputs": [
        {
          "output_type": "execute_result",
          "data": {
            "text/plain": [
              "array([2, 2, 1, 2, 2, 1, 2, 2, 2, 1, 0, 0, 1, 2, 3, 1, 0, 3, 1, 3, 3, 0,\n",
              "       3, 1, 3, 1, 0, 3, 3, 3, 0, 2, 3, 3, 0, 1, 1, 2, 0, 0, 0, 0, 3, 2,\n",
              "       1, 3, 1, 1, 2, 2, 3, 1, 2, 1, 1, 3, 2, 3, 2, 2, 1, 1, 3, 3, 1, 1,\n",
              "       2, 0, 0, 2, 3, 2, 2, 3, 2, 3, 1, 3, 0, 3, 0, 3, 1, 1, 0, 3, 2, 1,\n",
              "       0, 2, 2, 3, 2, 1, 2, 3, 0, 2, 1, 0, 2, 1, 3, 1, 1, 0, 3, 3, 0, 2,\n",
              "       0, 1, 1, 3, 1, 3, 1, 1, 2, 0, 1, 0, 1, 1, 1, 0, 1, 3, 3, 2, 0, 3,\n",
              "       1, 0, 1, 2, 1, 1, 0, 0, 0, 2, 3, 3, 2, 0, 0, 3, 1, 3, 0, 0, 0, 1,\n",
              "       1, 2, 3, 1, 3, 1, 1, 3, 0, 2, 2, 1, 3, 3, 0, 1, 1, 3, 3, 1, 2, 3,\n",
              "       3, 2, 0, 0, 3, 3, 0, 2, 2, 0, 0, 3, 1, 2, 0, 2, 1, 0, 2, 1, 2, 3,\n",
              "       3, 2, 2, 2, 1, 1, 3, 0, 2, 3, 1, 3, 3, 3, 0, 1, 3, 1, 2, 2, 2, 2,\n",
              "       3, 3, 3, 0, 1, 0, 1, 3, 3, 0, 1, 3, 2, 3, 2, 1, 1, 0, 1, 2, 2, 3,\n",
              "       2, 2, 1, 3, 1, 2, 3, 0, 3, 2, 1, 3, 1, 2, 1, 0, 3, 0, 3, 0, 2, 3,\n",
              "       0, 2, 0, 0, 0, 1, 0, 3, 3, 3, 1, 0, 0, 2, 1, 2, 0, 1, 0, 0, 3, 3,\n",
              "       3, 1, 0, 3, 0, 3, 1, 0, 3, 0, 3, 0, 0, 2, 3, 2, 1, 3, 2, 0, 1, 3,\n",
              "       3, 0, 3, 1, 0, 0, 2, 2, 2, 3, 2, 1, 2, 0, 3, 0, 1, 2, 0, 3, 2, 1,\n",
              "       2, 2, 1, 1, 1, 1, 0, 0, 1, 2, 0, 2, 0, 2, 1, 3, 1, 2, 3, 3, 0, 2,\n",
              "       1, 1, 1, 1, 2, 2, 0, 0, 3, 2, 2, 2, 2, 1, 0, 2, 0, 0, 0, 1, 3, 1,\n",
              "       3, 2, 2, 2, 1, 2, 1, 0, 1, 3, 1, 1, 0, 2, 3, 1, 3, 3, 3, 3, 2, 0,\n",
              "       2, 1, 2, 3, 0, 2, 0, 2, 1, 1, 2, 1, 0, 3, 0, 3, 3, 2, 2, 2, 1, 2,\n",
              "       2, 1, 2, 0, 0, 1, 3, 2, 0, 0, 2, 0, 3, 0, 0, 3, 2, 3, 0, 0, 0, 2,\n",
              "       1, 0, 0, 1, 2, 0, 1, 1, 0, 2, 0, 0, 0, 2, 0, 1, 3, 0, 0, 0, 2, 1,\n",
              "       0, 2, 3, 1, 1, 2, 3, 0, 3, 2, 1, 3, 2, 2, 3, 3, 1, 1, 0, 1, 1, 0,\n",
              "       1, 1, 0, 0, 3, 1, 2, 0, 2, 2, 1, 0, 0, 3, 2, 0])"
            ]
          },
          "metadata": {
            "tags": []
          },
          "execution_count": 61
        }
      ]
    },
    {
      "cell_type": "code",
      "metadata": {
        "id": "gNLwuAMQMVVs"
      },
      "source": [
        "subRFC = pd.DataFrame({'index':dataTest['index'], 'price_range':y_pred})\n",
        "subRFC.to_csv('submissionRFC.csv', index=False)"
      ],
      "execution_count": null,
      "outputs": []
    },
    {
      "cell_type": "code",
      "metadata": {
        "id": "kaOGg1V6MVVt",
        "colab": {
          "base_uri": "https://localhost:8080/",
          "height": 416
        },
        "outputId": "ff936197-5666-4ca9-d72a-65fa4d535fb6"
      },
      "source": [
        "subRFC"
      ],
      "execution_count": null,
      "outputs": [
        {
          "output_type": "execute_result",
          "data": {
            "text/html": [
              "<div>\n",
              "<style scoped>\n",
              "    .dataframe tbody tr th:only-of-type {\n",
              "        vertical-align: middle;\n",
              "    }\n",
              "\n",
              "    .dataframe tbody tr th {\n",
              "        vertical-align: top;\n",
              "    }\n",
              "\n",
              "    .dataframe thead th {\n",
              "        text-align: right;\n",
              "    }\n",
              "</style>\n",
              "<table border=\"1\" class=\"dataframe\">\n",
              "  <thead>\n",
              "    <tr style=\"text-align: right;\">\n",
              "      <th></th>\n",
              "      <th>index</th>\n",
              "      <th>price_range</th>\n",
              "    </tr>\n",
              "  </thead>\n",
              "  <tbody>\n",
              "    <tr>\n",
              "      <th>0</th>\n",
              "      <td>405</td>\n",
              "      <td>2</td>\n",
              "    </tr>\n",
              "    <tr>\n",
              "      <th>1</th>\n",
              "      <td>1190</td>\n",
              "      <td>2</td>\n",
              "    </tr>\n",
              "    <tr>\n",
              "      <th>2</th>\n",
              "      <td>1132</td>\n",
              "      <td>1</td>\n",
              "    </tr>\n",
              "    <tr>\n",
              "      <th>3</th>\n",
              "      <td>731</td>\n",
              "      <td>2</td>\n",
              "    </tr>\n",
              "    <tr>\n",
              "      <th>4</th>\n",
              "      <td>1754</td>\n",
              "      <td>2</td>\n",
              "    </tr>\n",
              "    <tr>\n",
              "      <th>...</th>\n",
              "      <td>...</td>\n",
              "      <td>...</td>\n",
              "    </tr>\n",
              "    <tr>\n",
              "      <th>495</th>\n",
              "      <td>936</td>\n",
              "      <td>0</td>\n",
              "    </tr>\n",
              "    <tr>\n",
              "      <th>496</th>\n",
              "      <td>1524</td>\n",
              "      <td>0</td>\n",
              "    </tr>\n",
              "    <tr>\n",
              "      <th>497</th>\n",
              "      <td>1415</td>\n",
              "      <td>3</td>\n",
              "    </tr>\n",
              "    <tr>\n",
              "      <th>498</th>\n",
              "      <td>1223</td>\n",
              "      <td>2</td>\n",
              "    </tr>\n",
              "    <tr>\n",
              "      <th>499</th>\n",
              "      <td>1548</td>\n",
              "      <td>0</td>\n",
              "    </tr>\n",
              "  </tbody>\n",
              "</table>\n",
              "<p>500 rows × 2 columns</p>\n",
              "</div>"
            ],
            "text/plain": [
              "     index  price_range\n",
              "0      405            2\n",
              "1     1190            2\n",
              "2     1132            1\n",
              "3      731            2\n",
              "4     1754            2\n",
              "..     ...          ...\n",
              "495    936            0\n",
              "496   1524            0\n",
              "497   1415            3\n",
              "498   1223            2\n",
              "499   1548            0\n",
              "\n",
              "[500 rows x 2 columns]"
            ]
          },
          "metadata": {
            "tags": []
          },
          "execution_count": 63
        }
      ]
    }
  ]
}